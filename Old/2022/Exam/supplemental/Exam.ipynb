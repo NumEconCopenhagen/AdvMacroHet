{
 "cells": [
  {
   "cell_type": "markdown",
   "metadata": {},
   "source": [
    "# Imports"
   ]
  },
  {
   "cell_type": "code",
   "execution_count": 1,
   "metadata": {},
   "outputs": [],
   "source": [
    "%load_ext autoreload\n",
    "%autoreload 2\n",
    "\n",
    "import time\n",
    "import pickle\n",
    "import numpy as np\n",
    "from scipy import optimize\n",
    "\n",
    "import matplotlib.pyplot as plt  \n",
    "colors = plt.rcParams['axes.prop_cycle'].by_key()['color'] \n",
    "\n",
    "from HANCModel import HANCModelClass"
   ]
  },
  {
   "cell_type": "markdown",
   "metadata": {
    "tags": []
   },
   "source": [
    "# Setup"
   ]
  },
  {
   "cell_type": "code",
   "execution_count": 2,
   "metadata": {},
   "outputs": [],
   "source": [
    "model = HANCModelClass(name='baseline')"
   ]
  },
  {
   "cell_type": "code",
   "execution_count": 3,
   "metadata": {},
   "outputs": [],
   "source": [
    "par = model.par\n",
    "ss = model.ss\n",
    "path = model.path"
   ]
  },
  {
   "cell_type": "markdown",
   "metadata": {},
   "source": [
    "# Find stationary equilibrium"
   ]
  },
  {
   "cell_type": "code",
   "execution_count": 4,
   "metadata": {},
   "outputs": [
    {
     "name": "stdout",
     "output_type": "stream",
     "text": [
      "### step 1: broad search ###\n",
      "\n",
      "implied ss.r = 0.0000\n",
      "implied ss.w = 1.1209\n",
      "household problem in ss solved in 2.3 secs [222 iterations]\n",
      "household problem in ss simulated in 4.0 secs [205 iterations]\n",
      "implied ss.C_hh = 1.1209\n",
      "implied ss.A_hh = 0.1922\n",
      "clearing_A =  -4.61178986\n",
      "\n",
      "implied ss.r = 0.0044\n",
      "implied ss.w = 1.1002\n",
      "household problem in ss solved in 0.0 secs [245 iterations]\n",
      "household problem in ss simulated in 0.0 secs [239 iterations]\n",
      "implied ss.C_hh = 1.1015\n",
      "implied ss.A_hh = 0.2812\n",
      "clearing_A =  -4.23343205\n",
      "\n",
      "implied ss.r = 0.0089\n",
      "implied ss.w = 1.0808\n",
      "household problem in ss solved in 0.0 secs [270 iterations]\n",
      "household problem in ss simulated in 0.0 secs [283 iterations]\n",
      "implied ss.C_hh = 1.0844\n",
      "implied ss.A_hh = 0.4094\n",
      "clearing_A =  -3.84427702\n",
      "\n",
      "implied ss.r = 0.0133\n",
      "implied ss.w = 1.0624\n",
      "household problem in ss solved in 0.0 secs [300 iterations]\n",
      "household problem in ss simulated in 0.0 secs [343 iterations]\n",
      "implied ss.C_hh = 1.0704\n",
      "implied ss.A_hh = 0.5982\n",
      "clearing_A =  -3.41918278\n",
      "\n",
      "implied ss.r = 0.0178\n",
      "implied ss.w = 1.0450\n",
      "household problem in ss solved in 0.0 secs [327 iterations]\n",
      "household problem in ss simulated in 0.0 secs [420 iterations]\n",
      "implied ss.C_hh = 1.0608\n",
      "implied ss.A_hh = 0.8861\n",
      "clearing_A =  -2.91647844\n",
      "\n",
      "implied ss.r = 0.0222\n",
      "implied ss.w = 1.0286\n",
      "household problem in ss solved in 0.1 secs [382 iterations]\n",
      "household problem in ss simulated in 0.0 secs [550 iterations]\n",
      "implied ss.C_hh = 1.0586\n",
      "implied ss.A_hh = 1.3526\n",
      "clearing_A =  -2.25398861\n",
      "\n",
      "implied ss.r = 0.0267\n",
      "implied ss.w = 1.0129\n",
      "household problem in ss solved in 0.1 secs [456 iterations]\n",
      "household problem in ss simulated in 0.1 secs [772 iterations]\n",
      "implied ss.C_hh = 1.0705\n",
      "implied ss.A_hh = 2.1581\n",
      "clearing_A =  -1.26911605\n",
      "\n",
      "implied ss.r = 0.0311\n",
      "implied ss.w = 0.9981\n",
      "household problem in ss solved in 0.1 secs [536 iterations]\n",
      "household problem in ss simulated in 0.2 secs [1223 iterations]\n",
      "implied ss.C_hh = 1.1140\n",
      "implied ss.A_hh = 3.7275\n",
      "clearing_A =   0.46506282\n",
      "\n",
      "implied ss.r = 0.0356\n",
      "implied ss.w = 0.9839\n",
      "household problem in ss solved in 0.1 secs [611 iterations]\n",
      "household problem in ss simulated in 0.4 secs [2457 iterations]\n",
      "implied ss.C_hh = 1.2555\n",
      "implied ss.A_hh = 7.6381\n",
      "clearing_A =   4.52739058\n",
      "\n",
      "implied ss.r = 0.0400\n",
      "implied ss.w = 0.9704\n",
      "household problem in ss solved in 0.1 secs [636 iterations]\n",
      "household problem in ss simulated in 1.7 secs [9831 iterations]\n",
      "implied ss.C_hh = 2.0835\n",
      "implied ss.A_hh = 27.8343\n",
      "clearing_A =  24.86372092\n",
      "\n",
      "### step 2: determine search bracket ###\n",
      "\n",
      "r in [  0.02666667,  0.03111111]\n",
      "\n",
      "### step 3: search ###\n",
      "\n",
      "done\n",
      "\n",
      "implied ss.r = 0.0302\n",
      "implied ss.w = 1.0011\n",
      "household problem in ss solved in 0.1 secs [519 iterations]\n",
      "household problem in ss simulated in 0.1 secs [1096 iterations]\n",
      "implied ss.C_hh = 1.1006\n",
      "implied ss.A_hh = 3.2956\n"
     ]
    }
   ],
   "source": [
    "model.find_ss(do_print=True)"
   ]
  }
 ],
 "metadata": {
  "kernelspec": {
   "display_name": "Python 3 (ipykernel)",
   "language": "python",
   "name": "python3"
  },
  "language_info": {
   "codemirror_mode": {
    "name": "ipython",
    "version": 3
   },
   "file_extension": ".py",
   "mimetype": "text/x-python",
   "name": "python",
   "nbconvert_exporter": "python",
   "pygments_lexer": "ipython3",
   "version": "3.9.10"
  },
  "toc-autonumbering": true
 },
 "nbformat": 4,
 "nbformat_minor": 4
}
