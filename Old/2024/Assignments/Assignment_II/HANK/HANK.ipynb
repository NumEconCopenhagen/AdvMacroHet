{
 "cells": [
  {
   "cell_type": "markdown",
   "metadata": {},
   "source": [
    "# <a id='toc1_'></a>[Assignment II](#toc0_)"
   ]
  },
  {
   "cell_type": "code",
   "execution_count": 2,
   "metadata": {},
   "outputs": [
    {
     "name": "stdout",
     "output_type": "stream",
     "text": [
      "The autoreload extension is already loaded. To reload it, use:\n",
      "  %reload_ext autoreload\n"
     ]
    }
   ],
   "source": [
    "%load_ext autoreload\n",
    "%autoreload 2\n",
    "\n",
    "import numpy as np\n",
    "import matplotlib.pyplot as plt   \n",
    "colors = plt.rcParams['axes.prop_cycle'].by_key()['color']\n",
    "plt.rcParams.update({\"axes.grid\" : True, \"grid.color\": \"black\", \"grid.alpha\":\"0.25\", \"grid.linestyle\": \"--\"})\n",
    "plt.rcParams.update({'font.size': 14})\n",
    "from HANKModel import create_model"
   ]
  },
  {
   "cell_type": "markdown",
   "metadata": {},
   "source": [
    "**Table of contents**<a id='toc0_'></a>    \n",
    "- [Assignment II](#toc1_)    \n",
    "  - [Q1](#toc1_1_)    \n",
    "  - [Q2](#toc1_2_)    \n",
    "  - [Q3](#toc1_3_)    \n",
    "  - [Q4](#toc1_4_)    \n",
    "\n",
    "<!-- vscode-jupyter-toc-config\n",
    "\tnumbering=false\n",
    "\tanchor=true\n",
    "\tflat=false\n",
    "\tminLevel=1\n",
    "\tmaxLevel=6\n",
    "\t/vscode-jupyter-toc-config -->\n",
    "<!-- THIS CELL WILL BE REPLACED ON TOC UPDATE. DO NOT WRITE YOUR TEXT IN THIS CELL -->"
   ]
  },
  {
   "cell_type": "markdown",
   "metadata": {},
   "source": [
    "## <a id='toc1_1_'></a>[Q1](#toc0_)"
   ]
  },
  {
   "cell_type": "markdown",
   "metadata": {},
   "source": [
    "Setup"
   ]
  },
  {
   "cell_type": "code",
   "execution_count": 3,
   "metadata": {},
   "outputs": [],
   "source": [
    "model = create_model(name='baseline', par={'HH_type' : 'HANK'})"
   ]
  },
  {
   "cell_type": "markdown",
   "metadata": {},
   "source": [
    "Steady state "
   ]
  },
  {
   "cell_type": "code",
   "execution_count": 4,
   "metadata": {},
   "outputs": [
    {
     "name": "stdout",
     "output_type": "stream",
     "text": [
      "steady state found in 6.3 secs\n",
      " beta =   0.9744\n",
      " r    =   0.0200\n",
      " B   =   2.6308\n",
      "Discrepancy in A =   0.00000000\n",
      "Discrepancy in Y =   0.00000000\n"
     ]
    }
   ],
   "source": [
    "model.find_ss(do_print=False)"
   ]
  },
  {
   "cell_type": "code",
   "execution_count": 5,
   "metadata": {},
   "outputs": [
    {
     "name": "stdout",
     "output_type": "stream",
     "text": [
      "shocks: epsT \n",
      "unknowns: pi L B w \n",
      "\n",
      "look at max(abs(path.VARNAME[:]-ss.VARNAME)):\n",
      "\n",
      " blocks.production\n",
      "  Y                0.0e+00\n",
      "  NKPC_res         0.0e+00 [target]\n",
      "  profits          0.0e+00\n",
      " blocks.central_bank\n",
      "  r                0.0e+00\n",
      " blocks.government\n",
      "  Taxes            1.4e-17\n",
      "  gov_budget       0.0e+00 [target]\n",
      "  LT               0.0e+00\n",
      " hh\n",
      "  A_hh             1.5e-09\n",
      "  C_hh             6.6e-11\n",
      "  MUC_hh           2.2e-10\n",
      " blocks.labor_supply\n",
      "  labor_supply_res  1.3e-10 [target]\n",
      " blocks.market_clearing\n",
      "  A                0.0e+00\n",
      "  clearing_A       1.5e-09\n",
      "  clearing_Y       4.4e-11 [target]\n"
     ]
    }
   ],
   "source": [
    "model.test_path()"
   ]
  },
  {
   "cell_type": "markdown",
   "metadata": {},
   "source": [
    "Transition path"
   ]
  },
  {
   "cell_type": "code",
   "execution_count": 11,
   "metadata": {},
   "outputs": [],
   "source": [
    "model.compute_jacs(do_print=False)\n",
    "model.find_transition_path(shocks=['epsT'],do_print=False, do_end_check=False)"
   ]
  },
  {
   "cell_type": "code",
   "execution_count": 32,
   "metadata": {},
   "outputs": [
    {
     "data": {
      "text/plain": [
       "2.6307792904971796"
      ]
     },
     "execution_count": 32,
     "metadata": {},
     "output_type": "execute_result"
    }
   ],
   "source": [
    "model.ss.B"
   ]
  },
  {
   "cell_type": "code",
   "execution_count": 34,
   "metadata": {},
   "outputs": [
    {
     "ename": "KeyboardInterrupt",
     "evalue": "",
     "output_type": "error",
     "traceback": [
      "\u001b[0;31m---------------------------------------------------------------------------\u001b[0m",
      "\u001b[0;31mKeyboardInterrupt\u001b[0m                         Traceback (most recent call last)",
      "Cell \u001b[0;32mIn[34], line 9\u001b[0m\n\u001b[1;32m      6\u001b[0m \u001b[38;5;28;01mfor\u001b[39;00m H \u001b[38;5;129;01min\u001b[39;00m Hs:\n\u001b[1;32m      7\u001b[0m     model\u001b[38;5;241m.\u001b[39mpar\u001b[38;5;241m.\u001b[39mH \u001b[38;5;241m=\u001b[39m H\n\u001b[0;32m----> 9\u001b[0m     \u001b[43mmodel\u001b[49m\u001b[38;5;241;43m.\u001b[39;49m\u001b[43mfind_transition_path\u001b[49m\u001b[43m(\u001b[49m\u001b[43mshocks\u001b[49m\u001b[38;5;241;43m=\u001b[39;49m\u001b[43m[\u001b[49m\u001b[38;5;124;43m'\u001b[39;49m\u001b[38;5;124;43mepsT\u001b[39;49m\u001b[38;5;124;43m'\u001b[39;49m\u001b[43m]\u001b[49m\u001b[43m,\u001b[49m\u001b[43mdo_print\u001b[49m\u001b[38;5;241;43m=\u001b[39;49m\u001b[38;5;28;43;01mFalse\u001b[39;49;00m\u001b[43m,\u001b[49m\u001b[43m \u001b[49m\u001b[43mdo_end_check\u001b[49m\u001b[38;5;241;43m=\u001b[39;49m\u001b[38;5;28;43;01mFalse\u001b[39;49;00m\u001b[43m)\u001b[49m\n\u001b[1;32m     11\u001b[0m     plt\u001b[38;5;241m.\u001b[39mplot((model\u001b[38;5;241m.\u001b[39mpath\u001b[38;5;241m.\u001b[39mY \u001b[38;5;241m-\u001b[39m model\u001b[38;5;241m.\u001b[39mss\u001b[38;5;241m.\u001b[39mY)\u001b[38;5;241m/\u001b[39mmodel\u001b[38;5;241m.\u001b[39mss\u001b[38;5;241m.\u001b[39mY\u001b[38;5;241m*\u001b[39m\u001b[38;5;241m100\u001b[39m, label\u001b[38;5;241m=\u001b[39m\u001b[38;5;124mf\u001b[39m\u001b[38;5;124m'\u001b[39m\u001b[38;5;124mH=\u001b[39m\u001b[38;5;132;01m{\u001b[39;00mH\u001b[38;5;132;01m}\u001b[39;00m\u001b[38;5;124m'\u001b[39m)\n\u001b[1;32m     13\u001b[0m     dY \u001b[38;5;241m=\u001b[39m model\u001b[38;5;241m.\u001b[39mpath\u001b[38;5;241m.\u001b[39mY \u001b[38;5;241m-\u001b[39m model\u001b[38;5;241m.\u001b[39mss\u001b[38;5;241m.\u001b[39mY\n",
      "File \u001b[0;32m~/Documents/GEModelTools-master/GEModelTools/GEModelClass.py:1697\u001b[0m, in \u001b[0;36mGEModelClass.find_transition_path\u001b[0;34m(self, shocks, ini, unknowns_ss, do_end_check, do_print, do_print_unknowns)\u001b[0m\n\u001b[1;32m   1694\u001b[0m obj \u001b[38;5;241m=\u001b[39m \u001b[38;5;28;01mlambda\u001b[39;00m x: \u001b[38;5;28mself\u001b[39m\u001b[38;5;241m.\u001b[39m_evaluate_H(x)\n\u001b[1;32m   1696\u001b[0m \u001b[38;5;28;01mif\u001b[39;00m do_print: \u001b[38;5;28mprint\u001b[39m(\u001b[38;5;124mf\u001b[39m\u001b[38;5;124m'\u001b[39m\u001b[38;5;124mfinding the transition path:\u001b[39m\u001b[38;5;124m'\u001b[39m)\n\u001b[0;32m-> 1697\u001b[0m x \u001b[38;5;241m=\u001b[39m \u001b[43mbroyden_solver\u001b[49m\u001b[43m(\u001b[49m\u001b[43mobj\u001b[49m\u001b[43m,\u001b[49m\u001b[43mx0\u001b[49m\u001b[43m,\u001b[49m\u001b[38;5;28;43mself\u001b[39;49m\u001b[38;5;241;43m.\u001b[39;49m\u001b[43mH_U\u001b[49m\u001b[43m,\u001b[49m\n\u001b[1;32m   1698\u001b[0m \u001b[43m    \u001b[49m\u001b[43mtol\u001b[49m\u001b[38;5;241;43m=\u001b[39;49m\u001b[43mpar\u001b[49m\u001b[38;5;241;43m.\u001b[39;49m\u001b[43mtol_broyden\u001b[49m\u001b[43m,\u001b[49m\n\u001b[1;32m   1699\u001b[0m \u001b[43m    \u001b[49m\u001b[43mmax_iter\u001b[49m\u001b[38;5;241;43m=\u001b[39;49m\u001b[43mpar\u001b[49m\u001b[38;5;241;43m.\u001b[39;49m\u001b[43mmax_iter_broyden\u001b[49m\u001b[43m,\u001b[49m\n\u001b[1;32m   1700\u001b[0m \u001b[43m    \u001b[49m\u001b[43mmodel\u001b[49m\u001b[38;5;241;43m=\u001b[39;49m\u001b[38;5;28;43mself\u001b[39;49m\u001b[43m,\u001b[49m\n\u001b[1;32m   1701\u001b[0m \u001b[43m    \u001b[49m\u001b[43mdo_print\u001b[49m\u001b[38;5;241;43m=\u001b[39;49m\u001b[43mdo_print\u001b[49m\u001b[43m,\u001b[49m\n\u001b[1;32m   1702\u001b[0m \u001b[43m    \u001b[49m\u001b[43mdo_print_unknowns\u001b[49m\u001b[38;5;241;43m=\u001b[39;49m\u001b[43mdo_print_unknowns\u001b[49m\u001b[43m)\u001b[49m\n\u001b[1;32m   1704\u001b[0m \u001b[38;5;66;03m# e. final evaluation\u001b[39;00m\n\u001b[1;32m   1705\u001b[0m obj(x)\n",
      "File \u001b[0;32m~/Documents/GEModelTools-master/GEModelTools/broyden_solver.py:49\u001b[0m, in \u001b[0;36mbroyden_solver\u001b[0;34m(f, x0, jac, tol, max_iter, backtrack_fac, max_backtrack, max_no_improvement, do_print, do_print_unknowns, model, fixed_jac)\u001b[0m\n\u001b[1;32m     46\u001b[0m \u001b[38;5;28;01mif\u001b[39;00m abs_diff \u001b[38;5;241m<\u001b[39m tol: \u001b[38;5;28;01mreturn\u001b[39;00m x\n\u001b[1;32m     48\u001b[0m \u001b[38;5;66;03m# ii. new x\u001b[39;00m\n\u001b[0;32m---> 49\u001b[0m dx \u001b[38;5;241m=\u001b[39m \u001b[43mnp\u001b[49m\u001b[38;5;241;43m.\u001b[39;49m\u001b[43mlinalg\u001b[49m\u001b[38;5;241;43m.\u001b[39;49m\u001b[43msolve\u001b[49m\u001b[43m(\u001b[49m\u001b[43mjac\u001b[49m\u001b[43m,\u001b[49m\u001b[38;5;241;43m-\u001b[39;49m\u001b[43my\u001b[49m\u001b[43m)\u001b[49m\n\u001b[1;32m     51\u001b[0m \u001b[38;5;66;03m# iii. evalute with backtrack\u001b[39;00m\n\u001b[1;32m     52\u001b[0m \u001b[38;5;28;01mfor\u001b[39;00m _ \u001b[38;5;129;01min\u001b[39;00m \u001b[38;5;28mrange\u001b[39m(max_backtrack):\n",
      "File \u001b[0;32m/opt/anaconda3/lib/python3.12/site-packages/numpy/linalg/linalg.py:409\u001b[0m, in \u001b[0;36msolve\u001b[0;34m(a, b)\u001b[0m\n\u001b[1;32m    407\u001b[0m signature \u001b[38;5;241m=\u001b[39m \u001b[38;5;124m'\u001b[39m\u001b[38;5;124mDD->D\u001b[39m\u001b[38;5;124m'\u001b[39m \u001b[38;5;28;01mif\u001b[39;00m isComplexType(t) \u001b[38;5;28;01melse\u001b[39;00m \u001b[38;5;124m'\u001b[39m\u001b[38;5;124mdd->d\u001b[39m\u001b[38;5;124m'\u001b[39m\n\u001b[1;32m    408\u001b[0m extobj \u001b[38;5;241m=\u001b[39m get_linalg_error_extobj(_raise_linalgerror_singular)\n\u001b[0;32m--> 409\u001b[0m r \u001b[38;5;241m=\u001b[39m \u001b[43mgufunc\u001b[49m\u001b[43m(\u001b[49m\u001b[43ma\u001b[49m\u001b[43m,\u001b[49m\u001b[43m \u001b[49m\u001b[43mb\u001b[49m\u001b[43m,\u001b[49m\u001b[43m \u001b[49m\u001b[43msignature\u001b[49m\u001b[38;5;241;43m=\u001b[39;49m\u001b[43msignature\u001b[49m\u001b[43m,\u001b[49m\u001b[43m \u001b[49m\u001b[43mextobj\u001b[49m\u001b[38;5;241;43m=\u001b[39;49m\u001b[43mextobj\u001b[49m\u001b[43m)\u001b[49m\n\u001b[1;32m    411\u001b[0m \u001b[38;5;28;01mreturn\u001b[39;00m wrap(r\u001b[38;5;241m.\u001b[39mastype(result_t, copy\u001b[38;5;241m=\u001b[39m\u001b[38;5;28;01mFalse\u001b[39;00m))\n",
      "\u001b[0;31mKeyboardInterrupt\u001b[0m: "
     ]
    }
   ],
   "source": [
    "model.compute_jacs(do_print=False)\n",
    "R = (1/(1+model.ss.r))**np.arange(model.par.T)\n",
    "tau = model.par.tau\n",
    "Hs = [0, 20, 40]\n",
    "\n",
    "for H in Hs:\n",
    "    model.par.H = H\n",
    "    \n",
    "    model.find_transition_path(shocks=['epsT'],do_print=True, do_end_check=True)\n",
    "\n",
    "    plt.plot((model.path.Y - model.ss.Y)/model.ss.Y*100, label=f'H={H}')\n",
    "\n",
    "    dY = model.path.Y - model.ss.Y\n",
    "    dB0 = model.path.B[0] - model.ss.B\n",
    "    print(np.sum(R*tau*dY)/dB0)\n",
    "\n",
    "plt.legend()\n",
    "plt.show()"
   ]
  },
  {
   "cell_type": "code",
   "execution_count": 20,
   "metadata": {},
   "outputs": [
    {
     "data": {
      "text/plain": [
       "array([0.00904654])"
      ]
     },
     "execution_count": 20,
     "metadata": {},
     "output_type": "execute_result"
    }
   ],
   "source": [
    "dB0"
   ]
  },
  {
   "cell_type": "markdown",
   "metadata": {},
   "source": [
    "## <a id='toc1_2_'></a>[Q2](#toc0_)"
   ]
  },
  {
   "cell_type": "markdown",
   "metadata": {},
   "source": [
    "Setup"
   ]
  },
  {
   "cell_type": "code",
   "execution_count": 8,
   "metadata": {},
   "outputs": [],
   "source": [
    "model_TANK = create_model(name='TANK', par={'HH_type' : 'TANK'})"
   ]
  },
  {
   "cell_type": "markdown",
   "metadata": {},
   "source": [
    "Steady state"
   ]
  },
  {
   "cell_type": "code",
   "execution_count": 9,
   "metadata": {},
   "outputs": [
    {
     "ename": "TypeError",
     "evalue": "unsupported operand type(s) for *: 'float' and 'ellipsis'",
     "output_type": "error",
     "traceback": [
      "\u001b[0;31m---------------------------------------------------------------------------\u001b[0m",
      "\u001b[0;31mTypeError\u001b[0m                                 Traceback (most recent call last)",
      "Cell \u001b[0;32mIn[9], line 3\u001b[0m\n\u001b[1;32m      1\u001b[0m model_TANK\u001b[38;5;241m.\u001b[39mpar\u001b[38;5;241m.\u001b[39mB_target_ss \u001b[38;5;241m=\u001b[39m \u001b[38;5;241m.\u001b[39m\u001b[38;5;241m.\u001b[39m\u001b[38;5;241m.\u001b[39m\n\u001b[1;32m      2\u001b[0m model_TANK\u001b[38;5;241m.\u001b[39mpar\u001b[38;5;241m.\u001b[39mbeta \u001b[38;5;241m=\u001b[39m \u001b[38;5;241m.\u001b[39m\u001b[38;5;241m.\u001b[39m\u001b[38;5;241m.\u001b[39m\n\u001b[0;32m----> 3\u001b[0m \u001b[43mmodel_TANK\u001b[49m\u001b[38;5;241;43m.\u001b[39;49m\u001b[43mfind_ss\u001b[49m\u001b[43m(\u001b[49m\u001b[43mcalibrate\u001b[49m\u001b[38;5;241;43m=\u001b[39;49m\u001b[38;5;28;43;01mFalse\u001b[39;49;00m\u001b[43m)\u001b[49m\n",
      "File \u001b[0;32m~/Documents/_projects/AdvMacroHet/Old/2024/Assignments/Assignment_II/HANK/steady_state.py:168\u001b[0m, in \u001b[0;36mfind_ss\u001b[0;34m(model, do_print, x0, calibrate)\u001b[0m\n\u001b[1;32m    164\u001b[0m     obj_ss(res\u001b[38;5;241m.\u001b[39mx,model)\n\u001b[1;32m    166\u001b[0m \u001b[38;5;28;01melse\u001b[39;00m:\n\u001b[0;32m--> 168\u001b[0m     \u001b[43mevaluate_ss\u001b[49m\u001b[43m(\u001b[49m\u001b[43mmodel\u001b[49m\u001b[43m)\u001b[49m\n\u001b[1;32m    170\u001b[0m \u001b[38;5;66;03m# b. print\u001b[39;00m\n\u001b[1;32m    171\u001b[0m \u001b[38;5;28mprint\u001b[39m(\u001b[38;5;124mf\u001b[39m\u001b[38;5;124m'\u001b[39m\u001b[38;5;124msteady state found in \u001b[39m\u001b[38;5;132;01m{\u001b[39;00melapsed(t0)\u001b[38;5;132;01m}\u001b[39;00m\u001b[38;5;124m'\u001b[39m)\n",
      "File \u001b[0;32m~/Documents/_projects/AdvMacroHet/Old/2024/Assignments/Assignment_II/HANK/steady_state.py:93\u001b[0m, in \u001b[0;36mevaluate_ss\u001b[0;34m(model, do_print)\u001b[0m\n\u001b[1;32m     90\u001b[0m ss\u001b[38;5;241m.\u001b[39mprofits \u001b[38;5;241m=\u001b[39m ss\u001b[38;5;241m.\u001b[39mY \u001b[38;5;241m-\u001b[39m ss\u001b[38;5;241m.\u001b[39mw\u001b[38;5;241m*\u001b[39mss\u001b[38;5;241m.\u001b[39mL\n\u001b[1;32m     92\u001b[0m \u001b[38;5;66;03m# f. government\u001b[39;00m\n\u001b[0;32m---> 93\u001b[0m ss\u001b[38;5;241m.\u001b[39mTaxes \u001b[38;5;241m=\u001b[39m \u001b[43mss\u001b[49m\u001b[38;5;241;43m.\u001b[39;49m\u001b[43mr\u001b[49m\u001b[38;5;241;43m*\u001b[39;49m\u001b[43mss\u001b[49m\u001b[38;5;241;43m.\u001b[39;49m\u001b[43mB\u001b[49m \n\u001b[1;32m     94\u001b[0m ss\u001b[38;5;241m.\u001b[39mLT \u001b[38;5;241m=\u001b[39m ss\u001b[38;5;241m.\u001b[39mTaxes \u001b[38;5;241m-\u001b[39m par\u001b[38;5;241m.\u001b[39mtau\u001b[38;5;241m*\u001b[39m(ss\u001b[38;5;241m.\u001b[39mw\u001b[38;5;241m*\u001b[39mss\u001b[38;5;241m.\u001b[39mL \u001b[38;5;241m+\u001b[39m ss\u001b[38;5;241m.\u001b[39mprofits)\n\u001b[1;32m     96\u001b[0m \u001b[38;5;66;03m# g. households \u001b[39;00m\n",
      "\u001b[0;31mTypeError\u001b[0m: unsupported operand type(s) for *: 'float' and 'ellipsis'"
     ]
    }
   ],
   "source": [
    "model_TANK.par.B_target_ss = ...\n",
    "model_TANK.par.beta = ...\n",
    "model_TANK.find_ss(calibrate=False)"
   ]
  },
  {
   "cell_type": "code",
   "execution_count": null,
   "metadata": {},
   "outputs": [],
   "source": [
    "model_TANK.test_path() # Remember: You need to update blocks.py for the TANK model "
   ]
  },
  {
   "cell_type": "markdown",
   "metadata": {},
   "source": [
    "## <a id='toc1_3_'></a>[Q3](#toc0_)"
   ]
  },
  {
   "cell_type": "markdown",
   "metadata": {},
   "source": [
    "HANK model with low tax rate"
   ]
  },
  {
   "cell_type": "code",
   "execution_count": null,
   "metadata": {},
   "outputs": [],
   "source": [
    "model_low_tau = model.copy() \n",
    "model_low_tau.par.tau = 0.05\n",
    "model_low_tau.find_ss(do_print=False, x0=[0.967, 2.341])"
   ]
  },
  {
   "cell_type": "markdown",
   "metadata": {},
   "source": []
  },
  {
   "cell_type": "code",
   "execution_count": null,
   "metadata": {},
   "outputs": [],
   "source": [
    "model_low_tau.test_path()"
   ]
  },
  {
   "cell_type": "markdown",
   "metadata": {},
   "source": [
    "## <a id='toc1_4_'></a>[Q4](#toc0_)"
   ]
  },
  {
   "cell_type": "code",
   "execution_count": null,
   "metadata": {},
   "outputs": [],
   "source": []
  }
 ],
 "metadata": {
  "kernelspec": {
   "display_name": "base",
   "language": "python",
   "name": "python3"
  },
  "language_info": {
   "codemirror_mode": {
    "name": "ipython",
    "version": 3
   },
   "file_extension": ".py",
   "mimetype": "text/x-python",
   "name": "python",
   "nbconvert_exporter": "python",
   "pygments_lexer": "ipython3",
   "version": "3.12.2"
  },
  "toc-autonumbering": true
 },
 "nbformat": 4,
 "nbformat_minor": 4
}
