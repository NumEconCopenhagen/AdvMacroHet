{
 "cells": [
  {
   "cell_type": "markdown",
   "id": "7e6af97e",
   "metadata": {},
   "source": [
    "# <a id='toc1_'></a>[The Fiscal Policy in the New Keynesian model](#toc0_)"
   ]
  },
  {
   "cell_type": "markdown",
   "id": "5bcf3cff",
   "metadata": {},
   "source": [
    "**Table of contents**<a id='toc0_'></a>    \n",
    "- [The Fiscal Policy in the New Keynesian model](#toc1_)    \n",
    "  - [Q1](#toc1_1_)    \n",
    "  - [Q2](#toc1_2_)    \n",
    "  - [Q3](#toc1_3_)    \n",
    "  - [Q4](#toc1_4_)    \n",
    "  - [Q5](#toc1_5_)    \n",
    "  - [Q6](#toc1_6_)    \n",
    "\n",
    "<!-- vscode-jupyter-toc-config\n",
    "\tnumbering=false\n",
    "\tanchor=true\n",
    "\tflat=false\n",
    "\tminLevel=1\n",
    "\tmaxLevel=6\n",
    "\t/vscode-jupyter-toc-config -->\n",
    "<!-- THIS CELL WILL BE REPLACED ON TOC UPDATE. DO NOT WRITE YOUR TEXT IN THIS CELL -->"
   ]
  },
  {
   "cell_type": "code",
   "execution_count": 1,
   "id": "bede397a",
   "metadata": {},
   "outputs": [],
   "source": [
    "%load_ext autoreload\n",
    "%autoreload 2\n",
    "\n",
    "import numpy as np\n",
    "import RANKModel \n",
    "import matplotlib.pyplot as plt   \n",
    "colors = plt.rcParams['axes.prop_cycle'].by_key()['color']\n",
    "plt.rcParams.update({\"axes.grid\" : True, \"grid.color\": \"black\", \"grid.alpha\":\"0.25\", \"grid.linestyle\": \"--\"})\n",
    "plt.rcParams.update({'font.size': 14})"
   ]
  },
  {
   "cell_type": "code",
   "execution_count": 2,
   "id": "0cf612ae-18b6-4515-8f75-84e72660082d",
   "metadata": {},
   "outputs": [],
   "source": [
    "model = RANKModel.NKModelClass(name='baseline')\n",
    "model.find_ss()"
   ]
  },
  {
   "cell_type": "code",
   "execution_count": null,
   "id": "3fce210a",
   "metadata": {},
   "outputs": [],
   "source": [
    "model.test_path()"
   ]
  },
  {
   "cell_type": "markdown",
   "id": "ea0a27ff",
   "metadata": {},
   "source": [
    "## <a id='toc1_1_'></a>[Q1](#toc0_)"
   ]
  },
  {
   "cell_type": "code",
   "execution_count": null,
   "id": "b1f9f8a3",
   "metadata": {},
   "outputs": [],
   "source": []
  },
  {
   "cell_type": "markdown",
   "id": "55dede85",
   "metadata": {},
   "source": [
    "## <a id='toc1_2_'></a>[Q2](#toc0_)"
   ]
  },
  {
   "cell_type": "code",
   "execution_count": null,
   "id": "ed0ed131",
   "metadata": {},
   "outputs": [],
   "source": []
  },
  {
   "cell_type": "markdown",
   "id": "eaa013c5",
   "metadata": {},
   "source": [
    "## <a id='toc1_3_'></a>[Q3](#toc0_)"
   ]
  },
  {
   "cell_type": "code",
   "execution_count": null,
   "id": "a9d92c1e",
   "metadata": {},
   "outputs": [],
   "source": []
  },
  {
   "cell_type": "markdown",
   "id": "92196984",
   "metadata": {},
   "source": [
    "## <a id='toc1_4_'></a>[Q4](#toc0_)"
   ]
  },
  {
   "cell_type": "code",
   "execution_count": null,
   "id": "2f8b0a70",
   "metadata": {},
   "outputs": [],
   "source": []
  },
  {
   "cell_type": "markdown",
   "id": "8d541cc4",
   "metadata": {},
   "source": [
    "## <a id='toc1_5_'></a>[Q5](#toc0_)"
   ]
  },
  {
   "cell_type": "code",
   "execution_count": null,
   "id": "ac7fafcf",
   "metadata": {},
   "outputs": [],
   "source": []
  },
  {
   "cell_type": "markdown",
   "id": "ac9a9837",
   "metadata": {},
   "source": [
    "## <a id='toc1_6_'></a>[Q6](#toc0_)"
   ]
  },
  {
   "cell_type": "code",
   "execution_count": null,
   "id": "7ed4a45a",
   "metadata": {},
   "outputs": [],
   "source": []
  }
 ],
 "metadata": {
  "kernelspec": {
   "display_name": "base",
   "language": "python",
   "name": "python3"
  },
  "language_info": {
   "codemirror_mode": {
    "name": "ipython",
    "version": 3
   },
   "file_extension": ".py",
   "mimetype": "text/x-python",
   "name": "python",
   "nbconvert_exporter": "python",
   "pygments_lexer": "ipython3",
   "version": "3.11.7"
  }
 },
 "nbformat": 4,
 "nbformat_minor": 5
}
