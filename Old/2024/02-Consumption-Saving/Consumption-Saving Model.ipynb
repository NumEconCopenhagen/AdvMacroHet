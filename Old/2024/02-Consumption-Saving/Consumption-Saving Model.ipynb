{
 "cells": [
  {
   "cell_type": "markdown",
   "metadata": {},
   "source": [
    "# Calibration of the standard consumption-saving model"
   ]
  },
  {
   "cell_type": "markdown",
   "metadata": {},
   "source": [
    "**Table of contents**<a id='toc0_'></a>    \n",
    "- 1. [Setup](#toc1_)    \n",
    "- 2. [Calibration of aggregate wealth](#toc2_)    \n",
    "- 3. [Het-$\\beta$ model](#toc3_)    \n",
    "\n",
    "<!-- vscode-jupyter-toc-config\n",
    "\tnumbering=true\n",
    "\tanchor=true\n",
    "\tflat=false\n",
    "\tminLevel=2\n",
    "\tmaxLevel=6\n",
    "\t/vscode-jupyter-toc-config -->\n",
    "<!-- THIS CELL WILL BE REPLACED ON TOC UPDATE. DO NOT WRITE YOUR TEXT IN THIS CELL -->"
   ]
  },
  {
   "cell_type": "markdown",
   "metadata": {},
   "source": [
    "**Content:** Solves and simulates a simple consumption-saving model.\n",
    "\n",
    "**Calibration:** Low and high liquid wealth calibrations.\n",
    "\n",
    "**Model extension:** Discount factor heterogeneity"
   ]
  },
  {
   "cell_type": "code",
   "execution_count": 1,
   "metadata": {},
   "outputs": [],
   "source": [
    "%load_ext autoreload\n",
    "%autoreload 2\n",
    "\n",
    "import numpy as np\n",
    "import matplotlib.pyplot as plt   \n",
    "colors = plt.rcParams['axes.prop_cycle'].by_key()['color']\n",
    "plt.rcParams.update({\"axes.grid\" : True, \"grid.color\": \"black\", \"grid.alpha\":\"0.25\", \"grid.linestyle\": \"--\"})\n",
    "plt.rcParams.update({'font.size': 14})\n",
    "\n",
    "import scipy.optimize as opt\n",
    "from ConSavModel import ConSavModelClass"
   ]
  },
  {
   "cell_type": "markdown",
   "metadata": {},
   "source": [
    "## 1. <a id='toc1_'></a>[Setup](#toc0_)"
   ]
  },
  {
   "cell_type": "code",
   "execution_count": 2,
   "metadata": {},
   "outputs": [],
   "source": [
    "model = ConSavModelClass()"
   ]
  },
  {
   "cell_type": "markdown",
   "metadata": {},
   "source": [
    "## 2. <a id='toc2_'></a>[Calibration of aggregate wealth](#toc0_)"
   ]
  },
  {
   "cell_type": "code",
   "execution_count": 3,
   "metadata": {},
   "outputs": [],
   "source": [
    "def calibrate_agg_wealth(x, model, wealth_to_income_target):\n",
    "    \n",
    "    # a. guess on beta \n",
    "    model.par.beta = x \n",
    "\n",
    "    # b. solve\n",
    "    model.solve(do_print=False)\n",
    "\n",
    "    # c. simulate\n",
    "    model.simulate(do_print=False)\n",
    "\n",
    "    # d. aggregate \n",
    "    A = np.sum(model.sim.D*model.sol.a)\n",
    "   \n",
    "    return wealth_to_income_target - A/model.par.w "
   ]
  },
  {
   "cell_type": "markdown",
   "metadata": {},
   "source": [
    "Calibrate model with high level of liquidity "
   ]
  },
  {
   "cell_type": "code",
   "execution_count": 4,
   "metadata": {},
   "outputs": [],
   "source": [
    "# Wealth target \n",
    "target_high_wealth = 4.1 * 4 # annual wealth to income ratio of 4.1, converted to quarterly frequency  \n",
    "\n",
    "### ADD CODE HERE ###\n",
    "# Add root finder (using the scipy package for instance) which findes the root of calibrate_agg_wealth() "
   ]
  },
  {
   "cell_type": "markdown",
   "metadata": {},
   "source": [
    "MPCs "
   ]
  },
  {
   "cell_type": "code",
   "execution_count": null,
   "metadata": {},
   "outputs": [],
   "source": [
    "def get_mpcs(model, do_print=False):\n",
    "    c = model.sol.c \n",
    "    a = model.sol.a  \n",
    "    par = model.par\n",
    "    a_grid = par.a_grid \n",
    "\n",
    "    # Initialize and post return\n",
    "    mpc = np.zeros_like(c)\n",
    "    post_return = (1 + par.r) * a_grid\n",
    "\n",
    "    # Calculate mpc for the inner part of the array as the slope of the consumption function \n",
    "    mpc[:,:, 1:] = np.diff(c, axis=2) / np.diff(post_return)\n",
    "\n",
    "    # Handle boundary cases (first and last columns)\n",
    "    mpc[:,:, 0] = (c[:,:, 1] - c[:,:, 0]) / (post_return[1] - post_return[0])\n",
    "    mpc[:,:, -1] = (c[:,:, -1] - c[:,:, -2]) / (post_return[-1] - post_return[-2])\n",
    "\n",
    "    # Set MPC to 1 if constrained \n",
    "    mpc[a == a_grid[0]] = 1\n",
    "\n",
    "    MPC = np.sum(mpc*model.sim.D)\n",
    "    if do_print: print(f'mean MPC: {MPC:6.3f}')\n",
    "\n",
    "    return mpc\n",
    "\n",
    "_ = get_mpcs(model, do_print=True)"
   ]
  },
  {
   "cell_type": "markdown",
   "metadata": {},
   "source": [
    "Plot MPCs and distribution "
   ]
  },
  {
   "cell_type": "code",
   "execution_count": null,
   "metadata": {},
   "outputs": [],
   "source": [
    "def mpc_plot(model, a_max=5., N_bins=6):\n",
    "\n",
    "    # mpc \n",
    "    mpc = get_mpcs(model, do_print=False)\n",
    "\n",
    "    # unload \n",
    "    par = model.par \n",
    "    D = model.sim.D \n",
    "    z_ergodic = par.z_ergodic\n",
    "    a_grid = par.a_grid\n",
    "    mpc_a = np.sum(mpc*z_ergodic[None,:,None], axis=(0,1))  # average over income in order to plot over assets only \n",
    "    D_a = np.sum(D, axis=(0,1))\n",
    "\n",
    "    # plot settings for histogram \n",
    "    i_a_max = np.searchsorted(a_grid, a_max) - 1\n",
    "\n",
    "    # bin distribution for better plot \n",
    "    from scipy.stats import binned_statistic\n",
    "    D_A_binned, bin_edges, binnumber = binned_statistic(a_grid[:i_a_max], D_a[:i_a_max], statistic='sum', bins=N_bins)\n",
    "    D_A_binned[-1] += np.sum(D_a[i_a_max:]) # add all mass above a_max to top bin \n",
    "    bin_centers = (bin_edges[:-1] + bin_edges[1:]) / 2 # get bin centers for plot \n",
    "\n",
    "    # Plot \n",
    "    fig, ax1 = plt.subplots()   \n",
    "\n",
    "    # Plot mpc\n",
    "    ax1.plot(a_grid[:i_a_max], mpc_a[:i_a_max], color='black', label='mpc', linewidth=3.5)\n",
    "    ax1.set_xlabel('Assets')\n",
    "    ax1.set_ylabel('mpc')\n",
    "    ax1.tick_params(axis='y')\n",
    "    ax1.set_ylim([0.,0.7])\n",
    "\n",
    "    # Create a second y-axis for the histogram\n",
    "    ax2 = ax1.twinx()\n",
    "    ax2.bar(bin_centers, D_A_binned, width=bin_edges[1] - bin_edges[0], color='royalblue', alpha=0.6, label=\"Distribution\")\n",
    "    ax2.set_ylabel('Mass')\n",
    "    ax2.tick_params(axis='y')\n",
    "    ax2.set_ylim([0.,1.])\n",
    "\n",
    "    plt.title(\"Plot of MPCs and distribution D\")\n",
    "    plt.show()\n",
    "\n",
    "mpc_plot(model)"
   ]
  },
  {
   "cell_type": "markdown",
   "metadata": {},
   "source": [
    "Calibrate model with low level of liquidity "
   ]
  },
  {
   "cell_type": "code",
   "execution_count": 7,
   "metadata": {},
   "outputs": [],
   "source": [
    "model_low_wealth = model.copy()\n",
    "target_low_wealth = 0.5 * 4\n",
    "\n",
    "### ADD CODE HERE ###"
   ]
  },
  {
   "cell_type": "markdown",
   "metadata": {},
   "source": [
    "Aggregate MPC "
   ]
  },
  {
   "cell_type": "code",
   "execution_count": null,
   "metadata": {},
   "outputs": [],
   "source": [
    "_ = get_mpcs(model_low_wealth, do_print=True)"
   ]
  },
  {
   "cell_type": "markdown",
   "metadata": {},
   "source": [
    "plot mpcs "
   ]
  },
  {
   "cell_type": "code",
   "execution_count": null,
   "metadata": {},
   "outputs": [],
   "source": [
    "mpc_plot(model_low_wealth)"
   ]
  },
  {
   "cell_type": "markdown",
   "metadata": {},
   "source": [
    "## 3. <a id='toc3_'></a>[Het-$\\beta$ model](#toc0_)"
   ]
  },
  {
   "cell_type": "markdown",
   "metadata": {},
   "source": [
    "Modify the household problem to allow for different discount factors across the population. In particular, the model is given by:\n",
    "\\begin{aligned}V\\left(a_{t-1},z_{t},\\beta'\\right)= & \\max_{c_{t}}u\\left(c_{t}\\right)+\\beta'\\mathbb{E}\\left[V\\left(a_{t},z_{t+1},\\beta'\\right)\\right]\\\\\n",
    " & \\text{ subject to }\\\\\n",
    " & c_{t}+a_{t}\\leq a_{t-1}\\left(1+r\\right)+z_{t}\\\\\n",
    " & a_{t}\\geq\\underline{a}\n",
    "\\end{aligned}\n",
    "where $\\beta$ comes from an evenly spaced grid with $N_\\beta$ points between $\\beta-2\\Delta,\\beta+2\\Delta$. \n",
    "Calibrate the model to match both a high level of liquidity and a high aggregate MPC using $(\\beta, \\Delta)$.\n",
    "\n",
    "Note: You will need to update the code to set the beta grid (see next cell), and update the household problem (*solve_hh_backwards_egm*) appropriately."
   ]
  },
  {
   "cell_type": "code",
   "execution_count": 10,
   "metadata": {},
   "outputs": [],
   "source": [
    "model_hetbeta = ConSavModelClass()\n",
    "model_hetbeta.par.Nbeta = 2 # Number of beta grid points \n",
    "model_hetbeta.allocate() # update size of beta grid \n",
    "model_hetbeta.par.beta_grid[:] = ... # Values in grid "
   ]
  },
  {
   "cell_type": "code",
   "execution_count": null,
   "metadata": {},
   "outputs": [],
   "source": [
    "model_hetbeta.solve(do_print=True)"
   ]
  },
  {
   "cell_type": "code",
   "execution_count": null,
   "metadata": {},
   "outputs": [],
   "source": [
    "model_hetbeta.simulate(do_print=True)"
   ]
  },
  {
   "cell_type": "markdown",
   "metadata": {},
   "source": [
    "Check the distribution "
   ]
  },
  {
   "cell_type": "code",
   "execution_count": null,
   "metadata": {},
   "outputs": [],
   "source": [
    "print('Mass of distribution (should be 1):', np.sum(model_hetbeta.sim.D))\n",
    "assert np.isclose(np.sum(model_hetbeta.sim.D), 1.0 )"
   ]
  },
  {
   "cell_type": "markdown",
   "metadata": {},
   "source": [
    "Check how many households are in the beta states. If the distribution is uniform it should have an equal number of households across the beta grid"
   ]
  },
  {
   "cell_type": "code",
   "execution_count": null,
   "metadata": {},
   "outputs": [],
   "source": [
    "beta_mass = np.sum(model_hetbeta.sim.D,axis=(1,2)).round(2)\n",
    "print(f'Mass of households across beta grid: {beta_mass}')\n",
    "print(f'Should be {1/model_hetbeta.par.Nbeta}')"
   ]
  },
  {
   "cell_type": "markdown",
   "metadata": {},
   "source": [
    "Next, calibrate the model to both feature a high MPC and a high level of wealth"
   ]
  },
  {
   "cell_type": "code",
   "execution_count": 15,
   "metadata": {},
   "outputs": [],
   "source": [
    "### CODE HERE ###"
   ]
  },
  {
   "cell_type": "markdown",
   "metadata": {},
   "source": [
    "Check MPC"
   ]
  },
  {
   "cell_type": "code",
   "execution_count": null,
   "metadata": {},
   "outputs": [],
   "source": [
    "_ = get_mpcs(model_hetbeta, do_print=True)"
   ]
  },
  {
   "cell_type": "markdown",
   "metadata": {},
   "source": [
    "Plot MPCs  "
   ]
  },
  {
   "cell_type": "code",
   "execution_count": null,
   "metadata": {},
   "outputs": [],
   "source": [
    "mpc_plot(model_hetbeta)"
   ]
  },
  {
   "cell_type": "markdown",
   "metadata": {},
   "source": [
    "*Final question*. Try changing the mass of agents across the beta distribution. Set Nbeta=3 and assume that the mass is distributed as [0.2, 0.6, 0.2] across the beta grid. What part of the code do you have to modify?"
   ]
  },
  {
   "cell_type": "code",
   "execution_count": null,
   "metadata": {},
   "outputs": [],
   "source": []
  }
 ],
 "metadata": {
  "kernelspec": {
   "display_name": "Python 3 (ipykernel)",
   "language": "python",
   "name": "python3"
  },
  "language_info": {
   "codemirror_mode": {
    "name": "ipython",
    "version": 3
   },
   "file_extension": ".py",
   "mimetype": "text/x-python",
   "name": "python",
   "nbconvert_exporter": "python",
   "pygments_lexer": "ipython3",
   "version": "3.11.7"
  },
  "toc-autonumbering": true
 },
 "nbformat": 4,
 "nbformat_minor": 4
}
