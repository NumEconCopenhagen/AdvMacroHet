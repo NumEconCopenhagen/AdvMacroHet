{
 "cells": [
  {
   "cell_type": "markdown",
   "metadata": {},
   "source": [
    "# Monetary policy in HANK"
   ]
  },
  {
   "cell_type": "markdown",
   "metadata": {},
   "source": [
    "**Table of contents**<a id='toc0_'></a>    \n",
    "- 1. [Setup](#toc1_)    \n",
    "- 2. [Monetary policy](#toc2_)    \n",
    "- 3. [Myopic Agents](#toc3_)    \n",
    "- 4. [Sticky expectations](#toc4_)    \n",
    "- 5. [Relax borrowing constraint](#toc5_)    \n",
    "\n",
    "<!-- vscode-jupyter-toc-config\n",
    "\tnumbering=true\n",
    "\tanchor=true\n",
    "\tflat=false\n",
    "\tminLevel=2\n",
    "\tmaxLevel=6\n",
    "\t/vscode-jupyter-toc-config -->\n",
    "<!-- THIS CELL WILL BE REPLACED ON TOC UPDATE. DO NOT WRITE YOUR TEXT IN THIS CELL -->"
   ]
  },
  {
   "cell_type": "code",
   "execution_count": 1,
   "metadata": {},
   "outputs": [],
   "source": [
    "%load_ext autoreload\n",
    "%autoreload 2\n",
    "\n",
    "import numpy as np\n",
    "import matplotlib.pyplot as plt   \n",
    "colors = plt.rcParams['axes.prop_cycle'].by_key()['color']\n",
    "plt.rcParams.update({\"axes.grid\" : True, \"grid.color\": \"black\", \"grid.alpha\":\"0.25\", \"grid.linestyle\": \"--\"})\n",
    "plt.rcParams.update({'font.size': 14})\n",
    "from HANKModel import HANKModelClass\n",
    "import numba as nb "
   ]
  },
  {
   "cell_type": "markdown",
   "metadata": {},
   "source": [
    "## 1. <a id='toc1_'></a>[Setup](#toc0_)"
   ]
  },
  {
   "cell_type": "code",
   "execution_count": 19,
   "metadata": {},
   "outputs": [
    {
     "name": "stdout",
     "output_type": "stream",
     "text": [
      " Y =   1.0000\n",
      " r    =   0.0050\n",
      " A    =   1.2072\n",
      " pD    =   1.2072\n",
      "Discrepancy in A =  -0.00000000\n",
      "Discrepancy in Y =   0.00000000\n",
      "MPC = 0.33, iMPC[0,0] = 0.33\n",
      "annual_MPC = 0.50\n"
     ]
    }
   ],
   "source": [
    "model = HANKModelClass(name='baseline')\n",
    "model.find_ss(do_print=True)\n",
    "model._compute_jac_hh()\n",
    "model.calc_MPC()"
   ]
  },
  {
   "cell_type": "markdown",
   "metadata": {},
   "source": [
    "## 2. <a id='toc2_'></a>[Monetary policy](#toc0_)"
   ]
  },
  {
   "cell_type": "markdown",
   "metadata": {},
   "source": [
    "Create RA model for comparison. \n",
    "\n",
    "As we will later need to modify jacobian of HH block we create the RA model by simply overwriting the HH jacobians in *jac_hh* with RA jacobians.  "
   ]
  },
  {
   "cell_type": "code",
   "execution_count": null,
   "metadata": {},
   "outputs": [],
   "source": [
    "# Copy RA model\n",
    "model_RA = model.copy()\n",
    "\n",
    "# Get Jacobian of RA model \n",
    "M_RA = model_RA.get_RA_J()\n",
    "\n",
    "# overwrite HH jacobian such that GEModelTools uses RA jac \n",
    "for o in ['C_hh', 'A_hh']:\n",
    "    for i in ['Z', 'ra']:\n",
    "        model_RA.jac_hh[(o,i)] = M_RA[o][i]"
   ]
  },
  {
   "cell_type": "markdown",
   "metadata": {},
   "source": [
    "Compute IRFs"
   ]
  },
  {
   "cell_type": "code",
   "execution_count": null,
   "metadata": {},
   "outputs": [],
   "source": []
  },
  {
   "cell_type": "markdown",
   "metadata": {},
   "source": [
    "Decomposition"
   ]
  },
  {
   "cell_type": "markdown",
   "metadata": {},
   "source": [
    "Note that the GEModelTools function *model.decompose_hh_path()* decomposes the effects on household aggregates (C,A) *non-linearly* (i.e. does not use the Jacobians) and so should **not** be used here."
   ]
  },
  {
   "cell_type": "code",
   "execution_count": null,
   "metadata": {},
   "outputs": [],
   "source": []
  },
  {
   "cell_type": "markdown",
   "metadata": {},
   "source": [
    "## 3. <a id='toc3_'></a>[Myopic Agents](#toc0_)"
   ]
  },
  {
   "cell_type": "markdown",
   "metadata": {},
   "source": [
    "Use the below function *create_alt_M* to construct the jacobians under alternative expectations.\n",
    "\n",
    "If the RE HH jacobians are located in *model.jac_hh* you can create the alternative M matrix as:\n",
    "\n",
    "<code> \n",
    "M = model.jac_hh[('C_hh','Z')] <br />\n",
    "M_myopic =  create_alt_M(M.copy(), E_myopic) <br />\n",
    "model_myopic.jac_hh[('C_hh')] = M_myopic\n",
    "</code>\n",
    "\n",
    "where *E_myopic* is the expectation matrix corresponding to myopic expectations. Note that you will need to do this for each output and input in the household block."
   ]
  },
  {
   "cell_type": "code",
   "execution_count": null,
   "metadata": {},
   "outputs": [],
   "source": [
    "@nb.njit\n",
    "def create_alt_M(M, E):\n",
    "    \"\"\" Here, E is the expectation matrix, M is the RE Jacobian \"\"\"\n",
    "    T, m = M.shape\n",
    "    assert T == m\n",
    "    assert E.shape == (T, T)\n",
    "    \n",
    "    M_beh = np.empty_like(M)\n",
    "    for t in range(T):\n",
    "        for s in range(T):\n",
    "            summand = 0\n",
    "            for tau in range(min(s,t)+1):\n",
    "                if tau > 0:\n",
    "                    summand += (E[tau, s] - E[tau-1, s]) * M[t - tau, s - tau]\n",
    "                else:\n",
    "                    summand += E[tau, s] * M[t - tau, s - tau]\n",
    "            M_beh[t, s] = summand\n",
    "    return M_beh"
   ]
  },
  {
   "cell_type": "code",
   "execution_count": null,
   "metadata": {},
   "outputs": [],
   "source": [
    "E_myopic = ..."
   ]
  },
  {
   "cell_type": "markdown",
   "metadata": {},
   "source": [
    "## 4. <a id='toc4_'></a>[Sticky expectations](#toc0_)"
   ]
  },
  {
   "cell_type": "markdown",
   "metadata": {},
   "source": [
    "We assume households have sticky expectations w.r.t aggregates. Only a random fraction $1-\\theta$ of households update their information set about the aggregate economy, hence learning about the MIT shock. \n",
    "\n",
    "The expectation matrix $\\bf{E}$ is then given by:\n",
    "\\begin{gather*}\n",
    "E=\\left(\\begin{array}{cccc}\n",
    "1 & 1-\\theta & 1-\\theta & \\cdots\\\\\n",
    "1 & 1 & \\left(1-\\theta\\right)^{2} & \\cdots\\\\\n",
    "1 & 1 & 1 & \\cdots\\\\\n",
    "\\vdots & \\vdots & \\vdots & \\ddots\n",
    "\\end{array}\\right)\n",
    "\\end{gather*}\n",
    "where we have ones on and below the diagonal since agents have perfect information w.r.t the current period aggregates. This ensures that they never violate their budget constraints. You can set $\\theta=0.935$ following the estimates in Auclert et al. (2020)."
   ]
  },
  {
   "cell_type": "code",
   "execution_count": 13,
   "metadata": {},
   "outputs": [],
   "source": [
    "def E_sticky_exp(theta, T=300):\n",
    "    col = 1 - theta**(1 + np.arange(T))\n",
    "    E = np.tile(col[:, np.newaxis], (1, T))\n",
    "    E = np.triu(E, +1) + np.tril(np.ones((T, T)))\n",
    "    return E \n",
    "\n",
    "# Create expectations matrix \n",
    "E_sticky = E_sticky_exp(theta=0.935, T=model.par.T)"
   ]
  },
  {
   "cell_type": "code",
   "execution_count": null,
   "metadata": {},
   "outputs": [],
   "source": []
  },
  {
   "cell_type": "markdown",
   "metadata": {},
   "source": [
    "## 5. <a id='toc5_'></a>[Relax borrowing constraint](#toc0_)"
   ]
  },
  {
   "cell_type": "markdown",
   "metadata": {},
   "source": [
    "First create a model with government debt"
   ]
  },
  {
   "cell_type": "code",
   "execution_count": null,
   "metadata": {},
   "outputs": [],
   "source": [
    "model_B = HANKModelClass(name='baseline')\n",
    "model_B.par.do_B = True\n",
    "model_B.find_ss(do_print=True)\n",
    "model_B._compute_jac_hh()\n",
    "model_B.calc_MPC()"
   ]
  },
  {
   "cell_type": "markdown",
   "metadata": {},
   "source": [
    "Then create alternate model with more relaxed borrowing constraint "
   ]
  },
  {
   "cell_type": "code",
   "execution_count": null,
   "metadata": {},
   "outputs": [],
   "source": [
    "model_B_HH_debt = HANKModelClass(name='baseline')\n",
    "..."
   ]
  }
 ],
 "metadata": {
  "kernelspec": {
   "display_name": "base",
   "language": "python",
   "name": "python3"
  },
  "language_info": {
   "codemirror_mode": {
    "name": "ipython",
    "version": 3
   },
   "file_extension": ".py",
   "mimetype": "text/x-python",
   "name": "python",
   "nbconvert_exporter": "python",
   "pygments_lexer": "ipython3",
   "version": "3.11.7"
  },
  "toc-autonumbering": true,
  "vscode": {
   "interpreter": {
    "hash": "47ef90cdf3004d3f859f1fb202523c65c07ba7c22eefd261b181f4744e2d0403"
   }
  }
 },
 "nbformat": 4,
 "nbformat_minor": 4
}
