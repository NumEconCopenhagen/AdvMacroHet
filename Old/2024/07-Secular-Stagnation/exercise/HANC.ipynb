{
 "cells": [
  {
   "cell_type": "markdown",
   "metadata": {},
   "source": [
    "# Non-homothetic Preferences and Redistribution "
   ]
  },
  {
   "cell_type": "markdown",
   "metadata": {},
   "source": [
    "**Table of contents**<a id='toc0_'></a>    \n",
    "- 1. [Setup](#toc1_)    \n",
    "- 2. [Solve model with \"taste for wealth\"](#toc2_)    \n",
    "- 3. [Solve non-homothetic model](#toc3_)    \n",
    "- 4. [Permanent redistribution](#toc4_)    \n",
    "\n",
    "<!-- vscode-jupyter-toc-config\n",
    "\tnumbering=true\n",
    "\tanchor=true\n",
    "\tflat=false\n",
    "\tminLevel=2\n",
    "\tmaxLevel=6\n",
    "\t/vscode-jupyter-toc-config -->\n",
    "<!-- THIS CELL WILL BE REPLACED ON TOC UPDATE. DO NOT WRITE YOUR TEXT IN THIS CELL -->"
   ]
  },
  {
   "cell_type": "code",
   "execution_count": 1,
   "metadata": {},
   "outputs": [],
   "source": [
    "%load_ext autoreload\n",
    "%autoreload 2\n",
    "\n",
    "import time\n",
    "import pickle\n",
    "import numpy as np\n",
    "from scipy import optimize\n",
    "\n",
    "import matplotlib.pyplot as plt   \n",
    "colors = plt.rcParams['axes.prop_cycle'].by_key()['color']\n",
    "plt.rcParams.update({\"axes.grid\" : True, \"grid.color\": \"black\", \"grid.alpha\":\"0.25\", \"grid.linestyle\": \"--\"})\n",
    "plt.rcParams.update({'font.size': 14})\n",
    "\n",
    "from HANCModel import HANCModelClass"
   ]
  },
  {
   "cell_type": "markdown",
   "metadata": {},
   "source": [
    "## 1. <a id='toc1_'></a>[Setup](#toc0_)"
   ]
  },
  {
   "cell_type": "code",
   "execution_count": 6,
   "metadata": {},
   "outputs": [],
   "source": [
    "model = HANCModelClass(name='baseline') # create an instance of the model"
   ]
  },
  {
   "cell_type": "code",
   "execution_count": 7,
   "metadata": {},
   "outputs": [],
   "source": [
    "model.ss.w = 1 - model.par.alpha \n",
    "model.ss.r = 0.04 \n",
    "model.par.beta = 0.956\n",
    "model.par.phi_a = 0.0\n",
    "model.par.sigma = 1.0 "
   ]
  },
  {
   "cell_type": "markdown",
   "metadata": {},
   "source": [
    "## Solve standard HH problem "
   ]
  },
  {
   "cell_type": "code",
   "execution_count": 8,
   "metadata": {},
   "outputs": [],
   "source": [
    "model.solve_hh_ss(do_print=False)\n",
    "model.simulate_hh_ss(do_print=False)"
   ]
  },
  {
   "cell_type": "markdown",
   "metadata": {},
   "source": [
    "Plot consumption policy function across permanent income types"
   ]
  },
  {
   "cell_type": "code",
   "execution_count": null,
   "metadata": {},
   "outputs": [],
   "source": [
    "def plot_c(model):\n",
    "    par = model.par\n",
    "    ss = model.ss\n",
    "\n",
    "    c = np.sum(par.z_ergodic[None,:,None]*ss.c,axis=1)\n",
    "    a = np.sum(par.z_ergodic[None,:,None]*ss.a,axis=1)\n",
    "\n",
    "    lstyles = ['-', '-.', '--']\n",
    "    for p in range(par.NP):\n",
    "        plt.plot(par.a_grid,c[p], label=f'P = {par.P_grid[p]}', linestyle=lstyles[p])\n",
    "    plt.legend()\n",
    "    plt.title('Consumption policy function')\n",
    "    plt.show()\n",
    "\n",
    "    # normalize by permanent income\n",
    "    for p in range(par.NP):\n",
    "        plt.plot(par.a_grid/par.P_grid[p],c[p]/par.P_grid[p], label=f'P = {par.P_grid[p]}', linestyle=lstyles[p])\n",
    "    plt.xlim([0.,100])\n",
    "    plt.ylim([0.,8])\n",
    "    plt.title('Consumption policy function normalized by permanent income')\n",
    "    plt.legend()\n",
    "    plt.show()\n",
    "\n",
    "plot_c(model)"
   ]
  },
  {
   "cell_type": "markdown",
   "metadata": {},
   "source": [
    "## 2. <a id='toc2_'></a>[Solve model with \"taste for wealth (homothetic)\"](#toc0_)"
   ]
  },
  {
   "cell_type": "markdown",
   "metadata": {},
   "source": [
    "We now solve the model with \"taste for wealth\" in the utility function. You will need to update the Euler equation appropriately in *household_problem.py*."
   ]
  },
  {
   "cell_type": "code",
   "execution_count": null,
   "metadata": {},
   "outputs": [],
   "source": [
    "model_TFW = model.copy()\n",
    "model_TFW.name = 'TFW-H'\n",
    "\n",
    "model_TFW.par.beta = 0.93\n",
    "model_TFW.par.phi_a = 0.1\n",
    "model_TFW.par.sigma = 1.0 \n",
    "model_TFW.par.sigma_a = 1.0 \n",
    "\n",
    "model_TFW.solve_hh_ss(do_print=False)\n",
    "model_TFW.simulate_hh_ss(do_print=False)\n",
    "\n",
    "plot_c(model_TFW)"
   ]
  },
  {
   "cell_type": "markdown",
   "metadata": {},
   "source": [
    "## 3. <a id='toc3_'></a>[Solve non-homothetic model](#toc0_)"
   ]
  },
  {
   "cell_type": "code",
   "execution_count": null,
   "metadata": {},
   "outputs": [],
   "source": [
    "model_NH = model.copy()\n",
    "model_NH.name = 'TFW-NH'\n",
    "\n",
    "model_NH.par.beta = 0.93\n",
    "model_NH.par.phi_a = 0.1\n",
    "model_NH.par.sigma = 1.0 \n",
    "model_NH.par.sigma_a = 0.7\n",
    "\n",
    "model_NH.solve_hh_ss(do_print=False)\n",
    "model_NH.simulate_hh_ss(do_print=False)\n",
    "\n",
    "plot_c(model_NH)"
   ]
  },
  {
   "cell_type": "markdown",
   "metadata": {},
   "source": [
    "## 4. <a id='toc4_'></a>[Permanent redistribution](#toc0_)"
   ]
  },
  {
   "cell_type": "markdown",
   "metadata": {},
   "source": [
    "What are the effect - in partial equilibrium - of a permanent redistribution from the poorest permanent income households to the richest?\n",
    "\n",
    "\n",
    "In particular transfer 0.1 ressources from the poorest tertile to the richest tertile (leaving the middle tertile unaltered).\n",
    "\n",
    "You can implement the transfer by changing *par.P_min* and *par.P_max*."
   ]
  },
  {
   "cell_type": "code",
   "execution_count": null,
   "metadata": {},
   "outputs": [],
   "source": []
  }
 ],
 "metadata": {
  "kernelspec": {
   "display_name": "base",
   "language": "python",
   "name": "python3"
  },
  "language_info": {
   "codemirror_mode": {
    "name": "ipython",
    "version": 3
   },
   "file_extension": ".py",
   "mimetype": "text/x-python",
   "name": "python",
   "nbconvert_exporter": "python",
   "pygments_lexer": "ipython3",
   "version": "3.9.7"
  },
  "toc-autonumbering": true,
  "vscode": {
   "interpreter": {
    "hash": "47ef90cdf3004d3f859f1fb202523c65c07ba7c22eefd261b181f4744e2d0403"
   }
  }
 },
 "nbformat": 4,
 "nbformat_minor": 4
}
