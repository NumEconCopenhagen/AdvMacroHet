{
 "cells": [
  {
   "cell_type": "markdown",
   "metadata": {},
   "source": [
    "# HANK with Investment"
   ]
  },
  {
   "cell_type": "code",
   "execution_count": null,
   "metadata": {},
   "outputs": [],
   "source": [
    "%load_ext autoreload\n",
    "%autoreload 2\n",
    "\n",
    "import numpy as np\n",
    "import matplotlib.pyplot as plt   \n",
    "colors = plt.rcParams['axes.prop_cycle'].by_key()['color']\n",
    "plt.rcParams.update({\"axes.grid\" : True, \"grid.color\": \"black\", \"grid.alpha\":\"0.25\", \"grid.linestyle\": \"--\"})\n",
    "plt.rcParams.update({'font.size': 14})\n",
    "from HANKModel import HANKModelClass\n",
    "import numba as nb "
   ]
  },
  {
   "cell_type": "markdown",
   "metadata": {},
   "source": [
    "## 1. <a id='toc1_'></a>[Setup](#toc0_)"
   ]
  },
  {
   "cell_type": "markdown",
   "metadata": {},
   "source": [
    "Create HANK model "
   ]
  },
  {
   "cell_type": "code",
   "execution_count": null,
   "metadata": {},
   "outputs": [],
   "source": [
    "model = HANKModelClass(name='baseline')\n",
    "model.find_ss(do_print=False)\n",
    "model._compute_jac_hh()\n",
    "model.calc_MPC()"
   ]
  },
  {
   "cell_type": "code",
   "execution_count": null,
   "metadata": {},
   "outputs": [],
   "source": [
    "model.test_path()"
   ]
  },
  {
   "cell_type": "markdown",
   "metadata": {},
   "source": [
    "Create RANK model by using RA household jacobians instead of HA household jacobians "
   ]
  },
  {
   "cell_type": "code",
   "execution_count": null,
   "metadata": {},
   "outputs": [],
   "source": [
    "def create_RANK_model(model_HA):\n",
    "    model_RA = model_HA.copy()\n",
    "    model_RA.par.HH_type = 'RANK'\n",
    "\n",
    "    # Get Jacobian of RA model \n",
    "    M_RA = model_RA.get_RA_J()\n",
    "\n",
    "    # overwrite HH jacobian such that GEModelTools uses RA jacobian \n",
    "    # Note that if you recompute the HH jacobian (model.compute_jac_hh() or model.compute_jacs with the keyword \"skip_hh=False\") then this gets overwritten\n",
    "    # and the model is effectively HANK again \n",
    "    \n",
    "    for o in ['C_hh', 'A_hh']: # outputs    \n",
    "        for i in ['Z', 'ra', 'chi']: # inputs \n",
    "            model_RA.jac_hh[(o,i)] = M_RA[o][i]\n",
    "\n",
    "    return model_RA\n",
    "\n",
    "model_RA = create_RANK_model(model)"
   ]
  }
 ],
 "metadata": {
  "kernelspec": {
   "display_name": "base",
   "language": "python",
   "name": "python3"
  },
  "language_info": {
   "codemirror_mode": {
    "name": "ipython",
    "version": 3
   },
   "file_extension": ".py",
   "mimetype": "text/x-python",
   "name": "python",
   "nbconvert_exporter": "python",
   "pygments_lexer": "ipython3",
   "version": "3.11.7"
  },
  "toc-autonumbering": true
 },
 "nbformat": 4,
 "nbformat_minor": 4
}
