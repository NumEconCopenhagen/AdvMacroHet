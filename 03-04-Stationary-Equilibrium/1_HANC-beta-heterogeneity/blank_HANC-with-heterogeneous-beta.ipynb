{
 "cells": [
  {
   "cell_type": "markdown",
   "metadata": {},
   "source": [
    "# Stationary Equilibrium"
   ]
  },
  {
   "cell_type": "markdown",
   "metadata": {},
   "source": [
    "**Table of contents**<a id='toc0_'></a>    \n",
    "- 1. [Setup](#toc1_)    \n",
    "- 2. [Solve household problem](#toc2_)    \n",
    "- 3. [Find stationary equilibrium](#toc3_)    \n",
    "  - 3.1. [Direct approach](#toc3_1_)    \n",
    "  - 3.2. [Indirect approach](#toc3_2_)    \n",
    "  - 3.3. [Finding beta approach](#toc3_3_)    \n",
    "  - 3.4. [Looking at the stationary equilibrium](#toc3_4_)    \n",
    "    - 3.4.1. [Policy functions](#toc3_4_1_)    \n",
    "    - 3.4.2. [Distributions](#toc3_4_2_)    \n",
    "- 4. [Aggregate savings and the interest rate](#toc4_)    \n",
    "- 5. [Idiosyncratic risk and the steady state interest rate](#toc5_)    \n",
    "- 6. [Calibration](#toc6_)    \n",
    "- 7. [Extra: Demand vs. supply of capital](#toc7_)    \n",
    "\n",
    "<!-- vscode-jupyter-toc-config\n",
    "\tnumbering=true\n",
    "\tanchor=true\n",
    "\tflat=false\n",
    "\tminLevel=2\n",
    "\tmaxLevel=6\n",
    "\t/vscode-jupyter-toc-config -->\n",
    "<!-- THIS CELL WILL BE REPLACED ON TOC UPDATE. DO NOT WRITE YOUR TEXT IN THIS CELL -->"
   ]
  },
  {
   "cell_type": "markdown",
   "metadata": {},
   "source": [
    "**Contents:**\n",
    "\n",
    "1. Introduces the `GEModelTools`\n",
    "1. Solves and simulates a simple **Heterogenous Agent Neo-Classical (HANC) model**"
   ]
  },
  {
   "cell_type": "code",
   "execution_count": 2,
   "metadata": {},
   "outputs": [
    {
     "name": "stdout",
     "output_type": "stream",
     "text": [
      "The autoreload extension is already loaded. To reload it, use:\n",
      "  %reload_ext autoreload\n"
     ]
    }
   ],
   "source": [
    "%load_ext autoreload\n",
    "%autoreload 2\n",
    "\n",
    "import time\n",
    "import pickle\n",
    "import numpy as np\n",
    "from scipy import optimize\n",
    "\n",
    "import matplotlib.pyplot as plt   \n",
    "colors = plt.rcParams['axes.prop_cycle'].by_key()['color']\n",
    "plt.rcParams.update({\"axes.grid\" : True, \"grid.color\": \"black\", \"grid.alpha\":\"0.25\", \"grid.linestyle\": \"--\"})\n",
    "plt.rcParams.update({'font.size': 14})\n",
    "\n",
    "from HANCModel import HANCModelClass"
   ]
  },
  {
   "cell_type": "code",
   "execution_count": 3,
   "metadata": {},
   "outputs": [],
   "source": [
    "model = HANCModelClass(name='baseline') # create an instance of the model"
   ]
  },
  {
   "cell_type": "code",
   "execution_count": 7,
   "metadata": {},
   "outputs": [
    {
     "name": "stdout",
     "output_type": "stream",
     "text": [
      "0.8860869652226033\n"
     ]
    }
   ],
   "source": [
    "# compute the steady-state with the beta method\n",
    "# Code HERE\n",
    "model.find_ss(method='beta', beta_min=0.5)\n",
    "print(model.par.beta_mean)"
   ]
  },
  {
   "cell_type": "code",
   "execution_count": 9,
   "metadata": {},
   "outputs": [
    {
     "data": {
      "text/plain": [
       "1.1233680652367184e-11"
      ]
     },
     "execution_count": 9,
     "metadata": {},
     "output_type": "execute_result"
    }
   ],
   "source": [
    "model.ss.clearing_A"
   ]
  },
  {
   "cell_type": "code",
   "execution_count": 10,
   "metadata": {},
   "outputs": [
    {
     "data": {
      "text/plain": [
       "1.3815783961312889e-08"
      ]
     },
     "execution_count": 10,
     "metadata": {},
     "output_type": "execute_result"
    }
   ],
   "source": [
    "model.ss.clearing_Y"
   ]
  },
  {
   "cell_type": "code",
   "execution_count": 11,
   "metadata": {},
   "outputs": [
    {
     "data": {
      "text/plain": [
       "0.8860869652226033"
      ]
     },
     "execution_count": 11,
     "metadata": {},
     "output_type": "execute_result"
    }
   ],
   "source": [
    "model.par.beta_mean"
   ]
  },
  {
   "cell_type": "markdown",
   "metadata": {},
   "source": [
    "- We want a K/Y = 4 at the annual frequency\n",
    "- We solve the model at the *quaterly* frequency\n",
    "- We normalyze quaterly output $Y=1$\n",
    "- So $K/Y=16$"
   ]
  },
  {
   "cell_type": "code",
   "execution_count": 17,
   "metadata": {},
   "outputs": [
    {
     "data": {
      "text/plain": [
       "16.0"
      ]
     },
     "execution_count": 17,
     "metadata": {},
     "output_type": "execute_result"
    }
   ],
   "source": [
    "model.ss.K"
   ]
  },
  {
   "cell_type": "code",
   "execution_count": 18,
   "metadata": {},
   "outputs": [
    {
     "data": {
      "text/plain": [
       "1.0"
      ]
     },
     "execution_count": 18,
     "metadata": {},
     "output_type": "execute_result"
    }
   ],
   "source": [
    "model.ss.Y"
   ]
  },
  {
   "cell_type": "code",
   "execution_count": 8,
   "metadata": {},
   "outputs": [
    {
     "name": "stdout",
     "output_type": "stream",
     "text": [
      "settings:\n",
      " par.py_hh = True\n",
      " par.py_blocks = True\n",
      " par.full_z_trans = False\n",
      " par.warnings = True\n",
      " par.T = 500\n",
      "\n",
      "households:\n",
      " grids_hh: [a]\n",
      " pols_hh: [a]\n",
      " inputs_hh: [r,w]\n",
      " inputs_hh_z: []\n",
      " outputs_hh: [a,c]\n",
      " intertemps_hh: [vbeg_a]\n",
      "\n",
      "aggregate:\n",
      " shocks: []\n",
      " unknowns: []\n",
      " targets: []\n",
      "\n",
      "blocks (inputs -> outputs):\n",
      " production_firm: [] -> [Gamma=0.40,K=16.00,L=1.00,rK=0.02,w=0.67,Y=1.00]\n",
      " mutual_fund: [K=16.00,rK=0.02] -> [A=16.00,r=0.01]\n",
      " hh: [r=0.01,w=0.67] -> [A_hh=16.00,C_hh=0.87]\n",
      " market_clearing: [A=16.00,A_hh=16.00,L=1.00,Y=1.00,C_hh=0.87,K=16.00] -> [L_hh=nan,I=0.13,clearing_A=0.00,clearing_L=nan,clearing_Y=0.00]\n"
     ]
    }
   ],
   "source": [
    "model.info(ss=True)"
   ]
  },
  {
   "cell_type": "markdown",
   "metadata": {},
   "source": [
    "**MPC:**"
   ]
  },
  {
   "cell_type": "code",
   "execution_count": 12,
   "metadata": {},
   "outputs": [
    {
     "name": "stdout",
     "output_type": "stream",
     "text": [
      "mean MPC: 0.442\n"
     ]
    }
   ],
   "source": [
    "def calc_MPC(par,ss):\n",
    "    \n",
    "    MPC = np.zeros(ss.D.shape)\n",
    "    dc = (ss.c[:,:,1:]-ss.c[:,:,:-1])\n",
    "    dm = (1+model.ss.r)*par.a_grid[np.newaxis,np.newaxis,1:]-(1+model.ss.r)*par.a_grid[np.newaxis,np.newaxis,:-1]\n",
    "    MPC[:,:,:-1] = dc/dm\n",
    "    MPC[:,:,-1] = MPC[:,:,-1] # assuming constant MPC at end\n",
    "    \n",
    "    return MPC\n",
    "\n",
    "MPC = calc_MPC(model.par,model.ss)\n",
    "\n",
    "mean_MPC = np.sum(MPC*model.ss.D)\n",
    "print(f'mean MPC: {mean_MPC:.3f}')"
   ]
  },
  {
   "cell_type": "code",
   "execution_count": 16,
   "metadata": {},
   "outputs": [
    {
     "data": {
      "text/plain": [
       "(3, 7, 500)"
      ]
     },
     "execution_count": 16,
     "metadata": {},
     "output_type": "execute_result"
    }
   ],
   "source": [
    "MPC.shape"
   ]
  },
  {
   "cell_type": "code",
   "execution_count": 15,
   "metadata": {},
   "outputs": [
    {
     "data": {
      "image/png": "[encoded data removed]",
      "text/plain": [
       "<Figure size 640x480 with 1 Axes>"
      ]
     },
     "metadata": {},
     "output_type": "display_data"
    }
   ],
   "source": [
    "plt.plot(model.par.a_grid, MPC[0].T)\n",
    "plt.xlim(-1, 10)\n",
    "plt.legend([f'z = {z:.2f}' for z in model.par.z_grid])\n",
    "plt.title('MPCs as a function of wealth and productivity')\n",
    "plt.xlabel('wealth')\n",
    "plt.show()"
   ]
  },
  {
   "cell_type": "code",
   "execution_count": 19,
   "metadata": {},
   "outputs": [],
   "source": [
    "def calib_obj(beta_delta,model):\n",
    "    \"\"\" calibration objective \"\"\"\n",
    "    \n",
    "    #fill things up here: update beta_delta and compute ss \n",
    "    model.par.beta_delta = beta_delta # update our parameter\n",
    "    # Solve the model (at the stedy state)\n",
    "    model.find_ss(method = 'beta', beta_min = 0.5, beta_max = 0.98, do_print=False)\n",
    "    MPC = calc_MPC(model.par,model.ss)\n",
    "    mean_MPC = np.sum(MPC*model.ss.D)\n",
    "    print(f'beta_delta: {beta_delta:.4f} => mean_MPC: {mean_MPC:.4f}')\n",
    "    \n",
    "    return mean_MPC-0.27"
   ]
  },
  {
   "cell_type": "code",
   "execution_count": 20,
   "metadata": {},
   "outputs": [
    {
     "name": "stdout",
     "output_type": "stream",
     "text": [
      "beta_delta: 0.0100 => mean_MPC: 0.0701\n"
     ]
    },
    {
     "name": "stderr",
     "output_type": "stream",
     "text": [
      "/Users/raphaelhuleux/Documents/_projects/AdvMacroHet/03-04-Stationary-Equilibrium/1_HANC-beta-heterogeneity/household_problem.py:26: RuntimeWarning: divide by zero encountered in reciprocal\n",
      "  v_a = (1+r)*c[i_fix]**(-par.sigma)\n"
     ]
    },
    {
     "name": "stdout",
     "output_type": "stream",
     "text": [
      "beta_delta: 0.1000 => mean_MPC: 0.4417\n",
      "beta_delta: 0.0584 => mean_MPC: 0.2867\n",
      "  0: beta_delta =   0.05841611 -> MPC-0.27 =   0.01670839\n",
      "beta_delta: 0.0543 => mean_MPC: 0.2704\n",
      "  1: beta_delta =   0.05427864 -> MPC-0.27 =   0.00039874\n",
      "beta_delta: 0.0542 => mean_MPC: 0.2700\n",
      "  2: beta_delta =   0.05417849 -> MPC-0.27 =  -0.00003693\n",
      "beta_delta: 0.0542 => mean_MPC: 0.2700\n",
      "  3: beta_delta =   0.05418698 -> MPC-0.27 =   0.00000010\n",
      "beta_delta: 0.0542 => mean_MPC: 0.2700\n",
      "  4: beta_delta =   0.05418696 -> MPC-0.27 =   0.00000000\n",
      "beta_delta: 0.0542 => mean_MPC: 0.2700\n",
      "  5: beta_delta =   0.05418695 -> MPC-0.27 =  -0.00000002\n",
      "\n",
      "beta_delta =   0.05418696 [MPC-0.27 =   0.00000000]\n",
      "\n",
      "beta_delta: 0.0542 => mean_MPC: 0.2700\n"
     ]
    }
   ],
   "source": [
    "from root_finding import brentq\n",
    "model_calib = model.copy()\n",
    "brentq(calib_obj,0.01,0.1,args=(model_calib,),do_print=True,varname='beta_delta',funcname='MPC-0.27',xtol=1e-8,rtol=1e-8);"
   ]
  },
  {
   "cell_type": "code",
   "execution_count": 21,
   "metadata": {},
   "outputs": [
    {
     "name": "stdout",
     "output_type": "stream",
     "text": [
      "ss.r = 1.25 %\n",
      "ss.K = 16.00\n",
      "K/Y = 16.00\n"
     ]
    }
   ],
   "source": [
    "print(f'ss.r = {model_calib.ss.r*100:.2f} %')\n",
    "print(f'ss.K = {model_calib.ss.K:.2f}')\n",
    "print(f'K/Y = {(model_calib.ss.K / model_calib.ss.Y):.2f}')"
   ]
  },
  {
   "cell_type": "markdown",
   "metadata": {},
   "source": [
    "Now, compute the distribution of wealth and compare it to the data, as in the previous notebook. How did the distribution of wealth change?"
   ]
  },
  {
   "cell_type": "code",
   "execution_count": 23,
   "metadata": {},
   "outputs": [
    {
     "name": "stdout",
     "output_type": "stream",
     "text": [
      "Quantile  Bottom 50%  Middle 40%  Top 10%  Top 1%  Top 0.1%  Top 0.01%\n",
      "Data PSZ         0.0        28.0     71.0    35.0      18.0        9.0\n",
      "Model            1.0        42.0     57.0    10.0       1.0        0.0\n"
     ]
    }
   ],
   "source": [
    "# a. prepare\n",
    "ss = model_calib.ss\n",
    "par = model_calib.par\n",
    "Da = np.sum(ss.D,axis=(0,1))\n",
    "\n",
    "\n",
    "def get_share(D=None, a_grid=None, perc_bottom=0.0, perc_top=1.0):\n",
    "\n",
    "    cdf = D.cumsum()\n",
    "    wealth_cdf = (a_grid * D).cumsum()\n",
    "    tot_wealth = (a_grid * D).sum()\n",
    "\n",
    "    if perc_bottom == 0.0:\n",
    "        wealth_bottom = 0.0\n",
    "    else:\n",
    "        wealth_bottom = np.interp(perc_bottom, cdf, wealth_cdf)\n",
    "\n",
    "    if perc_top == 1.0:\n",
    "        wealth_top = tot_wealth         \n",
    "    else:\n",
    "        wealth_top = np.interp(perc_top, cdf, wealth_cdf)\n",
    "    \n",
    "    wealth = wealth_top - wealth_bottom\n",
    "    share = wealth / tot_wealth\n",
    "\n",
    "    return share\n",
    "\n",
    "b50 = get_share(D=Da, a_grid=par.a_grid, perc_bottom=0.0, perc_top=0.5) \n",
    "n40 = get_share(D=Da, a_grid=par.a_grid, perc_bottom=0.5, perc_top=0.9)\n",
    "top10 = get_share(D=Da, a_grid=par.a_grid, perc_bottom=0.9, perc_top=1.0)\n",
    "top100 = get_share(D=Da, a_grid=par.a_grid, perc_bottom=0.99, perc_top=1.0)\n",
    "top1000 = get_share(D=Da, a_grid=par.a_grid, perc_bottom=0.999, perc_top=1.0)\n",
    "top10000 = get_share(D=Da, a_grid=par.a_grid, perc_bottom=0.9999, perc_top=1.0)\n",
    "\n",
    "wealth_shares = np.array([b50, n40, top10, top100, top1000, top10000]) * 100\n",
    "\n",
    "\n",
    "# Code here\n",
    "import pandas as pd\n",
    "df = pd.read_csv(\n",
    "    '../wealth_psz.csv')\n",
    "df = df[df['Year'] == 2019]\n",
    "\n",
    "# Round 'value' column, convert to integer and drop 'Year' column\n",
    "\n",
    "df['value'] = df['value'] * 100\n",
    "df = df.drop(columns='Year')\n",
    "\n",
    "# Add 'Model' column with wealth shares, round and convert to integer\n",
    "df['Model'] = wealth_shares\n",
    "\n",
    "# Rename 'value' column to 'Data PSZ'\n",
    "df = df.rename(columns={'value': 'Data PSZ'})\n",
    "\n",
    "# Pivot the DataFrame and reorder columns\n",
    "df = pd.pivot_table(df, columns='Quantile', values=['Data PSZ', 'Model'])\n",
    "df = df[['Bottom 50%', 'Middle 40%', 'Top 10%',\n",
    "            'Top 1%', 'Top 0.1%', 'Top 0.01%']]\n",
    "\n",
    "print(df.round(0))\n"
   ]
  },
  {
   "cell_type": "code",
   "execution_count": 24,
   "metadata": {},
   "outputs": [
    {
     "data": {
      "text/plain": [
       "16.0"
      ]
     },
     "execution_count": 24,
     "metadata": {},
     "output_type": "execute_result"
    }
   ],
   "source": [
    "ss.K / ss.Y"
   ]
  },
  {
   "cell_type": "code",
   "execution_count": null,
   "metadata": {},
   "outputs": [],
   "source": []
  }
 ],
 "metadata": {
  "kernelspec": {
   "display_name": "base",
   "language": "python",
   "name": "python3"
  },
  "language_info": {
   "codemirror_mode": {
    "name": "ipython",
    "version": 3
   },
   "file_extension": ".py",
   "mimetype": "text/x-python",
   "name": "python",
   "nbconvert_exporter": "python",
   "pygments_lexer": "ipython3",
   "version": "3.12.2"
  },
  "toc-autonumbering": true
 },
 "nbformat": 4,
 "nbformat_minor": 4
}
