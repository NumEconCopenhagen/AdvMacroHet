{
 "cells": [
  {
   "cell_type": "markdown",
   "id": "4f2ac4c2",
   "metadata": {},
   "source": [
    "**Table of contents**<a id='toc0_'></a>    \n",
    "- [Solving for the stationary equilibrium in the HANC model](#toc1_)    \n",
    "  - [Obtain the policy function with EGM](#toc1_1_)    \n",
    "  - [Obtain the distribution using the histogram method](#toc1_2_)    \n",
    "  - [Obtain aggregate hh variables using policies and the distribution](#toc1_3_)    \n",
    "  - [Put everything together: solve for the steady-state in GE](#toc1_4_)    \n",
    "\n",
    "<!-- vscode-jupyter-toc-config\n",
    "\tnumbering=false\n",
    "\tanchor=true\n",
    "\tflat=false\n",
    "\tminLevel=1\n",
    "\tmaxLevel=6\n",
    "\t/vscode-jupyter-toc-config -->\n",
    "<!-- THIS CELL WILL BE REPLACED ON TOC UPDATE. DO NOT WRITE YOUR TEXT IN THIS CELL -->"
   ]
  },
  {
   "cell_type": "code",
   "execution_count": 48,
   "id": "488c0d43",
   "metadata": {},
   "outputs": [],
   "source": [
    "import numpy as np\n",
    "import numba as nb \n",
    "from consav.linear_interp import interp_1d_vec\n",
    "from EconModel import jit\n",
    "from HANCModel import HANCModelClass\n",
    "import matplotlib.pyplot as plt\n",
    "from consav.grids import equilogspace\n",
    "from consav.markov import log_rouwenhorst"
   ]
  },
  {
   "cell_type": "markdown",
   "id": "ce28b559",
   "metadata": {},
   "source": [
    "These notes are inspired by and draw upon the lecture notes of Matthew Rognlie, (available at this [link](https://github.com/shade-econ/nber-workshop-2023/tree/main)) which served as the original reference. I gratefully acknowledge his work and contribution as the foundation for this material."
   ]
  },
  {
   "cell_type": "markdown",
   "id": "0c720be0",
   "metadata": {},
   "source": [
    "# <a id='toc1_'></a>[Solving for the stationary equilibrium in the HANC model](#toc0_)\n",
    "\n",
    "This notebook explains how to solve for the stationary equilibrium in the HANC model without the use of the GEModelTools. "
   ]
  },
  {
   "cell_type": "markdown",
   "id": "52dddd15",
   "metadata": {},
   "source": [
    "First, let us create a class that contains the necessary parameters to solve the model. "
   ]
  },
  {
   "cell_type": "code",
   "execution_count": 49,
   "id": "4ece1625",
   "metadata": {},
   "outputs": [],
   "source": [
    "class Parameters:\n",
    "    def __init__(self):\n",
    "        # preferences\n",
    "        self.beta = 0.966\n",
    "        self.sigma = 2.0\n",
    "        \n",
    "        # production\n",
    "        self.alpha = 1/3\n",
    "        self.delta = 0.008\n",
    "        self.Gamma = 0.4\n",
    "        \n",
    "        # grids\n",
    "        self.Na = 500\n",
    "        self.a_min = 0.0\n",
    "        self.a_max = 10_000.0 \n",
    "        self.a_grid = equilogspace(self.a_min,self.a_max,self.Na)\n",
    "\n",
    "        # income\n",
    "        self.rho_z = 0.975\n",
    "        self.sigma_psi = 0.7\n",
    "        self.Nz = 7\n",
    "        self.z_grid, self.z_trans,self.z_ergodic,_,_ = log_rouwenhorst(self.rho_z,self.sigma_psi,self.Nz)\n",
    "        \n",
    "\n",
    "par = Parameters()"
   ]
  },
  {
   "cell_type": "markdown",
   "id": "602f4660",
   "metadata": {},
   "source": [
    "## <a id='toc1_1_'></a>[Obtain the policy function with EGM](#toc0_)"
   ]
  },
  {
   "cell_type": "markdown",
   "id": "177e68b9",
   "metadata": {},
   "source": [
    "The first step is to use the endogenous-grid method (EGM) to obtain the policy function for savings and consumption. \n",
    "\n",
    "The `solve_hh_backwards_one_step` implements one step of the EGM algorithm: given a guess on `vbeg_a`, the derivative of the value function, it returns policies for `a, c` and updates `vbeg_a`."
   ]
  },
  {
   "cell_type": "markdown",
   "id": "6726f745",
   "metadata": {},
   "source": [
    "Lets's go in the detail about the EGM algorithm. Our goal is to obtain the policy functions $a'(a,z)$ and $c(a,z)$ for each point on the grids `a_grid` and `z_grid`. The standard method to do this if VFI: guess a value function $V(a,z)$, and iterate over the RHS of the Bellman equation $V^n(a,z)=(\\max_{a'}\\{u(c)+\\beta \\mathbb{E}[V^{n-1}(a',z')]\\} until $V^n(a,z)\\approx V^{n-1}(a,z)$. The issue with this method is that for each point $(a,z)$ on our grids, we need to run an optimization algorithm (like the golden-search algorithm), which is costly. "
   ]
  },
  {
   "cell_type": "markdown",
   "id": "68fe10d2",
   "metadata": {},
   "source": [
    "The endogenous grid-method of Caroll proposes to iterate over the Euler equation insteady. First, recall that the first-order condition of the problem writes $u'(c)=\\beta W'(a',z)$ where $W(a',z)=\\mathbb{E}_z[V(a',z')]$. Our first step is thus to define an initial guess for $V_a$. "
   ]
  },
  {
   "cell_type": "code",
   "execution_count": 50,
   "id": "088d1291",
   "metadata": {},
   "outputs": [],
   "source": [
    "w = 1 \n",
    "r = 0.05 \n",
    "y = w*par.z_grid\n",
    "c = r*par.a_grid[np.newaxis,:] + y[:,np.newaxis]  # implied guess on a'(a,z)=a\n",
    "Va = (1+r)*c**(-par.sigma)\n",
    "Wa = par.z_trans @ Va # Take expectation using matrix multiplication"
   ]
  },
  {
   "cell_type": "markdown",
   "id": "2c9d60f0",
   "metadata": {},
   "source": [
    "Instead of fixing a grid over $a$, we now set a grid over $a'$. We can set use the FOC to obtain $c$ as a function of $a'$:\n",
    "$c(a',z)=u'^{-1}[\\beta W'(a',z)]$. "
   ]
  },
  {
   "cell_type": "code",
   "execution_count": 51,
   "id": "f498e1d0",
   "metadata": {},
   "outputs": [],
   "source": [
    "Nz, Na = Wa.shape\n",
    "a = np.zeros((Nz, Na))\n",
    "c = np.zeros((Nz, Na)) \n",
    "\n",
    "# a. solve step\n",
    "for i_z in range(Nz):\n",
    "    ## i. get c(a',z)\n",
    "    c_endo = (par.beta*Wa[i_z])**(-1/par.sigma)\n"
   ]
  },
  {
   "cell_type": "markdown",
   "id": "50d798c8",
   "metadata": {},
   "source": [
    "We also know that, from the budget constraint, we must have\n",
    "$$a'+c(a',z)=a(1+r)+wz.$$\n",
    "Note that in this equation, $a'$ and $z$ are defined on their grids, and we also know $c(a',z)$. We can thus invert it to obtain\n",
    "$$\n",
    "a(a',z) = \\frac{a'+c(a',z)-wz}{1+r}\n",
    "$$ \n",
    "where $a(a',z)$ is the *endogenous grid* for assets, hence the name of the method.\n",
    "\n",
    "We are reversing the problem: instead of finding the optimal $a'$ given states $(a,z)$, we are asking: what is the $a$ today that would make it optimal to choose $a'$, given the Euler equation? \n",
    "\n",
    "Of course, we are eventually interested in $a'(a,z)$. To do so, we can invert our function $a(a',z)$ by using interpolation on the grid `a_grid`. That is, we interpolate the function $a'(a_{endo},z)$ on the point $a_{grid}$ which gives us $a'(a,z)$. "
   ]
  },
  {
   "cell_type": "code",
   "execution_count": 52,
   "id": "c5b046ae",
   "metadata": {},
   "outputs": [],
   "source": [
    "for i_z in range(Nz):\n",
    "    # ii. compute m_endo = c(a',z) + a'\n",
    "    a_endo = (c_endo + par.a_grid-par.z_grid[i_z]) / (1+r) # current consumption + end-of-period assets\n",
    "\n",
    "    # iii. interpolation to fixed grid\n",
    "    interp_1d_vec(a_endo,par.a_grid,par.a_grid, a[i_z]) # fill up the array a[i_z]"
   ]
  },
  {
   "cell_type": "markdown",
   "id": "b9b7673b",
   "metadata": {},
   "source": [
    "The last thing to note is that, due to the borrowing constraint, some points $a'(a,z)$ implied by the FOC are not feasible and violate the borrowing constraint. We just impose them by setting $a'(a,z)=0$. "
   ]
  },
  {
   "cell_type": "code",
   "execution_count": 53,
   "id": "b5bbf3cf",
   "metadata": {},
   "outputs": [],
   "source": [
    "for i_z in range(Nz):\n",
    "    a[i_z,:] = np.fmax(a[i_z,:],0.0) # enforce borrowing constraint"
   ]
  },
  {
   "cell_type": "markdown",
   "id": "b660016a",
   "metadata": {},
   "source": [
    "We then can compute $c(a,z)$ as the residual, and use the envelope condition to update our guess on the derivative of the value function\n",
    "$$Va^n=(1+r)c(a,z)^{-\\sigma}$$\n",
    "and compute the expectation using the Markov transition matrix."
   ]
  },
  {
   "cell_type": "code",
   "execution_count": 54,
   "id": "1828aeac",
   "metadata": {},
   "outputs": [],
   "source": [
    "for i_z in range(Nz):\n",
    "    c[i_z] = (1+r)*par.a_grid + w*par.z_grid[i_z]-a[i_z]\n",
    "RHS = (1+r)*c**(-par.sigma)\n",
    "vbeg_a_new = par.z_trans @ RHS"
   ]
  },
  {
   "cell_type": "markdown",
   "id": "542f646b",
   "metadata": {},
   "source": [
    "We then put all of this in one function, and iterate until convergence."
   ]
  },
  {
   "cell_type": "code",
   "execution_count": 55,
   "id": "fce395a4",
   "metadata": {},
   "outputs": [],
   "source": [
    "def solve_hh_backwards_one_step(z_trans, z_grid, a_grid, sigma, beta, r, w, vbeg_a):\n",
    "\n",
    "    Nz, Na = vbeg_a.shape\n",
    "    a = np.zeros((Nz, Na))\n",
    "    c = np.zeros((Nz, Na)) \n",
    "    \n",
    "    # a. solve step\n",
    "    for i_z in range(Nz):\n",
    "    \n",
    "        ## i. get c(a',z)\n",
    "        c_endo = (beta*vbeg_a[i_z])**(-1/sigma)\n",
    "        \n",
    "        # ii. compute a_endo = (c(a',z) + a' - z) / (1+r)\n",
    "        a_endo = (c_endo + a_grid-w*z_grid[i_z]) / (1+r) # current consumption + end-of-period assets\n",
    "\n",
    "        # iii. interpolation to fixed grid\n",
    "        #a[i_z] = np.interp(a_grid, a_endo, a_grid)\n",
    "        interp_1d_vec(a_endo, a_grid, a_grid, a[i_z]) # fill up the array a[i_z]\n",
    "        a[i_z,:] = np.fmax(a[i_z,:],0.0) # enforce borrowing constraint\n",
    "        c[i_z] = (1+r)*a_grid + w*z_grid[i_z] - a[i_z]\n",
    "\n",
    "    # b. expectation step\n",
    "    RHS = (1+r)*c**(-sigma)\n",
    "    vbeg_a_new = z_trans @ RHS\n",
    "\n",
    "    return c, a, vbeg_a_new\n"
   ]
  },
  {
   "cell_type": "markdown",
   "id": "6febc606",
   "metadata": {},
   "source": [
    "Then, for a given $r$, $w$, we can loop over this step until convergence, that is, until the `vbeg_a` we feed into the function is arbitrarily close to the `vbeg_a_new` that it outputs."
   ]
  },
  {
   "cell_type": "code",
   "execution_count": 56,
   "id": "5cf24aa1",
   "metadata": {},
   "outputs": [],
   "source": [
    "w = 2/3\n",
    "r = 0.05 / 4"
   ]
  },
  {
   "cell_type": "code",
   "execution_count": 57,
   "id": "925b7024",
   "metadata": {},
   "outputs": [
    {
     "name": "stdout",
     "output_type": "stream",
     "text": [
      "2470161070.787182\n",
      "334025002.9307101\n",
      "279549181.43693745\n",
      "226232737.7605555\n",
      "177898906.01208925\n",
      "136251539.30274844\n",
      "101658154.04185534\n",
      "73714055.22786689\n",
      "51632998.27584529\n",
      "34497169.186932564\n",
      "21402788.815830946\n",
      "11534659.002521038\n",
      "4741834.9600676745\n",
      "4354455.676583454\n",
      "5076905.682318926\n",
      "7835800.082513332\n",
      "9746119.511870384\n",
      "11024201.64925623\n",
      "11834433.77913618\n",
      "12300756.178935051\n",
      "12516004.510663748\n",
      "12549330.857082367\n",
      "12452001.475713253\n",
      "12261868.163713217\n",
      "12006780.963325262\n",
      "11707170.461088896\n",
      "11377987.425679684\n",
      "11030150.431213617\n",
      "10671620.177485466\n",
      "10308192.752479076\n",
      "9944082.731876373\n",
      "9582350.080592632\n",
      "9225211.608192682\n",
      "8874267.538021803\n",
      "8530665.957471848\n",
      "8195222.009853363\n",
      "7868504.24142766\n",
      "7550897.203298807\n",
      "7242646.947071791\n",
      "6943894.2191569805\n",
      "6654698.825434446\n",
      "6375057.664402485\n",
      "6104918.217607737\n",
      "5844188.773314714\n",
      "5592746.292057753\n",
      "5350442.560336351\n",
      "5117109.090037584\n",
      "4892561.054385424\n",
      "4676600.360270977\n",
      "4469018.472710848\n",
      "4269598.848916292\n",
      "4078119.013124466\n",
      "3894352.3245863914\n",
      "3718069.4872322083\n",
      "3549039.8432269096\n",
      "3387032.4850115776\n",
      "3231817.213526964\n",
      "3083165.3660211563\n",
      "2940850.5312931538\n",
      "2804649.165165186\n",
      "2674341.117894411\n",
      "2549710.0840206146\n",
      "2430543.983268738\n",
      "2316635.2794332504\n",
      "2207781.242986679\n",
      "2103784.1646585464\n",
      "2004451.5255320072\n",
      "1909596.1257436275\n",
      "1819036.1759369373\n",
      "1732595.3563044071\n",
      "1650102.8468999863\n",
      "1571393.3324124813\n",
      "1496306.9843473434\n",
      "1424689.4233150482\n",
      "1356391.6639215946\n",
      "1291270.0441260338\n",
      "1229186.141493559\n",
      "1170006.6797323227\n",
      "1113603.4262852669\n",
      "1059853.0810899734\n",
      "1008637.1584162712\n",
      "959841.8637275696\n",
      "913357.9667520523\n",
      "869080.6717054844\n",
      "826909.4855530262\n",
      "786748.0850989819\n",
      "748504.183601141\n",
      "712089.3968756199\n",
      "677417.2471249104\n",
      "644404.5000212193\n",
      "612972.0654771328\n",
      "583045.0318651199\n",
      "554552.4500131607\n",
      "527427.0458762646\n",
      "501604.9289097786\n",
      "477025.3234937191\n",
      "453630.3330821991\n",
      "431364.7375714779\n",
      "410175.82081103325\n",
      "390013.2254707813\n",
      "370828.8286457062\n",
      "352576.63278388977\n",
      "335212.6690979004\n",
      "318694.9106655121\n",
      "302983.1927959919\n",
      "288039.1388082504\n",
      "273826.08994936943\n",
      "260309.03843021393\n",
      "247454.5630350113\n",
      "235230.76678347588\n",
      "223607.21644830704\n",
      "212554.88372063637\n",
      "202046.08795809746\n",
      "192054.4404978752\n",
      "182554.79050302505\n",
      "173523.17235970497\n",
      "164936.7546737194\n",
      "156773.79085206985\n",
      "149013.5712940693\n",
      "141636.37722826004\n",
      "134623.4361591339\n",
      "127956.87895226479\n",
      "121619.69853830338\n",
      "115595.71020936966\n",
      "109869.51350092888\n",
      "104426.45561218262\n",
      "99252.59634542465\n",
      "94334.67453336716\n",
      "89660.0758869648\n",
      "85216.8022608757\n",
      "80993.44225716591\n",
      "76979.14314389229\n",
      "73163.58404302597\n",
      "69536.95032143593\n",
      "66089.90916848183\n",
      "62813.58629536629\n",
      "59699.54370498657\n",
      "56739.758524894714\n",
      "53926.602801561356\n",
      "51252.82428050041\n",
      "48711.528065919876\n",
      "46296.159185409546\n",
      "44000.485949754715\n",
      "41818.58414435387\n",
      "39744.82195568085\n",
      "37773.84563565254\n",
      "35900.5658531189\n",
      "34120.14470767975\n",
      "32427.9833650589\n",
      "30819.71031141281\n",
      "29291.17015838623\n",
      "27838.412997484207\n",
      "26457.68428826332\n",
      "25145.41522502899\n",
      "23898.213574171066\n",
      "22712.85496854782\n",
      "21586.274627685547\n",
      "20515.559475421906\n",
      "19497.940649986267\n",
      "18530.786384820938\n",
      "17611.595230817795\n",
      "16737.989617824554\n",
      "15907.709734201431\n",
      "15118.607704401016\n",
      "14368.642047405243\n",
      "13655.872424125671\n",
      "12978.454626321793\n",
      "12334.635828971863\n",
      "11722.750058174133\n",
      "11141.213899850845\n",
      "10588.522410869598\n",
      "10063.245235443115\n",
      "9564.02291226387\n",
      "9089.563362836838\n",
      "8638.638555049896\n",
      "8210.081331729889\n",
      "7802.782397270203\n",
      "7415.687446832657\n",
      "7047.794446706772\n",
      "6698.151043653488\n",
      "6365.852100849152\n",
      "6050.037360906601\n",
      "5749.889221429825\n",
      "5464.630623340607\n",
      "5193.523036241531\n",
      "4935.864549875259\n",
      "4690.988067865372\n",
      "4458.259569883347\n",
      "4237.076481580734\n",
      "4026.8661086559296\n",
      "3827.084159374237\n",
      "3637.213336467743\n",
      "3456.7619976997375\n",
      "3285.262886285782\n",
      "3122.271921157837\n",
      "2967.3670403957367\n",
      "2820.147123813629\n",
      "2680.2309381961823\n",
      "2547.2561683654785\n",
      "2420.8784658908844\n",
      "2300.770560979843\n",
      "2186.621420621872\n",
      "2078.1354355812073\n",
      "1975.0316636562347\n",
      "1877.0430991649628\n",
      "1783.9159767627716\n",
      "1695.4091212749481\n",
      "1611.2933220863342\n",
      "1531.3507370948792\n",
      "1455.3743312358856\n",
      "1383.1673393249512\n",
      "1314.5427567958832\n",
      "1249.3228573799133\n",
      "1187.338730096817\n",
      "1128.4298448562622\n",
      "1072.4436292648315\n",
      "1019.2350900173187\n",
      "968.6664187908173\n",
      "920.606644153595\n",
      "874.931295633316\n",
      "831.5220785140991\n",
      "790.2665596008301\n",
      "751.0578916072845\n",
      "713.7945241928101\n",
      "678.379944562912\n",
      "644.7224259376526\n",
      "612.7348024845123\n",
      "582.334216594696\n",
      "553.4419357776642\n",
      "525.9831275939941\n",
      "499.8866686820984\n",
      "475.08497190475464\n",
      "451.5137963294983\n",
      "429.11209440231323\n",
      "407.8218414783478\n",
      "387.58789253234863\n",
      "368.3578462600708\n",
      "350.081889629364\n",
      "332.71268701553345\n",
      "316.2052528858185\n",
      "300.51682806015015\n",
      "285.60678148269653\n",
      "271.43649196624756\n",
      "257.96925687789917\n",
      "245.17019510269165\n",
      "233.00615739822388\n",
      "221.44563579559326\n",
      "210.45868468284607\n",
      "200.016850233078\n",
      "190.09308695793152\n",
      "180.66168642044067\n",
      "171.69822359085083\n",
      "163.17948246002197\n",
      "155.0833957195282\n",
      "147.3889980316162\n",
      "140.07635378837585\n",
      "133.12652611732483\n",
      "126.52151322364807\n",
      "120.24420666694641\n",
      "114.2783465385437\n",
      "108.60848212242126\n",
      "103.21992707252502\n",
      "98.09872364997864\n",
      "93.23161005973816\n",
      "88.6059741973877\n",
      "84.2098400592804\n",
      "80.03181838989258\n",
      "76.0610876083374\n",
      "72.28736472129822\n",
      "68.70087432861328\n",
      "65.29232740402222\n",
      "62.0528929233551\n",
      "58.97418212890625\n",
      "56.04822087287903\n",
      "53.26743221282959\n",
      "50.624608516693115\n",
      "48.112908124923706\n",
      "45.72582721710205\n",
      "43.45717740058899\n",
      "41.30108833312988\n",
      "39.25197172164917\n",
      "37.30451989173889\n",
      "35.45368957519531\n",
      "33.69468927383423\n",
      "32.0229606628418\n",
      "30.434174060821533\n",
      "28.924213886260986\n",
      "27.489169359207153\n",
      "26.12532329559326\n",
      "24.82914447784424\n",
      "23.59727454185486\n",
      "22.426523447036743\n",
      "21.313857316970825\n",
      "20.256396532058716\n",
      "19.25139832496643\n",
      "18.296265602111816\n",
      "17.388519525527954\n",
      "16.525811910629272\n",
      "15.705905199050903\n",
      "14.926677703857422\n",
      "14.186111450195312\n",
      "13.482286930084229\n",
      "12.81338381767273\n",
      "12.177666187286377\n",
      "11.57348895072937\n",
      "10.999288558959961\n",
      "10.453574895858765\n",
      "9.934937000274658\n",
      "9.442030668258667\n",
      "8.973579168319702\n",
      "8.528371095657349\n",
      "8.105250120162964\n",
      "7.70312237739563\n",
      "7.320945978164673\n",
      "6.9577295780181885\n",
      "6.612534284591675\n",
      "6.284466028213501\n",
      "5.9726738929748535\n",
      "5.6763505935668945\n",
      "5.394729852676392\n",
      "5.127079725265503\n",
      "4.872711181640625\n",
      "4.630960464477539\n",
      "4.401203632354736\n",
      "4.1828484535217285\n",
      "3.9753239154815674\n",
      "3.778096914291382\n",
      "3.590653896331787\n",
      "3.4125115871429443\n",
      "3.24320650100708\n",
      "3.0823028087615967\n",
      "2.9293808937072754\n",
      "2.784046173095703\n",
      "2.6459217071533203\n",
      "2.51465106010437\n",
      "2.389892101287842\n",
      "2.2713239192962646\n",
      "2.158637046813965\n",
      "2.051542043685913\n",
      "1.9497597217559814\n",
      "1.8530263900756836\n",
      "1.7610936164855957\n",
      "1.6737208366394043\n",
      "1.5906846523284912\n",
      "1.511765956878662\n",
      "1.4367637634277344\n",
      "1.365483283996582\n",
      "1.297736644744873\n",
      "1.233353614807129\n",
      "1.1721642017364502\n",
      "1.1140105724334717\n",
      "1.0587432384490967\n",
      "1.006216287612915\n",
      "0.9562959671020508\n",
      "0.9088521003723145\n",
      "0.863760232925415\n",
      "0.8209083080291748\n",
      "0.7801809310913086\n",
      "0.7414746284484863\n",
      "0.704688549041748\n",
      "0.6697280406951904\n",
      "0.6365013122558594\n",
      "0.604921817779541\n",
      "0.5749108791351318\n",
      "0.5463883876800537\n",
      "0.5192816257476807\n",
      "0.49351930618286133\n",
      "0.46903347969055176\n",
      "0.44576501846313477\n",
      "0.42365026473999023\n",
      "0.4026327133178711\n",
      "0.3826568126678467\n",
      "0.36367297172546387\n",
      "0.3456292152404785\n",
      "0.32848119735717773\n",
      "0.31218719482421875\n",
      "0.29669857025146484\n",
      "0.2819795608520508\n",
      "0.2679884433746338\n",
      "0.25469374656677246\n",
      "0.24205780029296875\n",
      "0.23004984855651855\n",
      "0.21863579750061035\n",
      "0.20778870582580566\n",
      "0.19748210906982422\n",
      "0.18768310546875\n",
      "0.17837238311767578\n",
      "0.16952228546142578\n",
      "0.16111326217651367\n",
      "0.15311908721923828\n",
      "0.1455235481262207\n",
      "0.1383056640625\n",
      "0.13144302368164062\n",
      "0.12492227554321289\n",
      "0.11872315406799316\n",
      "0.11283397674560547\n",
      "0.10723519325256348\n",
      "0.10191607475280762\n",
      "0.09685897827148438\n",
      "0.09205365180969238\n",
      "0.08748817443847656\n",
      "0.08314800262451172\n",
      "0.07902193069458008\n",
      "0.07510137557983398\n",
      "0.07137656211853027\n",
      "0.06783509254455566\n",
      "0.06446981430053711\n",
      "0.06127119064331055\n",
      "0.05823040008544922\n",
      "0.05534219741821289\n",
      "0.0525975227355957\n",
      "0.049987077713012695\n",
      "0.04750847816467285\n",
      "0.045151472091674805\n",
      "0.042909860610961914\n",
      "0.04078197479248047\n",
      "0.03875875473022461\n",
      "0.03683638572692871\n",
      "0.03500795364379883\n",
      "0.033271074295043945\n",
      "0.03162097930908203\n",
      "0.03005218505859375\n",
      "0.028560876846313477\n",
      "0.027143478393554688\n",
      "0.025797605514526367\n",
      "0.02451777458190918\n",
      "0.023302078247070312\n",
      "0.02214670181274414\n",
      "0.021046161651611328\n",
      "0.020003557205200195\n",
      "0.019010066986083984\n",
      "0.018067598342895508\n",
      "0.01717209815979004\n",
      "0.016321182250976562\n",
      "0.015508651733398438\n",
      "0.014740705490112305\n",
      "0.014008522033691406\n",
      "0.013313531875610352\n",
      "0.012652873992919922\n",
      "0.012025594711303711\n",
      "0.011429071426391602\n",
      "0.010862112045288086\n",
      "0.01032257080078125\n",
      "0.009810447692871094\n",
      "0.009323835372924805\n",
      "0.008863210678100586\n",
      "0.008422613143920898\n",
      "0.008004903793334961\n",
      "0.007607936859130859\n",
      "0.007229328155517578\n",
      "0.00687098503112793\n",
      "0.00653076171875\n",
      "0.006206512451171875\n",
      "0.005898237228393555\n",
      "0.005604982376098633\n",
      "0.005325794219970703\n",
      "0.005063295364379883\n",
      "0.004811286926269531\n",
      "0.0045735836029052734\n",
      "0.004346370697021484\n",
      "0.004130125045776367\n",
      "0.003925323486328125\n",
      "0.00373077392578125\n",
      "0.003546476364135742\n",
      "0.003370523452758789\n",
      "0.003203153610229492\n",
      "0.003044605255126953\n",
      "0.002893686294555664\n",
      "0.0027501583099365234\n",
      "0.0026133060455322266\n",
      "0.0024831295013427734\n",
      "0.0023605823516845703\n",
      "0.002244234085083008\n",
      "0.0021326541900634766\n",
      "0.0020270347595214844\n",
      "0.0019261837005615234\n",
      "0.0018312931060791016\n",
      "0.0017392635345458984\n",
      "0.001653909683227539\n",
      "0.0015716552734375\n",
      "0.001493215560913086\n",
      "0.0014200210571289062\n",
      "0.0013489723205566406\n",
      "0.0012819766998291016\n",
      "0.0012178421020507812\n",
      "0.001157999038696289\n",
      "0.0010981559753417969\n",
      "0.0010445117950439453\n",
      "0.0009937286376953125\n",
      "0.0009438991546630859\n",
      "0.0008981227874755859\n",
      "0.0008542537689208984\n",
      "0.0008115768432617188\n",
      "0.0007700920104980469\n",
      "0.0007317066192626953\n",
      "0.0006957054138183594\n",
      "0.0006620883941650391\n",
      "0.0006284713745117188\n",
      "0.0005979537963867188\n",
      "0.0005674362182617188\n",
      "0.0005407333374023438\n",
      "0.0005123615264892578\n",
      "0.00048828125\n",
      "0.0004622936248779297\n",
      "0.0004401206970214844\n",
      "0.0004191398620605469\n",
      "0.00039768218994140625\n",
      "0.0003783702850341797\n",
      "0.00035858154296875\n",
      "0.0003407001495361328\n",
      "0.0003237724304199219\n",
      "0.00030803680419921875\n",
      "0.0002932548522949219\n",
      "0.0002777576446533203\n",
      "0.00026345252990722656\n",
      "0.0002510547637939453\n",
      "0.0002391338348388672\n",
      "0.0002281665802001953\n",
      "0.00021648406982421875\n",
      "0.00020575523376464844\n",
      "0.0001952648162841797\n",
      "0.00018644332885742188\n",
      "0.0001766681671142578\n",
      "0.00016689300537109375\n",
      "0.00015974044799804688\n",
      "0.00015163421630859375\n",
      "0.00014448165893554688\n",
      "0.00013637542724609375\n",
      "0.00013065338134765625\n",
      "0.0001239776611328125\n",
      "0.00011706352233886719\n",
      "0.00011181831359863281\n",
      "0.00010538101196289062\n",
      "0.00010085105895996094\n",
      "9.560585021972656e-05\n",
      "9.131431579589844e-05\n",
      "8.535385131835938e-05\n",
      "8.106231689453125e-05\n",
      "7.867813110351562e-05\n",
      "7.43865966796875e-05\n",
      "7.081031799316406e-05\n",
      "6.914138793945312e-05\n",
      "6.341934204101562e-05\n",
      "6.031990051269531e-05\n",
      "5.698204040527344e-05\n",
      "5.507469177246094e-05\n",
      "5.173683166503906e-05\n",
      "4.863739013671875e-05\n",
      "4.673004150390625e-05\n",
      "4.506111145019531e-05\n",
      "4.2438507080078125e-05\n",
      "4.124641418457031e-05\n",
      "3.790855407714844e-05\n",
      "3.6716461181640625e-05\n",
      "3.409385681152344e-05\n",
      "3.2901763916015625e-05\n",
      "3.1948089599609375e-05\n",
      "2.9802322387695312e-05\n",
      "2.8371810913085938e-05\n",
      "2.765655517578125e-05\n",
      "2.47955322265625e-05\n",
      "2.4557113647460938e-05\n",
      "2.4080276489257812e-05\n",
      "2.1696090698242188e-05\n",
      "1.9788742065429688e-05\n",
      "2.002716064453125e-05\n",
      "1.7642974853515625e-05\n",
      "1.7642974853515625e-05\n",
      "1.5735626220703125e-05\n",
      "1.621246337890625e-05\n",
      "1.4543533325195312e-05\n",
      "1.4543533325195312e-05\n",
      "1.430511474609375e-05\n",
      "1.3828277587890625e-05\n",
      "1.239776611328125e-05\n",
      "1.1444091796875e-05\n",
      "1.1682510375976562e-05\n",
      "1.049041748046875e-05\n",
      "1.049041748046875e-05\n",
      "9.059906005859375e-06\n",
      "9.059906005859375e-06\n",
      "8.58306884765625e-06\n",
      "7.867813110351562e-06\n",
      "8.821487426757812e-06\n",
      "8.821487426757812e-06\n",
      "8.344650268554688e-06\n",
      "7.3909759521484375e-06\n",
      "5.9604644775390625e-06\n",
      "4.76837158203125e-06\n",
      "5.0067901611328125e-06\n",
      "5.245208740234375e-06\n",
      "5.4836273193359375e-06\n",
      "4.291534423828125e-06\n",
      "3.5762786865234375e-06\n",
      "3.814697265625e-06\n",
      "2.86102294921875e-06\n",
      "4.291534423828125e-06\n",
      "3.5762786865234375e-06\n",
      "3.0994415283203125e-06\n",
      "3.5762786865234375e-06\n",
      "3.5762786865234375e-06\n",
      "3.5762786865234375e-06\n",
      "3.0994415283203125e-06\n",
      "3.814697265625e-06\n",
      "3.5762786865234375e-06\n",
      "3.337860107421875e-06\n",
      "3.0994415283203125e-06\n",
      "3.5762786865234375e-06\n",
      "4.5299530029296875e-06\n",
      "2.86102294921875e-06\n",
      "2.384185791015625e-06\n",
      "1.9073486328125e-06\n",
      "7.152557373046875e-07\n",
      "2.384185791015625e-06\n",
      "1.1920928955078125e-06\n",
      "1.9073486328125e-06\n",
      "2.6226043701171875e-06\n",
      "9.5367431640625e-07\n",
      "2.6226043701171875e-06\n",
      "2.384185791015625e-06\n",
      "1.6689300537109375e-06\n",
      "1.9073486328125e-06\n",
      "4.76837158203125e-07\n",
      "3.725290298461914e-08\n",
      "2.468004822731018e-08\n",
      "2.561137080192566e-08\n",
      "2.468004822731018e-08\n",
      "2.468004822731018e-08\n",
      "2.421438694000244e-08\n",
      "2.421438694000244e-08\n",
      "6.51925802230835e-09\n"
     ]
    }
   ],
   "source": [
    "def egm_ss(r, w, par, max_iter = 10_000, tol = 1e-8, verbose = False):\n",
    "    \"\"\" solve the EGM for the steady state \"\"\"\n",
    "\n",
    "    # a. initialize\n",
    "    y = w*par.z_grid\n",
    "    c = r*par.a_grid[np.newaxis,:] + y[:,np.newaxis] \n",
    "    Va = (1+r)*c**(-par.sigma)\n",
    "\n",
    "    # b. iterate\n",
    "    for it in range(max_iter):\n",
    "\n",
    "        # i. solve backwards\n",
    "        c, a, Va_new = solve_hh_backwards_one_step(par.z_trans, par.z_grid, par.a_grid, par.sigma, par.beta, r, w, Va)\n",
    "\n",
    "        # ii. check convergence\n",
    "        error = np.max(np.abs(Va - Va_new))\n",
    "        if verbose:\n",
    "            print(error)\n",
    "        if error < tol:\n",
    "            break\n",
    "\n",
    "        Va = Va_new.copy()\n",
    "\n",
    "    return c, a, Va_new\n",
    "\n",
    "c, a, Va = egm_ss(r, w, par, verbose = True)\n"
   ]
  },
  {
   "cell_type": "markdown",
   "id": "e7bd308c",
   "metadata": {},
   "source": [
    "That's it! We have obtains the policy functions for consumption and savings of the households at the steady state for a given $r$ and $w$ (i.e. in partial equilibrium). We can plot those for given $(a,z)$. \n",
    "\n",
    "As expected, the consumption function is a concave function of wealth, and the net-savings function is a decreasing function of wealth, crossing the 0 horizontal line (implying a buffer-stock behavior)."
   ]
  },
  {
   "cell_type": "code",
   "execution_count": 58,
   "id": "35f82c3c",
   "metadata": {},
   "outputs": [
    {
     "data": {
      "image/png": "[encoded data removed]",
      "text/plain": [
       "<Figure size 640x480 with 1 Axes>"
      ]
     },
     "metadata": {},
     "output_type": "display_data"
    },
    {
     "data": {
      "image/png": "[encoded data removed]",
      "text/plain": [
       "<Figure size 640x480 with 1 Axes>"
      ]
     },
     "metadata": {},
     "output_type": "display_data"
    }
   ],
   "source": [
    "plt.plot(par.a_grid, c.T)\n",
    "plt.xlim(0, 100)\n",
    "plt.ylim(0, 5)\n",
    "plt.title('Consumption Policy Function')\n",
    "plt.show()\n",
    "\n",
    "plt.plot(par.a_grid, (a-par.a_grid[np.newaxis,:]).T)\n",
    "plt.plot(par.a_grid, np.zeros_like(par.a_grid), linestyle = ':', color = 'black')\n",
    "plt.xlim(0, 100)\n",
    "plt.ylim(-3, 1)\n",
    "plt.title('Savings Policy Function')\n",
    "plt.show()"
   ]
  },
  {
   "cell_type": "markdown",
   "id": "3eb3f6f1",
   "metadata": {},
   "source": [
    "## <a id='toc1_2_'></a>[Obtain the distribution using the histogram method](#toc0_)"
   ]
  },
  {
   "cell_type": "markdown",
   "id": "b9717b9b",
   "metadata": {},
   "source": [
    "The second part of this course is to compute the distribution. Our goal is to simulate the households in the economy in order to compute the distribution and the relevant aggregage variables. \n",
    "\n",
    "A first method to do this is the Monte-Carlo method: simulate $N$ households with initial conditions $(a_0,z_0)$ for $T$ periods using the policy functions and drawing shocks for each period. Because of the law of large number, if $T$ is large enough, the distribution will converge to its stationary distribution. However, this method is quite slow because for each $(i,t)$, we need to interpolate over the policy function and draw some new shocks for $z'$. It will also require a large $N$ for the law of large number to kick in.\n",
    "\n",
    "Instead, we may use the histogram method (also sometimes called Young's method). The idea is to approximate a distribution $D(a,z)$ over our existing grids `a_grid`, `z_grid`. "
   ]
  },
  {
   "cell_type": "code",
   "execution_count": 59,
   "id": "c20a118e",
   "metadata": {},
   "outputs": [],
   "source": [
    "D = np.zeros((Nz, Na))\n",
    "D[0] = 1.0 # initialize all households to be a z = z_min, a = a_min"
   ]
  },
  {
   "cell_type": "markdown",
   "id": "968c081f",
   "metadata": {},
   "source": [
    "One difficulty is that our policy function $a'(a,z)$ implies decisions that are most likely not on the grid for `a_grid`. For example, `a'[5,0]` is located between the points 16 and 17."
   ]
  },
  {
   "cell_type": "code",
   "execution_count": 60,
   "id": "cdaa6bae",
   "metadata": {},
   "outputs": [
    {
     "name": "stdout",
     "output_type": "stream",
     "text": [
      "1.777799439076865\n",
      "1.7533347390167862\n",
      "1.7963320621953467\n"
     ]
    }
   ],
   "source": [
    "a_i = np.searchsorted(par.a_grid, a[5,0], side='right') -1\n",
    "\n",
    "print(a[5,0])\n",
    "print(par.a_grid[a_i])\n",
    "print(par.a_grid[a_i+1])"
   ]
  },
  {
   "cell_type": "markdown",
   "id": "7043f504",
   "metadata": {},
   "source": [
    "To solve this problem, we will discretize our policy function, and use the 'lottery method' to distribute households to the points surrounding $a'(a,z)$. First, we obtain all the indexes on our grid such that, for all $a'(a,z)$, we find `a_i` where `a_grid[a_i]` is the point on the grid just below `a'` and `a_grid[a_i+1]` is the point just above. We can do this quickly using the `searchsorted` function from numpy."
   ]
  },
  {
   "cell_type": "code",
   "execution_count": 61,
   "id": "a4380fde",
   "metadata": {},
   "outputs": [
    {
     "name": "stdout",
     "output_type": "stream",
     "text": [
      "1.777799439076865\n",
      "1.7533347390167862\n",
      "1.7963320621953467\n"
     ]
    }
   ],
   "source": [
    "a_i = np.searchsorted(par.a_grid, a, side='right') -1\n",
    "\n",
    "print(a[5,0])\n",
    "print(par.a_grid[a_i[5,0]])\n",
    "print(par.a_grid[a_i[5,0]+1])"
   ]
  },
  {
   "cell_type": "markdown",
   "id": "a672c3b3",
   "metadata": {},
   "source": [
    "We will distribute households in this way:\n",
    "`a_pi = (a_grid[a_i+1] - a)/(a_grid[a_i+1] - a_grid[a_i])`\n",
    "if `a=a_grid[a_i]` we put a mass one on `a_grid[a_i]`. If `a=a_grid[a_i+1]`, we put a mass one on `a_grid[a_i+1]`. Otherwise, we put more weight on the point on the grid closer to $a'(a,z)$. "
   ]
  },
  {
   "cell_type": "code",
   "execution_count": 62,
   "id": "02c3c7c0",
   "metadata": {},
   "outputs": [],
   "source": [
    "a_pi = (par.a_grid[a_i+1] - a[5,0])/(par.a_grid[a_i+1] - par.a_grid[a_i])"
   ]
  },
  {
   "cell_type": "markdown",
   "id": "8d703994",
   "metadata": {},
   "source": [
    "We then write the `get_lottery` function that performs this discretization for all points on the grids."
   ]
  },
  {
   "cell_type": "code",
   "execution_count": 63,
   "id": "6da665a9",
   "metadata": {},
   "outputs": [],
   "source": [
    "def get_lottery(a, a_grid):\n",
    "    # step 1: find the i such that a' lies between gridpoints a_i and a_(i+1)\n",
    "    a_i = np.searchsorted(a_grid, a, side='right') - 1\n",
    "    a_i = np.clip(a_i, 0, len(a_grid)-2)\n",
    "\n",
    "    # step 2: implement (8) to obtain lottery probabilities pi\n",
    "    a_pi = (a_grid[a_i+1] - a)/(a_grid[a_i+1] - a_grid[a_i])\n",
    "    \n",
    "    return a_i, a_pi\n"
   ]
  },
  {
   "cell_type": "markdown",
   "id": "9ebf5c18",
   "metadata": {},
   "source": [
    "We can now iterate over our discretize policy to compute the distribution next period, when we iterate once over the policy function."
   ]
  },
  {
   "cell_type": "code",
   "execution_count": 64,
   "id": "c3da9daf",
   "metadata": {},
   "outputs": [],
   "source": [
    "@nb.njit\n",
    "def forward_policy(D, a_i, a_pi):\n",
    "    Dend = np.zeros_like(D)\n",
    "    for e in range(a_i.shape[0]):\n",
    "        for a in range(a_i.shape[1]):\n",
    "            # send pi(e,a) of the mass to gridpoint i(e,a)\n",
    "            Dend[e, a_i[e,a]] += a_pi[e,a]*D[e,a]\n",
    "            \n",
    "            # send 1-pi(e,a) of the mass to gridpoint i(e,a)+1\n",
    "            Dend[e, a_i[e,a]+1] += (1-a_pi[e,a])*D[e,a]\n",
    "            \n",
    "    return Dend"
   ]
  },
  {
   "cell_type": "markdown",
   "id": "bd4e81f0",
   "metadata": {},
   "source": [
    "To account for the idiosyncratic shock, we apply the transpose of our Markov matrix to the distribution."
   ]
  },
  {
   "cell_type": "code",
   "execution_count": 65,
   "id": "35a44266",
   "metadata": {},
   "outputs": [],
   "source": [
    "def forward_iteration(D, z_trans, a_i, a_pi):\n",
    "    Dend = forward_policy(D, a_i, a_pi)    \n",
    "    return z_trans.T @ Dend"
   ]
  },
  {
   "cell_type": "markdown",
   "id": "6539db0d",
   "metadata": {},
   "source": [
    "What does this do, in practice?"
   ]
  },
  {
   "cell_type": "code",
   "execution_count": 66,
   "id": "7913daef",
   "metadata": {},
   "outputs": [
    {
     "data": {
      "image/png": "[encoded data removed]",
      "text/plain": [
       "<Figure size 640x480 with 1 Axes>"
      ]
     },
     "metadata": {},
     "output_type": "display_data"
    }
   ],
   "source": [
    "a_i, a_pi = get_lottery(a, par.a_grid)\n",
    "\n",
    "D = np.zeros((Nz, Na))\n",
    "D[0,0] = 1.0\n",
    "for i in range(100):\n",
    "    D_new = forward_iteration(D, par.z_trans, a_i, a_pi)\n",
    "    if i%10==0:\n",
    "        plt.plot(par.a_grid, np.sum(D_new, axis=0), label=f'Iteration {i}')\n",
    "        plt.xlim(-0.1, 2)\n",
    "        plt.legend()\n",
    "    D = D_new"
   ]
  },
  {
   "cell_type": "markdown",
   "id": "c7cacec5",
   "metadata": {},
   "source": [
    "We then iterate over this mapping until convergence!"
   ]
  },
  {
   "cell_type": "code",
   "execution_count": 67,
   "id": "6882ed87",
   "metadata": {},
   "outputs": [],
   "source": [
    "def distribution_ss(a, par, tol=1E-10):\n",
    "    a_i, a_pi = get_lottery(a, par.a_grid)\n",
    "\n",
    "    # as initial D, use stationary distribution for s, plus uniform over a\n",
    "    D = par.z_ergodic[:, np.newaxis] * np.ones_like(par.a_grid) / len(par.a_grid)\n",
    "\n",
    "    # now iterate until convergence to acceptable threshold\n",
    "    for _ in range(100_000):\n",
    "        D_new = forward_iteration(D, par.z_trans, a_i, a_pi)\n",
    "        if np.max(np.abs(D_new - D)) < tol:\n",
    "            return D_new\n",
    "        D = D_new"
   ]
  },
  {
   "cell_type": "code",
   "execution_count": 68,
   "id": "7f62260c",
   "metadata": {},
   "outputs": [],
   "source": [
    "D = distribution_ss(a, par)"
   ]
  },
  {
   "cell_type": "markdown",
   "id": "b6d23439",
   "metadata": {},
   "source": [
    "One very important thing to understand is that, also the *distribution* is stationary, households move within this distribution at every period. However, because of the law of large numbers, each move perfectly compensate each other so that the distribution remain the same."
   ]
  },
  {
   "cell_type": "code",
   "execution_count": 69,
   "id": "cd4fd9e8",
   "metadata": {},
   "outputs": [
    {
     "data": {
      "image/png": "[encoded data removed]",
      "text/plain": [
       "<Figure size 640x480 with 1 Axes>"
      ]
     },
     "metadata": {},
     "output_type": "display_data"
    }
   ],
   "source": [
    "D_flat = np.sum(D, axis = 0)\n",
    "plt.plot(par.a_grid, D_flat)\n",
    "plt.xlim(-1, 30)\n",
    "plt.show()"
   ]
  },
  {
   "cell_type": "markdown",
   "id": "100ec604",
   "metadata": {},
   "source": [
    "The last step is then to compute aggregate variables. We can do this easily by simply by integrating the policy functions over the distribution (i.e. summing, in our discrete world)"
   ]
  },
  {
   "cell_type": "code",
   "execution_count": 70,
   "id": "156fec2a",
   "metadata": {},
   "outputs": [],
   "source": [
    "A = np.sum(a*D)\n",
    "C = np.sum(c*D)"
   ]
  },
  {
   "cell_type": "markdown",
   "id": "65d8cddf",
   "metadata": {},
   "source": [
    "And that's it! We have seen how to:\n",
    "1. Compute the policy functions of the households for a given $(r,w)$ \n",
    "2. And to compute the associated stationary distribution.\n",
    "3. How to compute the aggregate variables of the household block\n",
    "\n",
    "Now, let's move to solving the general equilibrium."
   ]
  },
  {
   "cell_type": "markdown",
   "id": "28b8a782",
   "metadata": {},
   "source": [
    "## <a id='toc1_3_'></a>[Obtain aggregate hh variables using policies and the distribution](#toc0_)"
   ]
  },
  {
   "cell_type": "code",
   "execution_count": 71,
   "id": "8f95d500",
   "metadata": {},
   "outputs": [],
   "source": [
    "def household_ss(r, w, par, max_iter = 10_000, tol = 1e-8, verbose = False):\n",
    "    c, a, Va = egm_ss(r, w, par, max_iter, tol, verbose) \n",
    "    D = distribution_ss(a, par)\n",
    "    A = np.sum(D * a)\n",
    "    C = np.sum(D * c) \n",
    "    return A, C, D, a, c, Va \n"
   ]
  },
  {
   "cell_type": "code",
   "execution_count": 72,
   "id": "9b6d1c9b",
   "metadata": {},
   "outputs": [],
   "source": [
    "def firm(K, Gamma, par): \n",
    "    r = par.alpha * Gamma * K**(par.alpha-1) - par.delta\n",
    "    Y = Gamma * K**par.alpha \n",
    "    w = (1-par.alpha) * Y  \n",
    "    return r, w, Y"
   ]
  },
  {
   "cell_type": "code",
   "execution_count": 73,
   "id": "6e8bd28b",
   "metadata": {},
   "outputs": [
    {
     "data": {
      "text/plain": [
       "<matplotlib.legend.Legend at 0x1768d0f80>"
      ]
     },
     "execution_count": 73,
     "metadata": {},
     "output_type": "execute_result"
    },
    {
     "data": {
      "image/png": "[encoded data removed]",
      "text/plain": [
       "<Figure size 640x480 with 1 Axes>"
      ]
     },
     "metadata": {},
     "output_type": "display_data"
    }
   ],
   "source": [
    "def asset_supply_r(r_vec, beta):\n",
    "    par.beta = beta \n",
    "    Nr = len(r_vec)\n",
    "    K_vec = ((r_vec+par.delta) / (par.alpha * par.Gamma))**(1/(par.alpha-1))\n",
    "    Y = par.Gamma * K_vec**par.alpha\n",
    "    w_vec = (1-par.alpha) * Y\n",
    "    A_vec = np.zeros(Nr)\n",
    "    for i, r in enumerate(r_vec):\n",
    "        print\n",
    "        A_vec[i], _, _, _, _, _  = household_ss(r_vec[i], w_vec[i], par) \n",
    "    return A_vec, K_vec\n",
    "\n",
    "Nr = 10\n",
    "r_vec = np.linspace(0.0, (1/par.beta-1)*0.9, Nr)\n",
    "A_vec, K_vec = asset_supply_r(r_vec, par.beta)\n",
    "A_vec_2, _ = asset_supply_r(r_vec , par.beta * 0.98)\n",
    "plt.plot(A_vec, r_vec * 100, label = 'A (high beta)')\n",
    "plt.plot(A_vec_2, r_vec * 100, label = \"A (low beta)\")\n",
    "plt.plot(K_vec, r_vec * 100, label = 'K')\n",
    "plt.xlabel('Capital and Assets')\n",
    "plt.ylabel('Interest Rate')\n",
    "plt.title('Stationary Equilibrium')\n",
    "plt.legend()"
   ]
  },
  {
   "cell_type": "markdown",
   "id": "41fc967c",
   "metadata": {},
   "source": [
    "## <a id='toc1_4_'></a>[Put everything together: solve for the steady-state in GE](#toc0_)"
   ]
  },
  {
   "cell_type": "code",
   "execution_count": 74,
   "id": "9f514bdf",
   "metadata": {},
   "outputs": [
    {
     "name": "stdout",
     "output_type": "stream",
     "text": [
      "9.733186353732691\n",
      "-26.363502054643558\n",
      "-0.7253342157887488\n",
      "-0.06527538313238779\n",
      "-0.0002928196243701109\n",
      "-1.2339075183831483e-07\n",
      "-7.432738868828892e-10\n",
      "1.424439233232988e-09\n",
      "1.378460012801952e-09\n",
      "5.125606605815847e-10\n",
      "5.310596407070989e-11\n",
      "1.0135501327113161e-09\n",
      "8.405613982631621e-10\n",
      "6.884164349685307e-10\n",
      "-2.490416761702363e-10\n",
      "2.05755412707731e-10\n",
      "Equilibrium K =  19.963846552124874\n"
     ]
    }
   ],
   "source": [
    "def find_ss(K, par):\n",
    "    r, w, Y = firm(K, par.Gamma, par) \n",
    "    A, _, _, _, _, _  = household_ss(r, w, par) \n",
    "    print(A-K)\n",
    "    return A-K\n",
    "\n",
    "from scipy.optimize import brentq \n",
    "\n",
    "K = brentq(find_ss, 10.0, 50.0, args=(par,))\n",
    "print('Equilibrium K = ', K)"
   ]
  }
 ],
 "metadata": {
  "kernelspec": {
   "display_name": "base",
   "language": "python",
   "name": "python3"
  },
  "language_info": {
   "codemirror_mode": {
    "name": "ipython",
    "version": 3
   },
   "file_extension": ".py",
   "mimetype": "text/x-python",
   "name": "python",
   "nbconvert_exporter": "python",
   "pygments_lexer": "ipython3",
   "version": "3.12.2"
  }
 },
 "nbformat": 4,
 "nbformat_minor": 5
}
