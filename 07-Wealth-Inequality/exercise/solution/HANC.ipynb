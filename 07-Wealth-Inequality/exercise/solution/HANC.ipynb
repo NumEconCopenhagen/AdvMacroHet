{
 "cells": [
  {
   "cell_type": "markdown",
   "metadata": {},
   "source": [
    "# Heterogenous Asset Returns"
   ]
  },
  {
   "cell_type": "markdown",
   "metadata": {},
   "source": [
    "**Table of contents**<a id='toc0_'></a>    \n",
    "- 1. [Preliminary: Working with 2 exogenous states](#toc1_)    \n",
    "- 2. [Q1: PE household problem](#toc2_)    \n",
    "- 3. [Q2: GE model](#toc3_)    \n",
    "\n",
    "<!-- vscode-jupyter-toc-config\n",
    "\tnumbering=true\n",
    "\tanchor=true\n",
    "\tflat=false\n",
    "\tminLevel=2\n",
    "\tmaxLevel=6\n",
    "\t/vscode-jupyter-toc-config -->\n",
    "<!-- THIS CELL WILL BE REPLACED ON TOC UPDATE. DO NOT WRITE YOUR TEXT IN THIS CELL -->"
   ]
  },
  {
   "cell_type": "code",
   "execution_count": 1,
   "metadata": {},
   "outputs": [
    {
     "name": "stdout",
     "output_type": "stream",
     "text": [
      "The autoreload extension is already loaded. To reload it, use:\n",
      "  %reload_ext autoreload\n"
     ]
    }
   ],
   "source": [
    "%load_ext autoreload\n",
    "%autoreload 2\n",
    "\n",
    "import time\n",
    "import pickle\n",
    "import numpy as np\n",
    "from scipy import optimize\n",
    "import blocks\n",
    "from GEModelTools import get_varnames\n",
    "import matplotlib.pyplot as plt   \n",
    "colors = plt.rcParams['axes.prop_cycle'].by_key()['color']\n",
    "plt.rcParams.update({\"axes.grid\" : True, \"grid.color\": \"black\", \"grid.alpha\":\"0.25\", \"grid.linestyle\": \"--\"})\n",
    "plt.rcParams.update({'font.size': 14})\n",
    "\n",
    "from HANCModel import HANCModelClass\n",
    "from consav.markov import log_rouwenhorst, rouwenhorst\n",
    "from steady_state import prepare_hh_ss"
   ]
  },
  {
   "cell_type": "markdown",
   "metadata": {},
   "source": [
    "## 1. <a id='toc1_'></a>[Preliminary: Working with 2 exogenous states](#toc0_)"
   ]
  },
  {
   "cell_type": "markdown",
   "metadata": {},
   "source": [
    "In GEModeltools the variables of the household block (i.e. $c,a,D$) are always given as arrays of size $N_f \\times N_z \\times N_a$ where $N_f$ is the numer of exogenous grid points for permanent states, $N_z$ is the number of grid points for transtiional, exogenous states, and $N_a$ is the number of grid points for the endogenous state.\n",
    "\n",
    "Lets assume we have two exogoues states, earnings $e_{it}$ and returns $r_{it}$. We discretize these with 5 and 7 points respectively"
   ]
  },
  {
   "cell_type": "code",
   "execution_count": 2,
   "metadata": {},
   "outputs": [
    {
     "name": "stdout",
     "output_type": "stream",
     "text": [
      "Mean e 1.00\n",
      "Mean r 0.02\n"
     ]
    }
   ],
   "source": [
    "# e \n",
    "Ne = 5\n",
    "rho_e = 0.96 \n",
    "sigma_e = 0.1 \n",
    "e_grid,e_trans,e_ergodic,_,_ = log_rouwenhorst(rho=rho_e,sigma=sigma_e,n=Ne)\n",
    "\n",
    "print(f'Mean e {np.sum(e_ergodic*e_grid):.2f}')\n",
    "\n",
    "# r\n",
    "Nr = 7\n",
    "rho_r = 0.7 \n",
    "rX_mean = 0.02 \n",
    "sigma_r = 0.01\n",
    "r_grid,r_trans,r_ergodic,_,_ = rouwenhorst(mu=rX_mean*(1-rho_r),rho=rho_r,sigma=sigma_r,n=7)\n",
    "\n",
    "print(f'Mean r {np.sum(r_ergodic*r_grid):.2f}')"
   ]
  },
  {
   "cell_type": "markdown",
   "metadata": {},
   "source": [
    "In order to combine the two to a common state exo. state $z$ we need to combine their individual transition matricies to a common transition matrix. We do this using the *Kronecker product* "
   ]
  },
  {
   "cell_type": "code",
   "execution_count": 3,
   "metadata": {},
   "outputs": [
    {
     "name": "stdout",
     "output_type": "stream",
     "text": [
      "Shape of trans_z (35, 35)\n"
     ]
    }
   ],
   "source": [
    "Nz = Ne*Nr\n",
    "\n",
    "# Kronecker product \n",
    "trans_z = np.kron(r_trans,e_trans)\n",
    "print(f'Shape of trans_z {trans_z.shape}')\n",
    "\n",
    "# check that this is a proper transition matrix\n",
    "for i_z in range(Nz):\n",
    "    assert np.isclose(np.sum(trans_z[i_z]),1.0)\n",
    "\n",
    "# Let us also get the ergodic distribution\n",
    "z_ergodic = np.kron(r_ergodic, e_ergodic)\n",
    "\n",
    "# could also have iterated using the markov matrix above\n",
    "Z_ergodic_test = np.ones(Nz)  / Nz\n",
    "\n",
    "for it in range(10_000):\n",
    "    Z_ergodic_test_new = Z_ergodic_test @ trans_z\n",
    "\n",
    "    if np.max(np.abs(Z_ergodic_test - Z_ergodic_test_new)) < 1e-08:\n",
    "        break\n",
    "    else:\n",
    "        Z_ergodic_test = Z_ergodic_test_new\n",
    "\n",
    "assert np.allclose(Z_ergodic_test, z_ergodic)\n",
    "del Z_ergodic_test, Z_ergodic_test_new"
   ]
  },
  {
   "cell_type": "markdown",
   "metadata": {},
   "source": [
    "Let us now construc the right hand side of the budget constraint $m_t=(1+r_t)a_{t-1} + e_t$ for some initial value $a_{t-1}=2$"
   ]
  },
  {
   "cell_type": "code",
   "execution_count": 4,
   "metadata": {},
   "outputs": [
    {
     "name": "stdout",
     "output_type": "stream",
     "text": [
      "Aggregate M 3.0400\n",
      "Should be 3.0400\n"
     ]
    }
   ],
   "source": [
    "a_lag = 2. \n",
    "m = np.zeros(Nz)\n",
    "\n",
    "for i_z in range(Nz): # loop over all stochastic discrete states\n",
    "\n",
    "    # Get r and e states \n",
    "    i_r = i_z // Ne  # State index in Markov chain r\n",
    "    i_e = i_z % Ne   # State index in Markov chain e\n",
    "    # NOTE: This depends on the ordering we use when using the Kronecker product in the above cell (we use r first)\n",
    "\n",
    "    # budget \n",
    "    m[i_z] = (1+r_grid[i_r])*a_lag + e_grid[i_e]\n",
    "\n",
    "\n",
    "# aggregate and check \n",
    "M = np.sum(z_ergodic*m)\n",
    "\n",
    "M_test = (1+rX_mean)*a_lag + np.sum(e_ergodic*e_grid)\n",
    "\n",
    "print(f'Aggregate M {M:.4f}')\n",
    "print(f'Should be {M_test:.4f}')"
   ]
  },
  {
   "cell_type": "markdown",
   "metadata": {},
   "source": [
    "## 2. <a id='toc2_'></a>[Q1: PE household problem](#toc0_)"
   ]
  },
  {
   "cell_type": "markdown",
   "metadata": {},
   "source": [
    "Solve the household problem in partial equilibrium given $r=0.04, w=0.64$"
   ]
  },
  {
   "cell_type": "code",
   "execution_count": 5,
   "metadata": {},
   "outputs": [],
   "source": [
    "model = HANCModelClass(name='baseline') # create an instance of the model\n",
    "model.setup()\n",
    "\n",
    "par = model.par\n",
    "ss = model.ss\n",
    "path = model.path\n",
    "sim = model.sim"
   ]
  },
  {
   "cell_type": "code",
   "execution_count": 6,
   "metadata": {},
   "outputs": [],
   "source": [
    "ss.r = 0.04 \n",
    "ss.w = 0.64 \n",
    "par.beta = 0.89\n",
    "par.rX_mean = 0. \n",
    "\n",
    "prepare_hh_ss(model)\n",
    "model.solve_hh_ss(do_print=False)\n",
    "model.simulate_hh_ss(do_print=False)"
   ]
  },
  {
   "cell_type": "markdown",
   "metadata": {},
   "source": [
    "In the standard HA model average returns are simply $\\frac{r\\times A}{A}=r$. What are average returns in this model?\n",
    "Do they equal ss.r + par.rX_mean, as one might would expect ex-ante?"
   ]
  },
  {
   "cell_type": "code",
   "execution_count": 7,
   "metadata": {},
   "outputs": [
    {
     "data": {
      "text/plain": [
       "0.04985711136904711"
      ]
     },
     "execution_count": 7,
     "metadata": {},
     "output_type": "execute_result"
    }
   ],
   "source": [
    "model.ss.RETURNS_hh / model.ss.A_hh "
   ]
  },
  {
   "cell_type": "markdown",
   "metadata": {},
   "source": [
    "## 3. <a id='toc3_'></a>[Q2: GE model](#toc0_)"
   ]
  },
  {
   "cell_type": "markdown",
   "metadata": {},
   "source": [
    "Let us first calibrate a model with heterogeneous returns"
   ]
  },
  {
   "cell_type": "code",
   "execution_count": 8,
   "metadata": {},
   "outputs": [
    {
     "name": "stderr",
     "output_type": "stream",
     "text": [
      "/Users/raphaelhuleux/Documents/_projects/AdvMacroHet/07-Wealth-Inequality/exercise/solution/household_problem.py:55: RuntimeWarning: divide by zero encountered in power\n",
      "  v_a[i_fix,i_z] = (1+r_eff)*c[i_fix,i_z]**(-par.sigma)\n"
     ]
    },
    {
     "name": "stdout",
     "output_type": "stream",
     "text": [
      " message: The solution converged.\n",
      " success: True\n",
      "  status: 1\n",
      "     fun: [-1.312e-11 -5.738e-15]\n",
      "       x: [ 9.489e-01 -4.123e-03]\n",
      "  method: hybr\n",
      "    nfev: 25\n",
      "    fjac: [[-1.000e+00  3.352e-03]\n",
      "           [-3.352e-03 -1.000e+00]]\n",
      "       r: [-1.478e+01 -6.308e+00 -9.627e-01]\n",
      "     qtf: [ 2.149e-09  7.391e-12]\n"
     ]
    }
   ],
   "source": [
    "model.find_ss(do_print=False, calibrate=True)"
   ]
  },
  {
   "cell_type": "code",
   "execution_count": 9,
   "metadata": {},
   "outputs": [
    {
     "data": {
      "text/plain": [
       "(0.9489415535273616, -0.004123083322890534)"
      ]
     },
     "execution_count": 9,
     "metadata": {},
     "output_type": "execute_result"
    }
   ],
   "source": [
    "model.par.beta, model.par.rX_mean"
   ]
  },
  {
   "cell_type": "markdown",
   "metadata": {},
   "source": [
    "Let's also solve a standard HA model with return heterogeneity "
   ]
  },
  {
   "cell_type": "code",
   "execution_count": 10,
   "metadata": {},
   "outputs": [
    {
     "name": "stdout",
     "output_type": "stream",
     "text": [
      " message: The solution converged.\n",
      " success: True\n",
      "  status: 1\n",
      "     fun: [-1.174e-14  6.939e-18]\n",
      "       x: [ 9.494e-01  3.167e-11]\n",
      "  method: hybr\n",
      "    nfev: 5\n",
      "    fjac: [[-1.000e+00  2.977e-09]\n",
      "           [-2.977e-09 -1.000e+00]]\n",
      "       r: [-1.328e+01 -1.497e+01 -1.000e+00]\n",
      "     qtf: [-3.850e-10 -1.330e-16]\n"
     ]
    }
   ],
   "source": [
    "model_base = HANCModelClass(name='baseline') # create an instance of the model\n",
    "model_base.setup()\n",
    "\n",
    "model_base.par.r_grid[:] = 0.\n",
    "model_base.par.sigma_r = 0.\n",
    "model_base.par.rho_r = 0.\n",
    "model_base.par.rX_mean = 0.\n",
    "model_base.par.Nr = 1\n",
    "model_base.par.Nz = model_base.par.Nr * model_base.par.Ne  \n",
    "model_base.allocate() # updates size of solution arrays (a,c,D etc.) after changing grid sizes\n",
    "\n",
    "model_base.find_ss(do_print=False, calibrate=True, x0=np.array([0.949395, 0.]))"
   ]
  },
  {
   "cell_type": "code",
   "execution_count": 11,
   "metadata": {},
   "outputs": [
    {
     "name": "stderr",
     "output_type": "stream",
     "text": [
      "/var/folders/hn/dsqvtr1n09z9k135wwh_g7280000gn/T/ipykernel_47644/3267077117.py:14: RuntimeWarning: invalid value encountered in divide\n",
      "  a_avg = np.sum(D*a,axis=(0,1)) / np.sum(D,axis=(0,1))\n",
      "/var/folders/hn/dsqvtr1n09z9k135wwh_g7280000gn/T/ipykernel_47644/3267077117.py:19: RuntimeWarning: invalid value encountered in log\n",
      "  D_plot = np.log(CDF_avg[a_avg > xmin])\n"
     ]
    },
    {
     "data": {
      "image/png": "[encoded data removed]",
      "text/plain": [
       "<Figure size 800x600 with 1 Axes>"
      ]
     },
     "metadata": {},
     "output_type": "display_data"
    }
   ],
   "source": [
    "def get_pareto_dist(model):\n",
    "\n",
    "    # Plot against US data from GKKOC 2023 \n",
    "    fac = 1000\n",
    "    xmin_GKKOC = (1_000_000/fac) / (90000/fac) \n",
    "    xmax_GKKOC = (5000_000_000/fac) / (90000/fac )\n",
    "\n",
    "    ss = model.ss \n",
    "    xmin = ss.L*ss.w * xmin_GKKOC\n",
    "    xmax = ss.L*ss.w * xmax_GKKOC\n",
    "\n",
    "    a = ss.a \n",
    "    D = ss.D \n",
    "    a_avg = np.sum(D*a,axis=(0,1)) / np.sum(D,axis=(0,1))\n",
    "    D_avg = np.sum(D,axis=(0,1))\n",
    "    CDF_avg = 1 - np.cumsum(D_avg)\n",
    "\n",
    "    a_plot = a_avg[a_avg > xmin]\n",
    "    D_plot = np.log(CDF_avg[a_avg > xmin])\n",
    "\n",
    "    # data from GKKOC 2023 \n",
    "    data_labels = np.array([1, 10, 100, 1000, 10000, 50000])\n",
    "    custom_ticks = (1_000_000/fac)*data_labels/ (90000/fac) * ss.L*ss.w\n",
    "    custom_labels = ['1M', '10M', '100M', '1B', '10B', '50B']\n",
    "\n",
    "    a_data = np.linspace(custom_ticks[0],custom_ticks[-1],1000)\n",
    "    D_US = np.log(a_data**(-1.52))\n",
    "\n",
    "    return dict(a_plot=a_plot, D_plot=D_plot, custom_ticks=custom_ticks, custom_labels=custom_labels,\n",
    "                a_data=a_data,D_US=D_US)\n",
    "\n",
    "# Set the ticks and corresponding labels on the x-axis\n",
    "pareto_base = get_pareto_dist(model_base)\n",
    "pareto_r = get_pareto_dist(model)\n",
    "\n",
    "\n",
    "# Create the plot\n",
    "fig1, ax1 = plt.subplots(figsize=(8, 6))\n",
    "\n",
    "\n",
    "ax1.plot(pareto_base['a_plot'], pareto_base['D_plot'], label=\"Base model\", lw=2.7)\n",
    "ax1.plot(pareto_r['a_data'], pareto_r['D_US'], label=\"US data\", lw=2.7)\n",
    "ax1.plot(pareto_r['a_plot'], pareto_r['D_plot'], label=\"Ext. model\", ls='--', lw=2.7)\n",
    "\n",
    "# Set the x-axis to a logarithmic scale\n",
    "ax1.set_xscale('log')\n",
    "ax1.set_xticks(pareto_r['custom_ticks'], labels=pareto_r['custom_labels'])\n",
    "ax1.set_xlabel(\"Wealth\")\n",
    "ax1.set_ylabel(\"Log counter CDF\")\n",
    "ax1.set_title(\"Pareto tail of wealth distribution\")\n",
    "ax1.legend()\n",
    "plt.show()"
   ]
  }
 ],
 "metadata": {
  "kernelspec": {
   "display_name": "base",
   "language": "python",
   "name": "python3"
  },
  "language_info": {
   "codemirror_mode": {
    "name": "ipython",
    "version": 3
   },
   "file_extension": ".py",
   "mimetype": "text/x-python",
   "name": "python",
   "nbconvert_exporter": "python",
   "pygments_lexer": "ipython3",
   "version": "3.12.2"
  },
  "toc-autonumbering": true,
  "vscode": {
   "interpreter": {
    "hash": "47ef90cdf3004d3f859f1fb202523c65c07ba7c22eefd261b181f4744e2d0403"
   }
  }
 },
 "nbformat": 4,
 "nbformat_minor": 4
}
