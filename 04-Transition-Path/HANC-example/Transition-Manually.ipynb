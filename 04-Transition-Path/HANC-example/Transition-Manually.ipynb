{
 "cells": [
  {
   "cell_type": "code",
   "execution_count": 4,
   "id": "2c682ccd",
   "metadata": {},
   "outputs": [],
   "source": [
    "import numpy as np\n",
    "import numba as nb \n",
    "from consav.linear_interp import interp_1d_vec\n",
    "from EconModel import jit\n",
    "from HANCModel import HANCModelClass\n",
    "import matplotlib.pyplot as plt\n",
    "from consav.grids import equilogspace\n",
    "from consav.markov import log_rouwenhorst"
   ]
  },
  {
   "cell_type": "markdown",
   "id": "3f03b6f1",
   "metadata": {},
   "source": [
    "# Compute transition"
   ]
  },
  {
   "cell_type": "code",
   "execution_count": 5,
   "id": "ec60045a",
   "metadata": {},
   "outputs": [],
   "source": [
    "class Parameters:\n",
    "    def __init__(self):\n",
    "        # preferences\n",
    "        self.beta = 0.975\n",
    "        self.sigma = 1.0\n",
    "        \n",
    "        # production\n",
    "        self.alpha = 0.36\n",
    "        self.delta = 0.1\n",
    "        self.Gamma = 1.0\n",
    "        \n",
    "        # grids\n",
    "        self.Na = 500\n",
    "        self.a_min = 0.0\n",
    "        self.a_max = 10_000.0 \n",
    "        self.a_grid = equilogspace(self.a_min,self.a_max,self.Na)\n",
    "\n",
    "        # income\n",
    "        self.rho_z = 0.95\n",
    "        self.sigma_psi = 0.30*(1.0-self.rho_z**2.0)**0.5\n",
    "        self.Nz = 7\n",
    "        self.z_grid, self.z_trans,self.z_ergodic,_,_ = log_rouwenhorst(self.rho_z,self.sigma_psi,self.Nz)\n",
    "        \n",
    "\n",
    "par = Parameters()"
   ]
  },
  {
   "cell_type": "markdown",
   "id": "9ea6c9c7",
   "metadata": {},
   "source": [
    "# Previous code"
   ]
  },
  {
   "cell_type": "code",
   "execution_count": 6,
   "id": "a19c07b5",
   "metadata": {},
   "outputs": [],
   "source": [
    "\"\"\" \n",
    "Household backward step\n",
    "\"\"\"\n",
    "\n",
    "def egm_ss(r, w, par, max_iter = 10_000, tol = 1e-8, verbose = False):\n",
    "    \"\"\" solve the EGM for the steady state \"\"\"\n",
    "\n",
    "    # a. initialize\n",
    "    y = w*par.z_grid\n",
    "    c = r*par.a_grid[np.newaxis,:] + y[:,np.newaxis] \n",
    "    Va = (1+r)*c**(-par.sigma)\n",
    "\n",
    "    # b. iterate\n",
    "    for it in range(max_iter):\n",
    "\n",
    "        # i. solve backwards\n",
    "        c, a, Va_new = solve_hh_backwards_one_step(par.z_trans, par.z_grid, par.a_grid, par.sigma, par.beta, r, w, Va)\n",
    "\n",
    "        # ii. check convergence\n",
    "        error = np.max(np.abs(Va - Va_new))\n",
    "        if verbose:\n",
    "            print(error)\n",
    "        if error < tol:\n",
    "            break\n",
    "\n",
    "        Va = Va_new.copy()\n",
    "\n",
    "    return c, a, Va_new\n",
    "\n",
    "def solve_hh_backwards_one_step(z_trans, z_grid, a_grid, sigma, beta, r, w, vbeg_a):\n",
    "\n",
    "    Nz, Na = vbeg_a.shape\n",
    "    a = np.zeros((Nz, Na))\n",
    "    c = np.zeros((Nz, Na)) \n",
    "    \n",
    "    # a. solve step\n",
    "    for i_z in range(Nz):\n",
    "    \n",
    "        ## i. get c(a',z)\n",
    "        c_endo = (beta*vbeg_a[i_z])**(-1/sigma)\n",
    "        \n",
    "        # ii. compute m_endo = c(a',z) + a'\n",
    "        m_endo = c_endo + a_grid # current consumption + end-of-period assets\n",
    "        \n",
    "        # iii. interpolation to fixed grid\n",
    "        m = (1+r)*a_grid + w*z_grid[i_z] # exogenous grid of coh\n",
    "        interp_1d_vec(m_endo,a_grid,m,a[i_z]) # fill up the array a[i_z]\n",
    "        a[i_z,:] = np.fmax(a[i_z,:],0.0) # enforce borrowing constraint\n",
    "        c[i_z] = m-a[i_z]\n",
    "\n",
    "    # b. expectation step\n",
    "    RHS = (1+r)*c**(-sigma)\n",
    "    vbeg_a_new = z_trans @ RHS\n",
    "\n",
    "    return c, a, vbeg_a_new\n"
   ]
  },
  {
   "cell_type": "code",
   "execution_count": 7,
   "id": "46982cfb",
   "metadata": {},
   "outputs": [],
   "source": [
    "\"\"\" \n",
    "Household forward step\n",
    "\"\"\"\n",
    "\n",
    "def get_lottery(a, a_grid):\n",
    "    # step 1: find the i such that a' lies between gridpoints a_i and a_(i+1)\n",
    "    a_i = np.searchsorted(a_grid, a, side='right') - 1\n",
    "    a_i = np.clip(a_i, 0, len(a_grid)-2)\n",
    "\n",
    "    # step 2: implement (8) to obtain lottery probabilities pi\n",
    "    a_pi = (a_grid[a_i+1] - a)/(a_grid[a_i+1] - a_grid[a_i])\n",
    "    \n",
    "    return a_i, a_pi\n",
    "\n",
    "@nb.njit\n",
    "def forward_policy(D, a_i, a_pi):\n",
    "    Dend = np.zeros_like(D)\n",
    "    for e in range(a_i.shape[0]):\n",
    "        for a in range(a_i.shape[1]):\n",
    "            # send pi(e,a) of the mass to gridpoint i(e,a)\n",
    "            Dend[e, a_i[e,a]] += a_pi[e,a]*D[e,a]\n",
    "            \n",
    "            # send 1-pi(e,a) of the mass to gridpoint i(e,a)+1\n",
    "            Dend[e, a_i[e,a]+1] += (1-a_pi[e,a])*D[e,a]\n",
    "            \n",
    "    return Dend\n",
    "\n",
    "def forward_iteration(D, z_trans, a_i, a_pi):\n",
    "    Dend = forward_policy(D, a_i, a_pi)    \n",
    "    return z_trans.T @ Dend\n",
    "\n",
    "def distribution_ss(a, par, tol=1E-10):\n",
    "    a_i, a_pi = get_lottery(a, par.a_grid)\n",
    "\n",
    "    # as initial D, use stationary distribution for s, plus uniform over a\n",
    "    D = par.z_ergodic[:, np.newaxis] * np.ones_like(par.a_grid) / len(par.a_grid)\n",
    "\n",
    "    # now iterate until convergence to acceptable threshold\n",
    "    for _ in range(100_000):\n",
    "        D_new = forward_iteration(D, par.z_trans, a_i, a_pi)\n",
    "        if np.max(np.abs(D_new - D)) < tol:\n",
    "            return D_new\n",
    "        D = D_new\n",
    "\n"
   ]
  },
  {
   "cell_type": "code",
   "execution_count": null,
   "id": "c7a19e28",
   "metadata": {},
   "outputs": [],
   "source": [
    "\"\"\" \n",
    "Household block steady-state\n",
    "\"\"\"\n",
    "\n",
    "def household_ss(r, w, par, max_iter = 10_000, tol = 1e-8, verbose = False):\n",
    "    c, a, Va = egm_ss(r, w, par, max_iter, tol, verbose) \n",
    "    D = distribution_ss(a, par)\n",
    "    A = np.sum(D * a)\n",
    "    C = np.sum(D * c) \n",
    "    return A, C, D, a, c, Va "
   ]
  },
  {
   "cell_type": "code",
   "execution_count": 12,
   "id": "105b09f8",
   "metadata": {},
   "outputs": [
    {
     "name": "stdout",
     "output_type": "stream",
     "text": [
      "-3.9999999999999987\n",
      "18.850971301144178\n",
      "-3.9999999999999964\n",
      "-3.975423715491448\n",
      "-3.690302699991704\n",
      "-2.7649965573647464\n",
      "-0.8924888421928925\n",
      "1.3487170555343484\n",
      "-0.21485529404579662\n",
      "0.009983083845258811\n",
      "-0.0004332611687845045\n",
      "-8.180241333199945e-07\n",
      "2.204991744747531e-11\n",
      "-1.881705014028512e-09\n"
     ]
    }
   ],
   "source": [
    "def find_ss_beta(beta, par):\n",
    "    par.beta = beta\n",
    "    r = 0.05\n",
    "    w = 1-par.alpha\n",
    "    K = 4 \n",
    "    A, _, _, _, _, _  = household_ss(r, w, par) \n",
    "    print(A-K)\n",
    "    return A-K\n",
    "\n",
    "from scipy.optimize import brentq \n",
    "par.beta = brentq(find_ss_beta, 0.9, 0.952, args=(par,))\n",
    "\n",
    "r_ss = 0.05 \n",
    "Y_ss = 1 \n",
    "K_ss = 4 \n",
    "par.alpha = 1/3 \n",
    "par.Gamma = Y_ss /(K_ss**par.alpha)\n",
    "par.delta = par.alpha * par.Gamma * K_ss**(par.alpha-1) - r_ss\n",
    "w_ss = (1-par.alpha) * Y_ss\n",
    "A_ss, C_ss, D_init, a_ss, c_ss, Va_term = household_ss(r_ss, w_ss, par) "
   ]
  },
  {
   "cell_type": "markdown",
   "id": "b6a3896a",
   "metadata": {},
   "source": [
    "# Partial equilibrium transition\n",
    "\n"
   ]
  },
  {
   "cell_type": "code",
   "execution_count": 14,
   "id": "368abeab",
   "metadata": {},
   "outputs": [],
   "source": [
    "T = 1000\n",
    "r_vec = np.ones((T)) * r_ss\n",
    "w_vec = np.ones((T)) * w_ss\n",
    "w_vec[0] = w_vec[0] * 1.01\n",
    "\n",
    "a_trans = np.zeros((T, par.Nz, par.Na))\n",
    "c_trans = np.zeros((T, par.Nz, par.Na))\n",
    "Va_trans = Va_term.copy()\n",
    "for t in reversed(range(T)):\n",
    "    c_trans[t], a_trans[t], Va_trans = solve_hh_backwards_one_step(par.z_trans, par.z_grid, par.a_grid, par.sigma, par.beta, r_vec[t], w_vec[t], Va_trans)"
   ]
  },
  {
   "cell_type": "code",
   "execution_count": null,
   "id": "73a41816",
   "metadata": {},
   "outputs": [],
   "source": [
    "D_trans = np.zeros((T, par.Nz, par.Na))\n",
    "D_trans[0] = D_init \n",
    "\n",
    "for t in range(T-1):\n",
    "    a_i, a_pi = get_lottery(a_trans[t], par.a_grid)\n",
    "    D_trans[t+1] = forward_iteration(D_trans[t], par.z_trans, a_i, a_pi)"
   ]
  },
  {
   "cell_type": "code",
   "execution_count": null,
   "id": "57045ed9",
   "metadata": {},
   "outputs": [],
   "source": [
    "A_trans = np.sum(D_trans * a_trans, axis = (1,2))\n",
    "C_trans = np.sum(D_trans * c_trans, axis = (1,2))"
   ]
  },
  {
   "cell_type": "code",
   "execution_count": null,
   "id": "78479712",
   "metadata": {},
   "outputs": [],
   "source": [
    "plt.plot(100*(C_trans-C_ss)/C_ss, label = 'C')\n",
    "plt.plot(100*(A_trans-A_ss)/A_ss, label = 'A', linestyle = '--')\n",
    "plt.plot(np.zeros_like(A_trans), linestyle = ':', color = 'black')\n",
    "plt.legend()\n",
    "plt.show()"
   ]
  },
  {
   "cell_type": "code",
   "execution_count": null,
   "id": "547c235f",
   "metadata": {},
   "outputs": [],
   "source": [
    "def get_impulse_response(Va_term, D_init, r_vec, w_vec, par):\n",
    "    # backward step\n",
    "    a_trans = np.zeros((T, par.Nz, par.Na))\n",
    "    c_trans = np.zeros((T, par.Nz, par.Na))\n",
    "    Va_trans = Va_term.copy()\n",
    "    for t in reversed(range(T)):\n",
    "        c_trans[t], a_trans[t], Va_trans = solve_hh_backwards_one_step(par.z_trans, par.z_grid, par.a_grid, par.sigma, par.beta, r_vec[t], w_vec[t], Va_trans)\n",
    "\n",
    "    # forward step\n",
    "    D_trans = np.zeros((T, par.Nz, par.Na))\n",
    "    D_trans[0] = D_init\n",
    "\n",
    "    for t in range(T-1):\n",
    "        a_i, a_pi = get_lottery(a_trans[t], par.a_grid)\n",
    "        D_trans[t+1] = forward_iteration(D_trans[t], par.z_trans, a_i, a_pi)\n",
    "    \n",
    "    A_trans = np.sum(D_trans * a_trans, axis = (1,2))\n",
    "    C_trans = np.sum(D_trans * c_trans, axis = (1,2))\n",
    "\n",
    "    return C_trans, A_trans, D_trans, c_trans, a_trans"
   ]
  },
  {
   "cell_type": "markdown",
   "id": "5ce39fae",
   "metadata": {},
   "source": [
    "## Transitions in general equilibrium"
   ]
  },
  {
   "cell_type": "code",
   "execution_count": null,
   "id": "857f0c55",
   "metadata": {},
   "outputs": [],
   "source": [
    "def firm(K, Gamma, K_ss, par): \n",
    "    r = par.alpha * Gamma * K**(par.alpha-1) - par.delta\n",
    "    Y = Gamma * K**par.alpha \n",
    "    w = (1-par.alpha) * Y  \n",
    "    return r, w, Y"
   ]
  },
  {
   "cell_type": "code",
   "execution_count": null,
   "id": "2b6e550c",
   "metadata": {},
   "outputs": [],
   "source": [
    "sigma = 0.02\n",
    "rho = 0.9\n",
    "Gamma_shock = par.Gamma + sigma * rho ** np.arange(T)\n",
    "plt.plot(Gamma_shock)"
   ]
  },
  {
   "cell_type": "code",
   "execution_count": null,
   "id": "62f94559",
   "metadata": {},
   "outputs": [],
   "source": [
    "r_trans = r_ss * np.ones((T,))\n",
    "\n",
    "def firm(r, Gamma, par): \n",
    "    K = ((r+par.delta) / (par.alpha * par.Gamma))**(1/(par.alpha-1))\n",
    "    Y = par.Gamma * K**par.alpha \n",
    "    w = (1-par.alpha) * Y  \n",
    "    return K, Y, w\n",
    "\n",
    "K_trans, Y_trans, w_trans = firm(r_trans, Gamma_shock, par)\n",
    "\n",
    "C_trans, A_trans, D_trans, c_trans, a_trans = get_impulse_response(Va, D, r_trans, w_trans, par)\n",
    "asset_market = A_trans - K_trans\n",
    "plt.plot(asset_market)"
   ]
  },
  {
   "cell_type": "code",
   "execution_count": null,
   "id": "1dacf357",
   "metadata": {},
   "outputs": [],
   "source": [
    "error = 1 \n",
    "tol = 1e-4\n",
    "while error > tol:\n",
    "    K, Y, w = firm(r, Gamma_shock, par)\n",
    "    A, C, D, a, c, Va = household_ss(r, w, par)\n",
    "    asset_market = A - K \n",
    "    r = par.alpha * Gamma_shock *\n"
   ]
  },
  {
   "cell_type": "code",
   "execution_count": null,
   "id": "4d4e37b2",
   "metadata": {},
   "outputs": [],
   "source": [
    "h = 1e-4\n",
    "J_w = np.zeros((T, T))\n",
    "\n",
    "for s in range(T):\n",
    "    w_vec = np.ones((T)) * w\n",
    "    w_vec[s] = w_vec[s] + h\n",
    "\n",
    "    r_vec = np.ones((T)) * r \n",
    "\n",
    "    C_trans, A_trans, _, _, _ = get_impulse_response(Va, D, r_vec, w_vec, par)\n",
    "    J_w[:,s] = (A_trans - A) / h\n",
    "\n"
   ]
  }
 ],
 "metadata": {
  "kernelspec": {
   "display_name": "base",
   "language": "python",
   "name": "python3"
  },
  "language_info": {
   "codemirror_mode": {
    "name": "ipython",
    "version": 3
   },
   "file_extension": ".py",
   "mimetype": "text/x-python",
   "name": "python",
   "nbconvert_exporter": "python",
   "pygments_lexer": "ipython3",
   "version": "3.12.2"
  }
 },
 "nbformat": 4,
 "nbformat_minor": 5
}
