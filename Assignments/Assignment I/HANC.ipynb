{
 "cells": [
  {
   "cell_type": "markdown",
   "metadata": {},
   "source": [
    "# Heterogenous Agent Neoclassical Model - HANC"
   ]
  },
  {
   "cell_type": "code",
   "execution_count": null,
   "metadata": {},
   "outputs": [],
   "source": [
    "%load_ext autoreload\n",
    "%autoreload 2\n",
    "\n",
    "import numpy as np\n",
    "import matplotlib.pyplot as plt\n",
    "import matplotlib as mpl\n",
    "import copy \n",
    "colors = plt.rcParams['axes.prop_cycle'].by_key()['color']\n",
    "plt.rcParams.update({\"axes.grid\" : True, \"grid.color\": \"black\", \"grid.alpha\":\"0.25\", \"grid.linestyle\": \"--\"})\n",
    "plt.rcParams.update({'font.size': 14})\n",
    "\n",
    "from HANCModel import HANCModelClass"
   ]
  },
  {
   "cell_type": "markdown",
   "metadata": {},
   "source": [
    "All the code in the `.py` files is already complete, but you should look at it in details in order to understand the assignment. When computing steady states and transitions, please save them in an object with the names already indicated in the code, and use the included plotting functions to plot your results."
   ]
  },
  {
   "cell_type": "markdown",
   "metadata": {},
   "source": [
    "# Question 2: compute steady-states"
   ]
  },
  {
   "cell_type": "code",
   "execution_count": null,
   "metadata": {},
   "outputs": [],
   "source": [
    "benchmark = HANCModelClass(name = 'benchmark')\n",
    "# compute the benchmark steady state here using the beta method"
   ]
  },
  {
   "cell_type": "code",
   "execution_count": null,
   "metadata": {},
   "outputs": [],
   "source": [
    "high_inequality = HANCModelClass(name = 'high inequality')\n",
    "# compute the new steady state here using the direct method"
   ]
  },
  {
   "cell_type": "markdown",
   "metadata": {},
   "source": [
    "# Question 3: comparative statics"
   ]
  },
  {
   "cell_type": "code",
   "execution_count": null,
   "metadata": {},
   "outputs": [],
   "source": [
    "# Use this code to print a table comparing the two steady states\n",
    "names = ['Y', 'C_hh', 'I', 'K', 'w', 'r', 'rK', 'U_hh']\n",
    "for name in names:\n",
    "    print(f\"{name:>6} | {getattr(benchmark.ss, name):>10.4f} -> {getattr(high_inequality.ss, name):>10.4f} | {100*(getattr(high_inequality.ss, name)-getattr(benchmark.ss, name))/np.abs(getattr(benchmark.ss, name)):>6.2f}%\")"
   ]
  },
  {
   "cell_type": "code",
   "execution_count": null,
   "metadata": {},
   "outputs": [],
   "source": [
    "# Compute the wealth shares of the model here\n",
    "# you should write a function plotting the wealth shares at the steady state \n",
    "# and comparing it to the data included in the `wealth_psz.csv` file\n",
    "print(wealth_shares_table(benchmark))\n",
    "print(' ')\n",
    "print(wealth_shares_table(high_inequality))\n"
   ]
  },
  {
   "cell_type": "markdown",
   "metadata": {},
   "source": [
    "# Question 4: compute transitions "
   ]
  },
  {
   "cell_type": "code",
   "execution_count": null,
   "metadata": {},
   "outputs": [],
   "source": [
    "# Initialize the ini dict at the old steady state\n",
    "ini = {}"
   ]
  },
  {
   "cell_type": "code",
   "execution_count": null,
   "metadata": {},
   "outputs": [],
   "source": [
    "# Compoute transition path here and save it in the \"trans\" object\n",
    "trans = copy.deepcopy(high_inequality.path)"
   ]
  },
  {
   "cell_type": "code",
   "execution_count": null,
   "metadata": {},
   "outputs": [],
   "source": [
    "upsilon_T = 30\n",
    "upsilon_path = np.linspace(benchmark.par.upsilon_ss, high_inequality.par.upsilon_ss, upsilon_T)\n",
    "dupsilon = np.zeros(benchmark.par.T)\n",
    "dupsilon[:upsilon_T] = upsilon_path - high_inequality.par.upsilon_ss\n",
    "shock = {'dupsilon': dupsilon}\n",
    "# should we give them this code or not?"
   ]
  },
  {
   "cell_type": "code",
   "execution_count": null,
   "metadata": {},
   "outputs": [],
   "source": [
    "### compute the gradual transition path here and save it\n",
    "trans_gradual = copy.deepcopy(high_inequality.path)"
   ]
  },
  {
   "cell_type": "code",
   "execution_count": null,
   "metadata": {},
   "outputs": [],
   "source": [
    "# use this code to plot your results \n",
    "\n",
    "def get_pc_ini(trans, var):\n",
    "    var_ss = getattr(benchmark.ss, var)\n",
    "    var_trans = getattr(trans, var)\n",
    "    return 100 * (var_trans - var_ss) / var_ss\n",
    "\n",
    "def get_ac_ini(trans, var):\n",
    "    var_ss = getattr(benchmark.ss, var)\n",
    "    var_trans = getattr(trans, var)\n",
    "    return 100 * (var_trans - var_ss)\n",
    "\n",
    "fig, axs = plt.subplots(nrows=3, ncols=3,\n",
    "                        figsize=(9,6), sharex=True, sharey=False)\n",
    "\n",
    "# Normalize axs to 1D list for easy iteration\n",
    "axs = np.atleast_1d(axs).ravel()\n",
    "\n",
    "axs[0].plot(get_pc_ini(trans, 'Y'), label = 'one-time'); axs[0].set_title(\"Y\")\n",
    "axs[0].plot(get_pc_ini(trans_gradual, 'Y'), linestyle = '--', label = 'gradual'); axs[0].set_title(\"Y\")\n",
    "axs[0].set_ylabel('% $\\Delta$')\n",
    "\n",
    "axs[1].plot(get_pc_ini(trans, 'C_hh')); axs[1].set_title(\"C\")\n",
    "axs[1].plot(get_pc_ini(trans_gradual, 'C_hh'), linestyle = '--'); axs[1].set_title(\"C\")\n",
    "axs[0].set_ylabel('% $\\Delta$')\n",
    "\n",
    "axs[2].plot(get_pc_ini(trans, 'I')); axs[2].set_title(\"I\")\n",
    "axs[2].plot(get_pc_ini(trans_gradual, 'I'), linestyle = '--'); axs[2].set_title(\"I\")\n",
    "axs[2].set_ylabel('% Change')\n",
    "\n",
    "axs[3].plot(get_pc_ini(trans, 'K')); axs[3].set_title(\"K\")\n",
    "axs[3].plot(get_pc_ini(trans_gradual, 'K'), linestyle = '--'); axs[3].set_title(\"K\")\n",
    "axs[3].set_ylabel('% Change')\n",
    "\n",
    "axs[4].plot(get_pc_ini(trans, 'w')); axs[4].set_title(\"w\")\n",
    "axs[4].plot(get_pc_ini(trans_gradual, 'w'), linestyle = '--'); axs[4].set_title(\"w\")\n",
    "axs[4].set_ylabel('% Change')\n",
    "\n",
    "axs[5].plot(get_ac_ini(trans, 'r')); axs[5].set_title(\"r\")\n",
    "axs[5].plot(get_ac_ini(trans_gradual, 'r'), linestyle = '--'); axs[5].set_title(\"r\")\n",
    "axs[5].set_ylabel('Abs change')\n",
    "\n",
    "axs[6].plot(get_ac_ini(trans, 'rK')); axs[6].set_title(\"rK\")\n",
    "axs[6].plot(get_ac_ini(trans_gradual, 'rK'), linestyle = '--'); axs[6].set_title(\"rK\")\n",
    "axs[6].set_ylabel('Abs change')\n",
    "\n",
    "axs[7].plot(get_ac_ini(trans, 'z_scale'))\n",
    "axs[7].plot(get_ac_ini(trans_gradual, 'z_scale'), linestyle = '--'); axs[7].set_title(\"z scale\")\n",
    "axs[7].set_ylabel('Abs change')\n",
    "\n",
    "for ax in axs.flat:\n",
    "    ax.grid(True, alpha=0.3)\n",
    "axs[0].set_xlim(-1, 50) # applies to all subplots because sharex=True\n",
    "axs[0].legend(frameon=False)\n",
    "#fig.supxlabel(\"Years\")\n",
    "#fig.supylabel(\"% Change\")\n",
    "fig.tight_layout()\n",
    "plt.show()\n",
    "\n",
    "plt.plot(trans.clearing_Y)\n",
    "plt.plot(trans_gradual.clearing_Y, linestyle = '--')"
   ]
  },
  {
   "cell_type": "code",
   "execution_count": null,
   "metadata": {},
   "outputs": [],
   "source": [
    "# Compute the distribution over idiosyncratic productivity states over time here\n",
    "D_trans = ###\n",
    "D_trans_gradual = ###\n",
    "\n",
    "i = 0\n",
    "for iz in range(benchmark.par.Nz):\n",
    "    plt.plot(D_trans[:,iz] * 100, label=f\"z={benchmark.par.z_grid[iz]:.2f}\", color = 'C' + str(i))\n",
    "    plt.plot(D_trans_gradual[:,iz] * 100, linestyle='--', color = 'C' + str(i))\n",
    "    i += 1\n",
    "plt.legend(frameon=False, bbox_to_anchor=(1.05, 1), loc='upper left')\n",
    "plt.xlim(-1,50)\n",
    "plt.title('Share of agents in each productivity state')\n",
    "plt.xlabel('Time')\n",
    "plt.ylabel('Percentage')\n",
    "plt.show()"
   ]
  },
  {
   "cell_type": "markdown",
   "metadata": {},
   "source": [
    "# Question 5: sequence of myopic shocks"
   ]
  },
  {
   "cell_type": "code",
   "execution_count": null,
   "metadata": {},
   "outputs": [],
   "source": [
    "# compute the gradual transition with increase every 3 periods here\n",
    "trans_gradual = copy.deepcopy(high_inequality.path)"
   ]
  },
  {
   "cell_type": "code",
   "execution_count": null,
   "metadata": {},
   "outputs": [],
   "source": [
    "trans_myopic = []\n",
    "K_guess = benchmark.ss.K\n",
    "ini_myopic = {}\n",
    "# intialize ini_myopic at the benchmark steady state steady state\n",
    "\n",
    "upsilon_path = np.linspace(benchmark.par.upsilon_ss, high_inequality.par.upsilon_ss, upsilon_T//3)\n",
    "\n",
    "for t in range(1, upsilon_T//3):\n",
    "    print(t)\n",
    "    upsilon = upsilon_path[t]\n",
    "\n",
    "    # a. Compute new steady state\n",
    "    _model = benchmark.copy()\n",
    "    \n",
    "    # b. Compute transition\n",
    "    \n",
    "    # c. Append transition path\n",
    "    trans_myopic.append(_model.path)\n",
    "    plt.plot(_model.path.K, label=f\"upsilon={upsilon:.2f}\")\n",
    "\n",
    "    # d. Update ini for next iteration\n",
    "    ini_myopic = {}\n",
    "    # update ini_myopic here\n"
   ]
  },
  {
   "cell_type": "code",
   "execution_count": null,
   "metadata": {},
   "outputs": [],
   "source": [
    "vars = ['K', 'rK', 'w', 'Y', 'I', 'A', 'r', 'upsilon', 'z_scale', 'C_hh', 'clearing_Y', 'clearing_A', 'clearing_Z']\n",
    "full_trans = {}\n",
    "\n",
    "# join the trans_myopic paths into a single transition path\n",
    "for var in vars:\n",
    "    full_trans[var] = np.zeros((benchmark.par.T))\n",
    "    full_trans[var] = getattr(trans_myopic[0], var)[:benchmark.par.T, 0]\n",
    "    for t in range(1, upsilon_T//3-1):\n",
    "        full_trans[var][t+2:] = getattr(trans_myopic[t], var)[:benchmark.par.T-(t+2), 0]"
   ]
  },
  {
   "cell_type": "code",
   "execution_count": null,
   "metadata": {},
   "outputs": [],
   "source": [
    "def get_pc_myopic(trans, var):\n",
    "    var_ss = getattr(benchmark.ss, var)\n",
    "    var_trans = trans[var]\n",
    "    return 100 * (var_trans - var_ss) / var_ss\n",
    "\n",
    "def get_ac_myopic(trans, var):\n",
    "    var_ss = getattr(benchmark.ss, var)\n",
    "    var_trans = trans[var]\n",
    "    return 100 * (var_trans - var_ss)\n",
    "\n",
    "\n",
    "fig, axs = plt.subplots(nrows=3, ncols=3,\n",
    "                        figsize=(9,6), sharex=True, sharey=False)\n",
    "\n",
    "# Normalize axs to 1D list for easy iteration\n",
    "axs = np.atleast_1d(axs).ravel()\n",
    "\n",
    "axs[0].plot(get_pc_ini(trans_gradual, 'Y'), linestyle = '--', label = 'gradual'); axs[0].set_title(\"Y\")\n",
    "axs[0].plot(get_pc_myopic(full_trans, 'Y'), label = 'myopic', linestyle = ':', marker = '.', markevery=3)\n",
    "axs[0].set_ylabel('% $\\Delta$')\n",
    "\n",
    "axs[1].plot(get_pc_ini(trans_gradual, 'C_hh'), linestyle = '--'); axs[1].set_title(\"C\")\n",
    "axs[1].plot(get_pc_myopic(full_trans, 'C_hh'), label = 'myopic', linestyle = ':', marker = '.', markevery=3)\n",
    "\n",
    "axs[2].plot(get_pc_ini(trans_gradual, 'I'), linestyle = '--'); axs[2].set_title(\"I\")\n",
    "axs[2].plot(get_pc_myopic(full_trans, 'I'), label = 'myopic', linestyle = ':', marker = '.', markevery=3)\n",
    "axs[2].set_ylabel('% Change')\n",
    "\n",
    "axs[3].plot(get_pc_ini(trans_gradual, 'K'), linestyle = '--'); axs[3].set_title(\"K\")\n",
    "axs[3].plot(get_pc_myopic(full_trans, 'K'), label = 'myopic', linestyle = ':', marker = '.', markevery=3)\n",
    "axs[3].set_ylabel('% Change')\n",
    "\n",
    "axs[4].plot(get_pc_ini(trans_gradual, 'w'), linestyle = '--'); axs[4].set_title(\"w\")\n",
    "axs[4].plot(get_pc_myopic(full_trans, 'w'), label = 'myopic', linestyle = ':', marker = '.', markevery=3)\n",
    "axs[4].set_ylabel('% Change')\n",
    "\n",
    "axs[5].plot(get_ac_ini(trans_gradual, 'r'), linestyle = '--'); axs[5].set_title(\"r\")\n",
    "axs[5].plot(get_ac_myopic(full_trans, 'r'), label = 'myopic', linestyle = ':', marker = '.', markevery=3)\n",
    "axs[5].set_ylabel('Abs change')\n",
    "\n",
    "axs[6].plot(get_ac_ini(trans_gradual, 'rK'), linestyle = '--'); axs[6].set_title(\"rK\")\n",
    "axs[6].plot(get_ac_myopic(full_trans, 'rK'), label = 'myopic', linestyle = ':', marker = '.', markevery=3)\n",
    "axs[6].set_ylabel('Abs change')\n",
    "\n",
    "axs[7].plot(get_ac_ini(trans_gradual, 'z_scale'), linestyle = '--'); axs[7].set_title(\"z scale\")\n",
    "axs[7].plot(get_ac_myopic(full_trans, 'z_scale'), label = 'myopic', linestyle = ':', marker = '.', markevery=3)\n",
    "axs[7].set_ylabel('Abs change')\n",
    "\n",
    "axs[8].plot(get_ac_ini(trans_gradual, 'upsilon'), linestyle = '--'); axs[8].set_title(\"upsilon\")\n",
    "axs[8].plot(get_ac_myopic(full_trans, 'upsilon'), label = 'myopic', linestyle = ':', marker = '.', markevery=3)\n",
    "axs[8].set_ylabel('Abs change')\n",
    "\n",
    "axs[0].set_xlim(-1, 50)\n",
    "\n",
    "# Collect legend entries from the first axes (they all share the same labels)\n",
    "handles, labels = axs[0].get_legend_handles_labels()\n",
    "\n",
    "# Place the legend below all subplots\n",
    "fig.legend(handles, labels,\n",
    "           loc='lower center',\n",
    "           bbox_to_anchor=(0.5, -0.02),\n",
    "           ncol=3, frameon=False)\n",
    "\n",
    "fig.tight_layout()\n",
    "plt.subplots_adjust(bottom=0.12)  # make space for the legend\n",
    "\n",
    "plt.show()"
   ]
  }
 ],
 "metadata": {
  "kernelspec": {
   "display_name": "base",
   "language": "python",
   "name": "python3"
  },
  "language_info": {
   "codemirror_mode": {
    "name": "ipython",
    "version": 3
   },
   "file_extension": ".py",
   "mimetype": "text/x-python",
   "name": "python",
   "nbconvert_exporter": "python",
   "pygments_lexer": "ipython3",
   "version": "3.12.2"
  },
  "toc-autonumbering": true,
  "vscode": {
   "interpreter": {
    "hash": "47ef90cdf3004d3f859f1fb202523c65c07ba7c22eefd261b181f4744e2d0403"
   }
  }
 },
 "nbformat": 4,
 "nbformat_minor": 4
}
