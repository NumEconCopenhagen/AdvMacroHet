{
 "cells": [
  {
   "cell_type": "markdown",
   "metadata": {},
   "source": [
    "# Heterogenous Agent Neoclassical Model - HANC"
   ]
  },
  {
   "cell_type": "code",
   "execution_count": null,
   "metadata": {},
   "outputs": [],
   "source": [
    "%load_ext autoreload\n",
    "%autoreload 2\n",
    "\n",
    "import numpy as np\n",
    "import matplotlib.pyplot as plt\n",
    "import matplotlib as mpl\n",
    "import copy \n",
    "colors = plt.rcParams['axes.prop_cycle'].by_key()['color']\n",
    "plt.rcParams.update({\"axes.grid\" : True, \"grid.color\": \"black\", \"grid.alpha\":\"0.25\", \"grid.linestyle\": \"--\"})\n",
    "plt.rcParams.update({'font.size': 14})\n",
    "\n",
    "from HANCModel import HANCModelClass"
   ]
  },
  {
   "cell_type": "markdown",
   "metadata": {},
   "source": [
    "# Question 2: compute steady-states"
   ]
  },
  {
   "cell_type": "code",
   "execution_count": null,
   "metadata": {},
   "outputs": [],
   "source": [
    "benchmark = HANCModelClass(name = 'benchmark')\n",
    "# solve low inequality steady state with beta method"
   ]
  },
  {
   "cell_type": "code",
   "execution_count": null,
   "metadata": {},
   "outputs": [],
   "source": [
    "high_inequality = HANCModelClass(name = 'high inequality')\n",
    "# update parameters and solve high inequality steady state here with the direct method"
   ]
  },
  {
   "cell_type": "markdown",
   "metadata": {},
   "source": [
    "# Question 3: comparative statics"
   ]
  },
  {
   "cell_type": "code",
   "execution_count": null,
   "metadata": {},
   "outputs": [],
   "source": [
    "names = ['Y', 'C_hh', 'I', 'K', 'w', 'r', 'rK', 'U_hh']\n",
    "for name in names:\n",
    "    print(f\"{name:>6} | {getattr(benchmark.ss, name):>10.4f} -> {getattr(high_inequality.ss, name):>10.4f} | {100*(getattr(high_inequality.ss, name)-getattr(benchmark.ss, name))/np.abs(getattr(benchmark.ss, name)):>6.2f}%\")\n",
    "\n",
    "# Nothing to do here, just use this code to compare the two steady state"
   ]
  },
  {
   "cell_type": "code",
   "execution_count": null,
   "metadata": {},
   "outputs": [],
   "source": [
    "# Write code here to compute wealth shares in the model vs the data and plot it. Remember when we did this before :-) \n",
    "print_wealth_shares_table(benchmark)\n",
    "print(' ')\n",
    "print_wealth_shares_table(high_inequality)"
   ]
  },
  {
   "cell_type": "markdown",
   "metadata": {},
   "source": [
    "# Question 4: compute transitions "
   ]
  },
  {
   "cell_type": "code",
   "execution_count": null,
   "metadata": {},
   "outputs": [],
   "source": [
    "# Initialize the ini dict at the old steady state\n",
    "ini = {}"
   ]
  },
  {
   "cell_type": "code",
   "execution_count": null,
   "metadata": {},
   "outputs": [],
   "source": [
    "# compute the transition here\n",
    "trans = copy.deepcopy(high_inequality.path) # important to use copy.deepcopy to avoid any reference issues"
   ]
  },
  {
   "cell_type": "code",
   "execution_count": null,
   "metadata": {},
   "outputs": [],
   "source": [
    "upsilon_T = 30\n",
    "upsilon_path = np.linspace(benchmark.par.upsilon_ss, high_inequality.par.upsilon_ss, upsilon_T)\n",
    "dupsilon = np.zeros(benchmark.par.T)\n",
    "dupsilon[:upsilon_T] = upsilon_path - high_inequality.par.upsilon_ss\n",
    "shock = {'dupsilon': dupsilon}"
   ]
  },
  {
   "cell_type": "code",
   "execution_count": null,
   "metadata": {},
   "outputs": [],
   "source": [
    "# compute progressive transition here\n",
    "trans_progressive = copy.deepcopy(high_inequality.path)"
   ]
  },
  {
   "cell_type": "code",
   "execution_count": null,
   "metadata": {},
   "outputs": [],
   "source": [
    "# nothing to do here, just use the code to plot your results \n",
    "\n",
    "def get_pc_ini(trans, var):\n",
    "    var_ss = getattr(benchmark.ss, var)\n",
    "    var_trans = getattr(trans, var)\n",
    "    return 100 * (var_trans - var_ss) / var_ss\n",
    "\n",
    "def get_ac_ini(trans, var):\n",
    "    var_ss = getattr(benchmark.ss, var)\n",
    "    var_trans = getattr(trans, var)\n",
    "    return 100 * (var_trans - var_ss)\n",
    "\n",
    "fig, axs = plt.subplots(nrows=3, ncols=3,\n",
    "                        figsize=(9,6), sharex=True, sharey=False)\n",
    "\n",
    "# Normalize axs to 1D list for easy iteration\n",
    "axs = np.atleast_1d(axs).ravel()\n",
    "\n",
    "axs[0].plot(get_pc_ini(trans, 'Y'), label = 'one-time'); axs[0].set_title(\"Y\")\n",
    "axs[0].plot(get_pc_ini(trans_progressive, 'Y'), linestyle = '--', label = 'progressive'); axs[0].set_title(\"Y\")\n",
    "axs[0].set_ylabel('% $\\Delta$')\n",
    "\n",
    "axs[1].plot(get_pc_ini(trans, 'C_hh')); axs[1].set_title(\"C\")\n",
    "axs[1].plot(get_pc_ini(trans_progressive, 'C_hh'), linestyle = '--'); axs[1].set_title(\"C\")\n",
    "axs[0].set_ylabel('% $\\Delta$')\n",
    "\n",
    "axs[2].plot(get_pc_ini(trans, 'I')); axs[2].set_title(\"I\")\n",
    "axs[2].plot(get_pc_ini(trans_progressive, 'I'), linestyle = '--'); axs[2].set_title(\"I\")\n",
    "axs[2].set_ylabel('% Change')\n",
    "\n",
    "axs[3].plot(get_pc_ini(trans, 'K')); axs[3].set_title(\"K\")\n",
    "axs[3].plot(get_pc_ini(trans_progressive, 'K'), linestyle = '--'); axs[3].set_title(\"K\")\n",
    "axs[3].set_ylabel('% Change')\n",
    "\n",
    "axs[4].plot(get_pc_ini(trans, 'w')); axs[4].set_title(\"w\")\n",
    "axs[4].plot(get_pc_ini(trans_progressive, 'w'), linestyle = '--'); axs[4].set_title(\"w\")\n",
    "axs[4].set_ylabel('% Change')\n",
    "\n",
    "axs[5].plot(get_ac_ini(trans, 'r')); axs[5].set_title(\"r\")\n",
    "axs[5].plot(get_ac_ini(trans_progressive, 'r'), linestyle = '--'); axs[5].set_title(\"r\")\n",
    "axs[5].set_ylabel('Abs change')\n",
    "\n",
    "axs[6].plot(get_ac_ini(trans, 'rK')); axs[6].set_title(\"rK\")\n",
    "axs[6].plot(get_ac_ini(trans_progressive, 'rK'), linestyle = '--'); axs[6].set_title(\"rK\")\n",
    "axs[6].set_ylabel('Abs change')\n",
    "\n",
    "axs[7].plot(get_ac_ini(trans, 'z_scale'))\n",
    "axs[7].plot(get_ac_ini(trans_progressive, 'z_scale'), linestyle = '--'); axs[7].set_title(\"z scale\")\n",
    "axs[7].set_ylabel('Abs change')\n",
    "\n",
    "for ax in axs.flat:\n",
    "    ax.grid(True, alpha=0.3)\n",
    "axs[0].set_xlim(-1, 50) # applies to all subplots because sharex=True\n",
    "axs[0].legend(frameon=False)\n",
    "#fig.supxlabel(\"Years\")\n",
    "#fig.supylabel(\"% Change\")\n",
    "fig.tight_layout()\n",
    "plt.show()\n",
    "\n",
    "plt.plot(trans.clearing_Y)\n",
    "plt.plot(trans_progressive.clearing_Y, linestyle = '--')\n"
   ]
  },
  {
   "cell_type": "code",
   "execution_count": null,
   "metadata": {},
   "outputs": [],
   "source": [
    "# compute distributions over idiosyncratic types over time and plot them \n",
    "\n",
    "# then fill up the plot \n",
    "i = 0\n",
    "for iz in range(benchmark.par.Nz):\n",
    "    plt.plot(# fill up code here * 100, label=f\"z={benchmark.par.z_grid[iz]:.2f}\", color = 'C' + str(i))\n",
    "    plt.plot(# fill up code hereD_trans_progressive[:,iz] * 100, linestyle='--', color = 'C' + str(i))\n",
    "    i += 1\n",
    "plt.legend(frameon=False, bbox_to_anchor=(1.05, 1), loc='upper left')\n",
    "plt.xlim(-1,50)\n",
    "plt.title('Share of agents in each productivity state')\n",
    "plt.xlabel('Time')\n",
    "plt.ylabel('Percentage')\n",
    "plt.show()"
   ]
  },
  {
   "cell_type": "markdown",
   "metadata": {},
   "source": [
    "# Question 5: sequence of myopic shocks"
   ]
  },
  {
   "cell_type": "code",
   "execution_count": null,
   "metadata": {},
   "outputs": [],
   "source": [
    "trans_myopic = []\n",
    "K_guess = benchmark.ss.K\n",
    "ini_myopic = {}\n",
    "#fill up initialization here \n",
    "\n",
    "upsilon_T = 11\n",
    "upsilon_path = np.linspace(benchmark.par.upsilon_ss,\n",
    "                           high_inequality.par.upsilon_ss, 11)\n",
    "\n",
    "\n",
    "for t in range(1, upsilon_T):\n",
    "    print(t)\n",
    "    upsilon = upsilon_path[t]\n",
    "\n",
    "    # a. Compute new steady state\n",
    "    _model = benchmark.copy()\n",
    "    # fill up here to compute steady state\n",
    "    \n",
    "    # Update K_guess for next steady state\n",
    "    K_guess = _model.ss.K.copy()\n",
    "    \n",
    "    # b. Compute transition\n",
    "    # fill up here to compute transition\n",
    "\n",
    "    # c. Append transition path\n",
    "    trans_myopic.append(_model.path)\n",
    "    plt.plot(_model.path.K, label=f\"upsilon={upsilon:.2f}\")\n",
    "\n",
    "    # d. Update ini for next iteration\n",
    "    ini_myopic = {}\n",
    "    # fill up here\n",
    "    \n"
   ]
  },
  {
   "cell_type": "code",
   "execution_count": null,
   "metadata": {},
   "outputs": [],
   "source": [
    "# note: nothing to do here, this code just joins the different pieces of the transition together\n",
    "\n",
    "vars = ['K', 'rK', 'w', 'Y', 'I', 'A', 'r', 'upsilon', 'z_scale', 'C_hh', 'clearing_Y', 'clearing_A', 'clearing_Z']\n",
    "full_trans = {}\n",
    "\n",
    "for var in vars:\n",
    "    full_trans[var] = getattr(trans_myopic[0], var)[:, 0]\n",
    "    for t in range(1, 10):\n",
    "        start = 3 * t              # each transition lasts 3 periods\n",
    "        full_trans[var][start:] = getattr(trans_myopic[t], var)[:benchmark.par.T-start, 0]"
   ]
  },
  {
   "cell_type": "code",
   "execution_count": null,
   "metadata": {},
   "outputs": [],
   "source": [
    "# use this code to plot your results \n",
    "\n",
    "def get_pc_myopic(trans, var):\n",
    "    var_ss = getattr(benchmark.ss, var)\n",
    "    var_trans = trans[var]\n",
    "    return 100 * (var_trans - var_ss) / var_ss\n",
    "\n",
    "def get_ac_myopic(trans, var):\n",
    "    var_ss = getattr(benchmark.ss, var)\n",
    "    var_trans = trans[var]\n",
    "    return 100 * (var_trans - var_ss)\n",
    "\n",
    "\n",
    "fig, axs = plt.subplots(nrows=3, ncols=3,\n",
    "                        figsize=(9,6), sharex=True, sharey=False)\n",
    "\n",
    "# Normalize axs to 1D list for easy iteration\n",
    "axs = np.atleast_1d(axs).ravel()\n",
    "\n",
    "axs[0].plot(get_pc_ini(trans, 'Y'), label = 'one-time'); axs[0].set_title(\"Y\")\n",
    "axs[0].plot(get_pc_ini(trans_progressive, 'Y'), linestyle = '--', label = 'progressive')\n",
    "axs[0].plot(get_pc_myopic(full_trans, 'Y'), label = 'myopic', linestyle = ':', marker = '.', markevery=3)\n",
    "axs[0].set_ylabel('% $\\Delta$')\n",
    "\n",
    "axs[1].plot(get_pc_ini(trans, 'C_hh')); axs[1].set_title(\"C\")\n",
    "axs[1].plot(get_pc_ini(trans_progressive, 'C_hh'), linestyle = '--')\n",
    "axs[1].plot(get_pc_myopic(full_trans, 'C_hh'), label = 'myopic', linestyle = ':', marker = '.', markevery=3)\n",
    "\n",
    "axs[2].plot(get_pc_ini(trans, 'I')); axs[2].set_title(\"I\")\n",
    "axs[2].plot(get_pc_ini(trans_progressive, 'I'), linestyle = '--')\n",
    "axs[2].plot(get_pc_myopic(full_trans, 'I'), label = 'myopic', linestyle = ':', marker = '.', markevery=3)\n",
    "axs[2].set_ylabel('% Change')\n",
    "\n",
    "axs[3].plot(get_pc_ini(trans, 'K')); axs[3].set_title(\"K\")\n",
    "axs[3].plot(get_pc_ini(trans_progressive, 'K'), linestyle = '--')\n",
    "axs[3].plot(get_pc_myopic(full_trans, 'K'), label = 'myopic', linestyle = ':', marker = '.', markevery=3)\n",
    "axs[3].set_ylabel('% Change')\n",
    "\n",
    "axs[4].plot(get_pc_ini(trans, 'w')); axs[4].set_title(\"w\")\n",
    "axs[4].plot(get_pc_ini(trans_progressive, 'w'), linestyle = '--')\n",
    "axs[4].plot(get_pc_myopic(full_trans, 'w'), label = 'myopic', linestyle = ':', marker = '.', markevery=3)\n",
    "axs[4].set_ylabel('% Change')\n",
    "\n",
    "axs[5].plot(get_ac_ini(trans, 'r')); axs[5].set_title(\"r\")\n",
    "axs[5].plot(get_ac_ini(trans_progressive, 'r'), linestyle = '--')\n",
    "axs[5].plot(get_ac_myopic(full_trans, 'r'), label = 'myopic', linestyle = ':', marker = '.', markevery=3)\n",
    "axs[5].set_ylabel('Abs change')\n",
    "\n",
    "axs[6].plot(get_ac_ini(trans, 'rK')); axs[6].set_title(\"rK\")\n",
    "axs[6].plot(get_ac_ini(trans_progressive, 'rK'), linestyle = '--')\n",
    "axs[6].plot(get_ac_myopic(full_trans, 'rK'), label = 'myopic', linestyle = ':', marker = '.', markevery=3)\n",
    "axs[6].set_ylabel('Abs change')\n",
    "\n",
    "axs[7].plot(get_ac_ini(trans, 'z_scale')); axs[7].set_title(\"z scale\")\n",
    "axs[7].plot(get_ac_ini(trans_progressive, 'z_scale'), linestyle = '--')\n",
    "axs[7].plot(get_ac_myopic(full_trans, 'z_scale'), label = 'myopic', linestyle = ':', marker = '.', markevery=3)\n",
    "axs[7].set_ylabel('Abs change')\n",
    "\n",
    "axs[0].set_xlim(-1, 50)\n",
    "\n",
    "# Collect legend entries from the first axes (they all share the same labels)\n",
    "handles, labels = axs[0].get_legend_handles_labels()\n",
    "\n",
    "# Place the legend below all subplots\n",
    "fig.legend(handles, labels,\n",
    "           loc='lower center',\n",
    "           bbox_to_anchor=(0.5, -0.02),\n",
    "           ncol=3, frameon=False)\n",
    "\n",
    "fig.tight_layout()\n",
    "plt.subplots_adjust(bottom=0.12)  # make space for the legend\n",
    "\n",
    "plt.show()"
   ]
  },
  {
   "cell_type": "code",
   "execution_count": null,
   "metadata": {},
   "outputs": [],
   "source": [
    "plt.plot(full_trans['clearing_Y'])\n",
    "plt.title('Goods market clearing')\n",
    "plt.show()\n",
    "# this should be close to 0"
   ]
  }
 ],
 "metadata": {
  "kernelspec": {
   "display_name": "base",
   "language": "python",
   "name": "python3"
  },
  "language_info": {
   "codemirror_mode": {
    "name": "ipython",
    "version": 3
   },
   "file_extension": ".py",
   "mimetype": "text/x-python",
   "name": "python",
   "nbconvert_exporter": "python",
   "pygments_lexer": "ipython3",
   "version": "3.12.2"
  },
  "toc-autonumbering": true,
  "vscode": {
   "interpreter": {
    "hash": "47ef90cdf3004d3f859f1fb202523c65c07ba7c22eefd261b181f4744e2d0403"
   }
  }
 },
 "nbformat": 4,
 "nbformat_minor": 4
}
