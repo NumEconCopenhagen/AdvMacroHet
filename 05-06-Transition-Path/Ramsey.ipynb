{
 "cells": [
  {
   "cell_type": "markdown",
   "metadata": {},
   "source": [
    "# Solve for transition path in Ramsey-model"
   ]
  },
  {
   "cell_type": "markdown",
   "metadata": {},
   "source": [
    "**Table of contents**<a id='toc0_'></a>    \n",
    "- 1. [Univariate](#toc1_)    \n",
    "- 2. [Multivariate](#toc2_)    \n",
    "- 3. [Set parameters](#toc3_)    \n",
    "- 4. [Calculate steady state](#toc4_)    \n",
    "- 5. [Truncated equation system](#toc5_)    \n",
    "- 6. [Jacobian](#toc6_)    \n",
    "- 7. [Find transition path](#toc7_)    \n",
    "  - 7.1. [Low initial capital](#toc7_1_)    \n",
    "  - 7.2. [Technology shock](#toc7_2_)    \n",
    "\n",
    "<!-- vscode-jupyter-toc-config\n",
    "\tnumbering=true\n",
    "\tanchor=true\n",
    "\tflat=false\n",
    "\tminLevel=2\n",
    "\tmaxLevel=6\n",
    "\t/vscode-jupyter-toc-config -->\n",
    "<!-- THIS CELL WILL BE REPLACED ON TOC UPDATE. DO NOT WRITE YOUR TEXT IN THIS CELL -->"
   ]
  },
  {
   "cell_type": "markdown",
   "metadata": {},
   "source": [
    "This notebok shows how to solve the Ramsey model in sequence space."
   ]
  },
  {
   "cell_type": "code",
   "execution_count": 29,
   "metadata": {},
   "outputs": [
    {
     "name": "stdout",
     "output_type": "stream",
     "text": [
      "The autoreload extension is already loaded. To reload it, use:\n",
      "  %reload_ext autoreload\n"
     ]
    }
   ],
   "source": [
    "%load_ext autoreload\n",
    "%autoreload 2\n",
    "\n",
    "import time\n",
    "import pickle\n",
    "import numpy as np\n",
    "from scipy import optimize\n",
    "\n",
    "import matplotlib.pyplot as plt   \n",
    "colors = plt.rcParams['axes.prop_cycle'].by_key()['color']\n",
    "plt.rcParams.update({\"axes.grid\" : True, \"grid.color\": \"black\", \"grid.alpha\":\"0.25\", \"grid.linestyle\": \"--\"})\n",
    "plt.rcParams.update({'font.size': 14})"
   ]
  },
  {
   "cell_type": "markdown",
   "metadata": {},
   "source": [
    "# Intro: Newton's method"
   ]
  },
  {
   "cell_type": "markdown",
   "metadata": {},
   "source": [
    "## 1. <a id='toc1_'></a>[Univariate](#toc0_)"
   ]
  },
  {
   "cell_type": "markdown",
   "metadata": {},
   "source": [
    "Let's say we want to find the root of the function $y=e^{-0.5x}-2.$ That is, we want to find an $x$ such that $e^{-0.5x}-2=0.$\n",
    "\n",
    "Of course, we could simply do it analytically $x = -2\\ln(2)$ but let's say we want to check this numerically. "
   ]
  },
  {
   "cell_type": "code",
   "execution_count": 30,
   "metadata": {},
   "outputs": [],
   "source": [
    "def f(x):\n",
    "    y = np.exp(-0.5*x) - 2.\n",
    "    return y "
   ]
  },
  {
   "cell_type": "markdown",
   "metadata": {},
   "source": [
    "Using the formula for the derivative, we can approximate it numerically as \n",
    "$$f'(x)\\approx \\frac{f(x+h)-f(x)}{h}\\quad \\text{for some small }h$$"
   ]
  },
  {
   "cell_type": "code",
   "execution_count": 31,
   "metadata": {},
   "outputs": [],
   "source": [
    "h = 1e-05 \n",
    "def fprime(x,h):\n",
    "    return (f(x+h) - f(x)) / h"
   ]
  },
  {
   "cell_type": "markdown",
   "metadata": {},
   "source": [
    "Solve using Newton's method, guessing an $x^0$, and then iterating over this mapping\n",
    "$$x^{n+1}=x^n - \\frac{f(x^n)}{f'(x^n}$$"
   ]
  },
  {
   "cell_type": "code",
   "execution_count": 32,
   "metadata": {},
   "outputs": [
    {
     "name": "stdout",
     "output_type": "stream",
     "text": [
      "Current error: -1.048771\n",
      "Current error: 0.864933\n",
      "Current error: 0.118357\n",
      "Current error: 0.003245\n",
      "Current error: 0.000003\n",
      "Current error: -0.000000\n",
      "Converged after 5 iterations\n"
     ]
    }
   ],
   "source": [
    "# Initial guess \n",
    "x = 0.1 \n",
    "\n",
    "# Newton loop \n",
    "for j in range(50):\n",
    "\n",
    "    # check if zero\n",
    "    error = f(x)\n",
    "\n",
    "    print(f'Current error: {error:.6f}')\n",
    "    if np.abs(error) < 1e-10:\n",
    "        \n",
    "        print(f'Converged after {j} iterations')\n",
    "        break \n",
    "\n",
    "    else:\n",
    "\n",
    "        x_plus = x - f(x)/fprime(x,h) \n",
    "        x = x_plus"
   ]
  },
  {
   "cell_type": "markdown",
   "metadata": {},
   "source": [
    "f(x) = 0 has an analytical solution, so check that we get the correct solution with Newton's method "
   ]
  },
  {
   "cell_type": "code",
   "execution_count": 33,
   "metadata": {},
   "outputs": [
    {
     "name": "stdout",
     "output_type": "stream",
     "text": [
      "Newton solution: -1.38629\n",
      "Analytical solution: -1.38629\n"
     ]
    }
   ],
   "source": [
    "x_analytical = np.log(2.) / -0.5\n",
    "print(f'Newton solution: {x:.5f}')\n",
    "print(f'Analytical solution: {x_analytical:.5f}')"
   ]
  },
  {
   "cell_type": "markdown",
   "metadata": {},
   "source": [
    "## 2. <a id='toc2_'></a>[Multivariate](#toc0_)"
   ]
  },
  {
   "cell_type": "code",
   "execution_count": 34,
   "metadata": {},
   "outputs": [],
   "source": [
    "def f(x):\n",
    "    y = np.zeros(2)\n",
    "    y[0] = 4 * x[0]**0.3 * x[1]**0.55 - 2.\n",
    "    y[1] = 1 * x[0] - 0.5 * x[1]\n",
    "    return y "
   ]
  },
  {
   "cell_type": "markdown",
   "metadata": {},
   "source": [
    "In the multivariate case, we use the following algorithm\n",
    "$$\\mathbf{x}^{n+1}=\\mathbf{x}^n - \\frac{f(\\mathbf{x})}{\\nabla f(\\mathbf{x}^n)}$$\n",
    "where $f(\\mathbf{x})$ takes a vector and outputs a vector (or a number).\n",
    "where $$\\nabla f(\\mathbf{x})\n",
    "\\;=\\;\n",
    "J_f(\\mathbf{x})\n",
    "\\;=\\;\n",
    "\\begin{bmatrix}\n",
    "\\dfrac{\\partial f_1}{\\partial x_1}(\\mathbf{x}) & \\dfrac{\\partial f_1}{\\partial x_2}(\\mathbf{x}) & \\cdots & \\dfrac{\\partial f_1}{\\partial x_n}(\\mathbf{x}) \\\\\n",
    "\\dfrac{\\partial f_2}{\\partial x_1}(\\mathbf{x}) & \\dfrac{\\partial f_2}{\\partial x_2}(\\mathbf{x}) & \\cdots & \\dfrac{\\partial f_2}{\\partial x_n}(\\mathbf{x}) \\\\\n",
    "\\vdots & \\vdots & \\ddots & \\vdots \\\\\n",
    "\\dfrac{\\partial f_m}{\\partial x_1}(\\mathbf{x}) & \\dfrac{\\partial f_m}{\\partial x_2}(\\mathbf{x}) & \\cdots & \\dfrac{\\partial f_m}{\\partial x_n}(\\mathbf{x})\n",
    "\\end{bmatrix}.$$ is the Jacobian matrix."
   ]
  },
  {
   "cell_type": "code",
   "execution_count": 35,
   "metadata": {},
   "outputs": [],
   "source": [
    "def Jac(x, index, h):\n",
    "    h_ = np.zeros(2)\n",
    "    h_[index] = h\n",
    "    return (f(x+h_) - f(x)) / h"
   ]
  },
  {
   "cell_type": "markdown",
   "metadata": {},
   "source": [
    "Solve"
   ]
  },
  {
   "cell_type": "code",
   "execution_count": 36,
   "metadata": {},
   "outputs": [
    {
     "name": "stdout",
     "output_type": "stream",
     "text": [
      "Current max error: 0.112642286\n",
      "Current max error: -0.000000000\n",
      "Current max error: 0.000000000\n",
      "Current max error: -0.000000000\n",
      "Current max error: 0.000000000\n",
      "Converged after 4 iterations\n"
     ]
    }
   ],
   "source": [
    "# Initial guess \n",
    "x = np.array([0.1,1.1])\n",
    "\n",
    "# Newton loop \n",
    "for j in range(50):\n",
    "    \n",
    "    # check if zero\n",
    "    error = f(x)\n",
    "    print(f'Current max error: {np.max(error):.9f}')\n",
    "\n",
    "    if np.max(np.abs(error)) < 1e-09:\n",
    "\n",
    "        print(f'Converged after {j} iterations')\n",
    "\n",
    "        break \n",
    "    \n",
    "    else:\n",
    "\n",
    "        # Jacobian \n",
    "        J = np.zeros((2,2))\n",
    "        J[:,0] = Jac(x,0,h)\n",
    "        J[:,1] = Jac(x,1,h)\n",
    "\n",
    "        # Update \n",
    "        x_plus = x - np.linalg.inv(J) @ f(x) # Note: More efficient to use np.linalg.solve than np.linalg.inv \n",
    "        x = x_plus "
   ]
  },
  {
   "cell_type": "code",
   "execution_count": 37,
   "metadata": {},
   "outputs": [
    {
     "name": "stdout",
     "output_type": "stream",
     "text": [
      "Newton solution: 0.282529, 0.565058\n",
      "Analytical solution: 0.282529, 0.565058\n"
     ]
    }
   ],
   "source": [
    "x_analytical = np.zeros(2)\n",
    "x_analytical[1] = ((2. / 4.) / 0.5**0.3)**(1/(0.3+0.55)) \n",
    "x_analytical[0] = 0.5 * x_analytical[1]\n",
    "\n",
    "print(f'Newton solution: {x[0]:.6f}, {x[1]:.6f}')\n",
    "print(f'Analytical solution: {x_analytical[0]:.6f}, {x_analytical[1]:.6f}')"
   ]
  },
  {
   "cell_type": "markdown",
   "metadata": {},
   "source": [
    "Sometimes, recomputing the Jacobian is costly so we can use Broyden's method instead where we update the Jacobian using a rule."
   ]
  },
  {
   "cell_type": "code",
   "execution_count": 38,
   "metadata": {},
   "outputs": [
    {
     "name": "stdout",
     "output_type": "stream",
     "text": [
      "Current max error: 0.112642\n",
      "Current max error: -0.000000\n",
      "Current max error: 0.000000\n",
      "Current max error: 0.000000\n",
      "Current max error: 0.000000\n",
      "Current max error: 0.000000\n",
      "Current max error: 0.000000\n",
      "Converged after 6 iterations\n"
     ]
    }
   ],
   "source": [
    "# Initial guess \n",
    "x_broyden = np.array([0.1,1.1])\n",
    "\n",
    "# J around initial point \n",
    "J = np.zeros((2,2))\n",
    "J[:,0] = Jac(x_broyden,0,h)\n",
    "J[:,1] = Jac(x_broyden,1,h)\n",
    "\n",
    "# Newton loop \n",
    "for j in range(50):\n",
    "\n",
    "    # check if zero\n",
    "    error = f(x_broyden)\n",
    "    print(f'Current max error: {np.max(error):.6f}')\n",
    "\n",
    "    if np.max(np.abs(error)) < 1e-09:\n",
    "\n",
    "        print(f'Converged after {j} iterations')\n",
    "\n",
    "        break \n",
    "    \n",
    "    else:\n",
    "\n",
    "        # Broyden update \n",
    "        if j > 1:\n",
    "            dy = f(x_broyden) - f(x_old)\n",
    "            dx = x_broyden - x_old\n",
    "            J = J + np.outer(((dy - J @ dx) / np.linalg.norm(dx) ** 2), dx)\n",
    "\n",
    "        # Newton update \n",
    "        x_broyden_plus = x_broyden - np.linalg.inv(J) @ f(x_broyden)\n",
    "\n",
    "        # save old for J update \n",
    "        x_old = x_broyden \n",
    "\n",
    "        x_broyden = x_broyden_plus # update current guess x "
   ]
  },
  {
   "cell_type": "markdown",
   "metadata": {},
   "source": [
    "Check that we got same solution"
   ]
  },
  {
   "cell_type": "code",
   "execution_count": 39,
   "metadata": {},
   "outputs": [],
   "source": [
    "assert all(np.isclose(x, x_broyden))"
   ]
  },
  {
   "cell_type": "markdown",
   "metadata": {},
   "source": [
    "# Ramsey model"
   ]
  },
  {
   "cell_type": "markdown",
   "metadata": {},
   "source": [
    "## 3. <a id='toc3_'></a>[Set parameters](#toc0_)"
   ]
  },
  {
   "cell_type": "code",
   "execution_count": 40,
   "metadata": {},
   "outputs": [],
   "source": [
    "Gamma_ss = 1.0\n",
    "alpha = 0.36\n",
    "beta = 0.96\n",
    "delta = 0.10\n",
    "sigma = 2.0"
   ]
  },
  {
   "cell_type": "markdown",
   "metadata": {},
   "source": [
    "## 4. <a id='toc4_'></a>[Calculate steady state](#toc0_)"
   ]
  },
  {
   "cell_type": "markdown",
   "metadata": {},
   "source": [
    "Quantities:"
   ]
  },
  {
   "cell_type": "code",
   "execution_count": 41,
   "metadata": {},
   "outputs": [
    {
     "name": "stdout",
     "output_type": "stream",
     "text": [
      "K_ss = 4.2940\n",
      "C_hh_ss = 1.2604\n"
     ]
    }
   ],
   "source": [
    "K_ss = ((1/beta-1+delta)/(Gamma_ss*alpha))**(1/(alpha-1))\n",
    "C_hh_ss = (1-delta)*K_ss+Gamma_ss*K_ss**alpha-K_ss\n",
    "\n",
    "print(f'{K_ss = :.4f}')\n",
    "print(f'{C_hh_ss = :.4f}')"
   ]
  },
  {
   "cell_type": "code",
   "execution_count": 42,
   "metadata": {},
   "outputs": [],
   "source": [
    "def rK_func(Gamma,K_lag):\n",
    "    return Gamma*alpha*K_lag**(alpha-1)\n",
    "\n",
    "def w_func(Gamma,K_lag):\n",
    "    return Gamma*(1-alpha)*K_lag**(alpha)"
   ]
  },
  {
   "cell_type": "markdown",
   "metadata": {},
   "source": [
    "Prices:"
   ]
  },
  {
   "cell_type": "code",
   "execution_count": 43,
   "metadata": {},
   "outputs": [
    {
     "name": "stdout",
     "output_type": "stream",
     "text": [
      "rK_ss = 0.1417\n",
      "r_ss = 0.0417\n",
      "w_ss = 1.0815\n"
     ]
    }
   ],
   "source": [
    "rK_ss = rK_func(Gamma_ss,K_ss)\n",
    "r_ss = rK_ss-delta\n",
    "w_ss = w_func(Gamma_ss,K_ss)\n",
    "\n",
    "print(f'{rK_ss = :.4f}')\n",
    "print(f'{r_ss = :.4f}')\n",
    "print(f'{w_ss = :.4f}')"
   ]
  },
  {
   "cell_type": "markdown",
   "metadata": {},
   "source": [
    "## 5. <a id='toc5_'></a>[Truncated equation system](#toc0_)"
   ]
  },
  {
   "cell_type": "code",
   "execution_count": 44,
   "metadata": {},
   "outputs": [],
   "source": [
    "T = 200 # length of truncation"
   ]
  },
  {
   "cell_type": "code",
   "execution_count": 45,
   "metadata": {},
   "outputs": [],
   "source": [
    "def H(K,Gamma,K_lag_ini,C_hh_ss,T):\n",
    "\n",
    "    # initial / pre-determined: K_ini\n",
    "    # steady state: C_hh_ss\n",
    "\n",
    "    # shocks: Gamma\n",
    "    # endogenous: K\n",
    "\n",
    "    # truncation length T\n",
    "\n",
    "    # a. allocate\n",
    "    rK = np.zeros(T)\n",
    "    w = np.zeros(T)\n",
    "    C_hh = np.zeros(T)\n",
    "    A_hh = np.zeros(T)\n",
    "\n",
    "    # block 1: production firm [K_lag_ini,K -> rK,w]\n",
    "    for t in range(T):\n",
    "\n",
    "        if t == 0:\n",
    "            K_lag = K_lag_ini\n",
    "        else:\n",
    "            K_lag = K[t-1]\n",
    "\n",
    "        rK[t] = rK_func(Gamma[t],K_lag)\n",
    "        w[t] = w_func(Gamma[t],K_lag)\n",
    "\n",
    "    # block 2: mutual fund: K,rK -> A,r\n",
    "    A = K\n",
    "    r = rK-delta\n",
    "\n",
    "    # block 3: household [K_lag_ini,r,w->C,A_hh]\n",
    "    for t in reversed(range(T)): # backwards on Euler\n",
    "\n",
    "        #t = T-1-k\n",
    "\n",
    "        if t == T-1:  \n",
    "            C_hh_plus = C_hh_ss \n",
    "            r_plus = r_ss \n",
    "        else:\n",
    "            C_hh_plus = C_hh[t+1]\n",
    "            r_plus = r[t+1]\n",
    "\n",
    "        C_hh[t] = (beta*(1+r_plus))**(-1/sigma)*C_hh_plus\n",
    "\n",
    "    for t in range(T): # forwards on budget constraint\n",
    "\n",
    "        if t == 0:\n",
    "            A_hh_lag = K_lag_ini # previous clearing\n",
    "        else:\n",
    "            A_hh_lag = A_hh[t-1]\n",
    "\n",
    "        A_hh[t] = (1+r[t])*A_hh_lag + w[t] - C_hh[t]        \n",
    "    \n",
    "    # block 4: market clearing\n",
    "    clearing_A = A-A_hh\n",
    "    return clearing_A,C_hh"
   ]
  },
  {
   "cell_type": "markdown",
   "metadata": {},
   "source": [
    "Test errors are zero with steady state input:"
   ]
  },
  {
   "cell_type": "code",
   "execution_count": 46,
   "metadata": {},
   "outputs": [],
   "source": [
    "K_vec = np.repeat(K_ss,T)\n",
    "Gamma_vec = np.repeat(Gamma_ss,T)\n",
    "errors,_ = H(K_vec,Gamma_vec,K_ss,C_hh_ss,T)\n",
    "assert np.allclose(errors,0) "
   ]
  },
  {
   "cell_type": "markdown",
   "metadata": {},
   "source": [
    "## 6. <a id='toc6_'></a>[Jacobian](#toc0_)"
   ]
  },
  {
   "cell_type": "code",
   "execution_count": 47,
   "metadata": {},
   "outputs": [],
   "source": [
    "def calc_jac(T,Delta=1e-04):\n",
    "    \n",
    "    jac = np.zeros((T,T))\n",
    "\n",
    "    for s in range(T):\n",
    "\n",
    "        K = np.repeat(K_ss,T)\n",
    "        K[s] += Delta\n",
    "\n",
    "        errors,_ = H(K, np.repeat(Gamma_ss,T), K_ss, C_hh_ss, T)\n",
    "        jac[:,s] = errors/Delta # Should subtract steady state error here, but zero by construction\n",
    "\n",
    "    return jac"
   ]
  },
  {
   "cell_type": "code",
   "execution_count": 48,
   "metadata": {},
   "outputs": [],
   "source": [
    "jac = calc_jac(T)"
   ]
  },
  {
   "cell_type": "code",
   "execution_count": 49,
   "metadata": {},
   "outputs": [
    {
     "data": {
      "text/plain": [
       "(200, 200)"
      ]
     },
     "execution_count": 49,
     "metadata": {},
     "output_type": "execute_result"
    }
   ],
   "source": [
    "jac.shape"
   ]
  },
  {
   "cell_type": "markdown",
   "metadata": {},
   "source": [
    "## 7. <a id='toc7_'></a>[Find transition path](#toc0_)"
   ]
  },
  {
   "cell_type": "code",
   "execution_count": 50,
   "metadata": {},
   "outputs": [],
   "source": [
    "from GEModelTools import broyden_solver"
   ]
  },
  {
   "cell_type": "code",
   "execution_count": 51,
   "metadata": {},
   "outputs": [],
   "source": [
    "def obj(x):\n",
    "    errors,_ = H(x, Gamma_path, K_ini,C_hh_ss,T)\n",
    "    return errors"
   ]
  },
  {
   "cell_type": "markdown",
   "metadata": {},
   "source": [
    "### 7.1. <a id='toc7_1_'></a>[Low initial capital](#toc0_)"
   ]
  },
  {
   "cell_type": "code",
   "execution_count": 52,
   "metadata": {},
   "outputs": [
    {
     "name": "stdout",
     "output_type": "stream",
     "text": [
      " it =   0 -> max. abs. error = 3.82e+03\n",
      " it =   1 -> max. abs. error = 9.96e+01\n",
      " it =   2 -> max. abs. error = 1.45e+01\n",
      " it =   3 -> max. abs. error = 3.05e-01\n",
      " it =   4 -> max. abs. error = 1.00e-02\n",
      " it =   5 -> max. abs. error = 3.33e-04\n",
      " it =   6 -> max. abs. error = 6.66e-06\n",
      " it =   7 -> max. abs. error = 5.28e-08\n",
      " it =   8 -> max. abs. error = 4.71e-10\n"
     ]
    }
   ],
   "source": [
    "Gamma_path = np.repeat(Gamma_ss,T)\n",
    "K_ini = K_ss *0.75\n",
    "\n",
    "K_path_guess = np.repeat(K_ss,T)\n",
    "K_path = broyden_solver(obj,K_path_guess,jac,do_print=True)\n",
    "_,C_hh_path = H(K_path,Gamma_path,K_ini,C_hh_ss,T)"
   ]
  },
  {
   "cell_type": "code",
   "execution_count": 53,
   "metadata": {},
   "outputs": [
    {
     "data": {
      "text/plain": [
       "<matplotlib.legend.Legend at 0x169619010>"
      ]
     },
     "execution_count": 53,
     "metadata": {},
     "output_type": "execute_result"
    },
    {
     "data": {
      "image/png": "[encoded data removed]",
      "text/plain": [
       "<Figure size 640x480 with 1 Axes>"
      ]
     },
     "metadata": {},
     "output_type": "display_data"
    }
   ],
   "source": [
    "fig = plt.figure()\n",
    "ax = fig.add_subplot(1,1,1)\n",
    "\n",
    "K_lag = np.linspace(K_ss/2,K_ss*1.5,100)\n",
    "\n",
    "K_constant = (1-delta)*K_lag+Gamma_ss*K_lag**alpha-K_lag\n",
    "ax.plot(K_lag,K_constant,ls='--',label='$K_{t}=K_{t-1}$',color='black')\n",
    "ax.axvline(K_ss,ls=':',label='$C^{hh}_{t+1}=C^{hh}_t$',color='black')\n",
    "\n",
    "ax.plot(K_path,C_hh_path,'-o',label='transition path')\n",
    "\n",
    "ax.set_xlabel('$K_{t-1}$')\n",
    "ax.set_ylabel('$C^{hh}_{t}$')\n",
    "ax.legend(frameon=True)\n",
    "# fig.savefig('figs/K_ini_lag.pdf')"
   ]
  },
  {
   "cell_type": "markdown",
   "metadata": {},
   "source": [
    "### 7.2. <a id='toc7_2_'></a>[Technology shock](#toc0_)"
   ]
  },
  {
   "cell_type": "code",
   "execution_count": 57,
   "metadata": {},
   "outputs": [
    {
     "name": "stdout",
     "output_type": "stream",
     "text": [
      " it =   0 -> max. abs. error = 1.29e+03\n",
      " it =   1 -> max. abs. error = 1.69e+01\n",
      " it =   2 -> max. abs. error = 1.70e-01\n",
      " it =   3 -> max. abs. error = 1.53e-02\n",
      " it =   4 -> max. abs. error = 1.27e-05\n",
      " it =   5 -> max. abs. error = 3.83e-06\n",
      " it =   6 -> max. abs. error = 1.15e-07\n",
      " it =   7 -> max. abs. error = 2.89e-09\n"
     ]
    }
   ],
   "source": [
    "Gamma_path = Gamma_ss + 0.01*Gamma_ss*0.95**np.arange(T)\n",
    "K_ini = K_ss\n",
    "\n",
    "def obj(x):\n",
    "    errors,C = H(x,Gamma_path,K_ini,C_hh_ss,T)\n",
    "    return errors\n",
    "\n",
    "K_path_guess = np.repeat(K_ss,T)\n",
    "K_path = broyden_solver(obj,K_path_guess,jac,do_print=True)\n",
    "_,C_hh_path = H(K_path,Gamma_path,K_ini,C_hh_ss,T)"
   ]
  },
  {
   "cell_type": "code",
   "execution_count": 58,
   "metadata": {},
   "outputs": [
    {
     "name": "stderr",
     "output_type": "stream",
     "text": [
      "<>:5: SyntaxWarning: invalid escape sequence '\\G'\n",
      "<>:5: SyntaxWarning: invalid escape sequence '\\G'\n",
      "/var/folders/hn/dsqvtr1n09z9k135wwh_g7280000gn/T/ipykernel_33391/1014423420.py:5: SyntaxWarning: invalid escape sequence '\\G'\n",
      "  ax.set_title('$\\Gamma_{t}$')\n"
     ]
    },
    {
     "data": {
      "image/png": "[encoded data removed]",
      "text/plain": [
       "<Figure size 1200x400 with 2 Axes>"
      ]
     },
     "metadata": {},
     "output_type": "display_data"
    }
   ],
   "source": [
    "fig = plt.figure(figsize=(12,4))\n",
    "\n",
    "ax = fig.add_subplot(1,2,1)\n",
    "ax.plot(np.arange(T),Gamma_path)\n",
    "ax.set_title('$\\Gamma_{t}$')\n",
    "\n",
    "ax = fig.add_subplot(1,2,2)\n",
    "ax.plot(np.arange(T),K_path)\n",
    "ax.set_title('$K_{t}$')\n",
    "\n",
    "fig.tight_layout()"
   ]
  }
 ],
 "metadata": {
  "kernelspec": {
   "display_name": "base",
   "language": "python",
   "name": "python3"
  },
  "language_info": {
   "codemirror_mode": {
    "name": "ipython",
    "version": 3
   },
   "file_extension": ".py",
   "mimetype": "text/x-python",
   "name": "python",
   "nbconvert_exporter": "python",
   "pygments_lexer": "ipython3",
   "version": "3.12.2"
  },
  "orig_nbformat": 4
 },
 "nbformat": 4,
 "nbformat_minor": 2
}
