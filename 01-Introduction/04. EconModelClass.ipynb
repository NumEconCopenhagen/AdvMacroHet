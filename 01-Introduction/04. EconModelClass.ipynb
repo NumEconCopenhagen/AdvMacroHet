{
 "cells": [
  {
   "cell_type": "markdown",
   "id": "f5256459",
   "metadata": {
    "papermill": {
     "duration": 0.020017,
     "end_time": "2023-07-13T16:17:01.175454",
     "exception": false,
     "start_time": "2023-07-13T16:17:01.155437",
     "status": "completed"
    },
    "tags": []
   },
   "source": [
    "# Using the EconModelClass"
   ]
  },
  {
   "cell_type": "markdown",
   "id": "a364a307",
   "metadata": {},
   "source": [
    "**Table of contents**<a id='toc0_'></a>    \n",
    "- 1. [Baseline Usage](#toc1_)    \n",
    "- 2. [Copy, save and load](#toc2_)    \n",
    "- 3. [To and from dictionary](#toc3_)    \n",
    "- 4. [Numba](#toc4_)    \n",
    "\n",
    "<!-- vscode-jupyter-toc-config\n",
    "\tnumbering=true\n",
    "\tanchor=true\n",
    "\tflat=false\n",
    "\tminLevel=2\n",
    "\tmaxLevel=6\n",
    "\t/vscode-jupyter-toc-config -->\n",
    "<!-- THIS CELL WILL BE REPLACED ON TOC UPDATE. DO NOT WRITE YOUR TEXT IN THIS CELL -->"
   ]
  },
  {
   "attachments": {},
   "cell_type": "markdown",
   "id": "e4d84da7",
   "metadata": {
    "papermill": {
     "duration": 0.010008,
     "end_time": "2023-07-13T16:17:01.218489",
     "exception": false,
     "start_time": "2023-07-13T16:17:01.208481",
     "status": "completed"
    },
    "tags": []
   },
   "source": [
    "`EconModel` is a small package for easily working with economic models in Python. It has four objectives:\n",
    "\n",
    "1. Make it easy to write well-structed code.\n",
    "1. Provide standard functionality for copying, saving and loading.\n",
    "1. Provide an easy interface to call [numba](http://numba.pydata.org/) JIT compilled functions.\n",
    "1. Provide an easy interface to call C++ functions (not relevant in this course)."
   ]
  },
  {
   "attachments": {},
   "cell_type": "markdown",
   "id": "ab8d2fa9",
   "metadata": {
    "papermill": {
     "duration": 0.011008,
     "end_time": "2023-07-13T16:17:01.240505",
     "exception": false,
     "start_time": "2023-07-13T16:17:01.229497",
     "status": "completed"
    },
    "tags": []
   },
   "source": [
    "This notebook provides a simple example for using the `EconModelClass`. See documentation in [EconModel/README.md](https://github.com/NumEconCopenhagen/EconModel#econmodel)."
   ]
  },
  {
   "cell_type": "code",
   "execution_count": 1,
   "id": "23e3a357",
   "metadata": {
    "execution": {
     "iopub.execute_input": "2023-07-13T16:17:01.263526Z",
     "iopub.status.busy": "2023-07-13T16:17:01.262525Z",
     "iopub.status.idle": "2023-07-13T16:17:01.776943Z",
     "shell.execute_reply": "2023-07-13T16:17:01.776943Z"
    },
    "papermill": {
     "duration": 0.530432,
     "end_time": "2023-07-13T16:17:01.780947",
     "exception": false,
     "start_time": "2023-07-13T16:17:01.250515",
     "status": "completed"
    },
    "tags": []
   },
   "outputs": [],
   "source": [
    "%load_ext autoreload\n",
    "%autoreload 2\n",
    "\n",
    "import numpy as np\n",
    "import numba as nb\n",
    "\n",
    "from EconModel import EconModelClass, jit"
   ]
  },
  {
   "cell_type": "markdown",
   "id": "86119eee",
   "metadata": {
    "papermill": {
     "duration": 0.011011,
     "end_time": "2023-07-13T16:17:01.810971",
     "exception": false,
     "start_time": "2023-07-13T16:17:01.799960",
     "status": "completed"
    },
    "tags": []
   },
   "source": [
    "## 1. <a id='toc1_'></a>[Baseline Usage](#toc0_)"
   ]
  },
  {
   "attachments": {},
   "cell_type": "markdown",
   "id": "cbe7cc3c",
   "metadata": {
    "papermill": {
     "duration": 0.011009,
     "end_time": "2023-07-13T16:17:01.831989",
     "exception": false,
     "start_time": "2023-07-13T16:17:01.820980",
     "status": "completed"
    },
    "tags": []
   },
   "source": [
    "The model is **required** to have the following three methods:\n",
    "\n",
    "1. `.settings()`: Choose fundamental settings.\n",
    "1. `.setup()`: Set free parameters.\n",
    "1. `.allocate()`: Set compound parameters and allocate arrays.\n",
    "\n",
    "When the model is initialized the call order is:\n",
    "\n",
    "1. `.settings()`\n",
    "2. `.setup()` \n",
    "3. `.allocate()`\n",
    "\n",
    "Per default the namespaces `.par` (for parameters), `.sol` (for solution objects) and `.sim` (for simulation objects) are available.\n",
    "\n",
    "The philosophy of the package is that all the content of the model is contained in these namespaces. \n",
    "\n",
    "After the model has been initialized, no additional entries should be added to the namespaces, and each entry should only change *value(s)* (or shape for arrays), but never *type* (or number of dimensions for arrays)."
   ]
  },
  {
   "cell_type": "code",
   "execution_count": 2,
   "id": "d10938f3",
   "metadata": {
    "execution": {
     "iopub.execute_input": "2023-07-13T16:17:01.855007Z",
     "iopub.status.busy": "2023-07-13T16:17:01.854006Z",
     "iopub.status.idle": "2023-07-13T16:17:01.921060Z",
     "shell.execute_reply": "2023-07-13T16:17:01.921060Z"
    },
    "papermill": {
     "duration": 0.082067,
     "end_time": "2023-07-13T16:17:01.924063",
     "exception": false,
     "start_time": "2023-07-13T16:17:01.841996",
     "status": "completed"
    },
    "tags": []
   },
   "outputs": [],
   "source": [
    "class MyModelClass(EconModelClass):\n",
    "    \n",
    "    # __init__ is inherited from EconModelClass\n",
    "    \n",
    "    def settings(self): # required\n",
    "        \"\"\" choose settings \"\"\"\n",
    "            \n",
    "        pass # nothing chosen here\n",
    "    \n",
    "    def setup(self): # required\n",
    "        \"\"\" set free parameters \"\"\"\n",
    "        \n",
    "        par = self.par\n",
    "        \n",
    "        par.N = 10\n",
    "        par.a = 2.0\n",
    "        par.b = 1.0\n",
    "        par.threads = 4\n",
    "        par.txt = 'a'\n",
    "        par.txtlist = 'N|threads'\n",
    "        \n",
    "    def allocate(self): # required\n",
    "        \"\"\" set compound parameters and allocate arrays \"\"\"\n",
    "        \n",
    "        par = self.par\n",
    "        sol = self.sol\n",
    "        \n",
    "        par.X = np.linspace(0,10,par.N)\n",
    "        sol.Y = np.zeros(par.N)\n",
    "        par.Z = np.ones(par.N,dtype=int)\n",
    "    \n",
    "    def solve(self): # user-defined\n",
    "        \"\"\" solve the model\"\"\"\n",
    "        \n",
    "        par = self.par\n",
    "        sol = self.sol\n",
    "        \n",
    "        sol.Y[:] = par.X*(par.a+par.b)*par.Z\n"
   ]
  },
  {
   "attachments": {},
   "cell_type": "markdown",
   "id": "5b4ba1d3",
   "metadata": {
    "papermill": {
     "duration": 0.011009,
     "end_time": "2023-07-13T16:17:01.954087",
     "exception": false,
     "start_time": "2023-07-13T16:17:01.943078",
     "status": "completed"
    },
    "tags": []
   },
   "source": [
    "In `.settings()` the user can change the default behavior by specifying: \n",
    "\n",
    "1. `self.savefolder = str`: Filepath to save in and load from (default: 'saved').\n",
    "1. `self.namespaces = [str]`: List of namespaces (in addition to `.par`, `.sol`, `.sol`).\n",
    "1. `self.other_attrs = [str]`: List of additional attributes to be copied and saved.\n"
   ]
  },
  {
   "cell_type": "code",
   "execution_count": 3,
   "id": "f114c3dd",
   "metadata": {
    "execution": {
     "iopub.execute_input": "2023-07-13T16:17:01.978106Z",
     "iopub.status.busy": "2023-07-13T16:17:01.977106Z",
     "iopub.status.idle": "2023-07-13T16:17:02.054168Z",
     "shell.execute_reply": "2023-07-13T16:17:02.054168Z"
    },
    "papermill": {
     "duration": 0.092075,
     "end_time": "2023-07-13T16:17:02.057171",
     "exception": false,
     "start_time": "2023-07-13T16:17:01.965096",
     "status": "completed"
    },
    "tags": []
   },
   "outputs": [],
   "source": [
    "model = MyModelClass(name='example')"
   ]
  },
  {
   "cell_type": "code",
   "execution_count": 4,
   "id": "a8887a5b",
   "metadata": {
    "execution": {
     "iopub.execute_input": "2023-07-13T16:17:02.095201Z",
     "iopub.status.busy": "2023-07-13T16:17:02.094201Z",
     "iopub.status.idle": "2023-07-13T16:17:02.157252Z",
     "shell.execute_reply": "2023-07-13T16:17:02.156250Z"
    },
    "papermill": {
     "duration": 0.08607,
     "end_time": "2023-07-13T16:17:02.160254",
     "exception": false,
     "start_time": "2023-07-13T16:17:02.074184",
     "status": "completed"
    },
    "tags": []
   },
   "outputs": [],
   "source": [
    "model.solve()"
   ]
  },
  {
   "attachments": {},
   "cell_type": "markdown",
   "id": "50f5b4d3",
   "metadata": {
    "papermill": {
     "duration": 0.011009,
     "end_time": "2023-07-13T16:17:02.190278",
     "exception": false,
     "start_time": "2023-07-13T16:17:02.179269",
     "status": "completed"
    },
    "tags": []
   },
   "source": [
    "**Print description:**"
   ]
  },
  {
   "cell_type": "code",
   "execution_count": 5,
   "id": "1a9c8514",
   "metadata": {
    "execution": {
     "iopub.execute_input": "2023-07-13T16:17:02.214298Z",
     "iopub.status.busy": "2023-07-13T16:17:02.214298Z",
     "iopub.status.idle": "2023-07-13T16:17:02.293360Z",
     "shell.execute_reply": "2023-07-13T16:17:02.292359Z"
    },
    "papermill": {
     "duration": 0.095075,
     "end_time": "2023-07-13T16:17:02.296362",
     "exception": false,
     "start_time": "2023-07-13T16:17:02.201287",
     "status": "completed"
    },
    "tags": []
   },
   "outputs": [
    {
     "name": "stdout",
     "output_type": "stream",
     "text": [
      "Modelclass: MyModelClass\n",
      "Name: example\n",
      "\n",
      "namespaces: ['par', 'sol', 'sim']\n",
      "other_attrs: []\n",
      "savefolder: saved\n",
      "cpp_filename: None\n",
      "\n",
      "par:\n",
      " N = 10 [int]\n",
      " a = 2.0 [float]\n",
      " b = 1.0 [float]\n",
      " threads = 4 [int]\n",
      " txt = a [str]\n",
      " txtlist = N|threads [str]\n",
      " X = ndarray[float64] with shape = (10,) [0.0 mb]\n",
      " Z = ndarray[int32] with shape = (10,) [0.0 mb]\n",
      " memory: 0.0 mb\n",
      "\n",
      "sol:\n",
      " Y = ndarray[float64] with shape = (10,) [0.0 mb]\n",
      " memory: 0.0 mb\n",
      "\n",
      "sim:\n",
      " memory: 0.0 mb\n",
      "\n"
     ]
    }
   ],
   "source": [
    "print(model)"
   ]
  },
  {
   "attachments": {},
   "cell_type": "markdown",
   "id": "b1473ee9",
   "metadata": {
    "papermill": {
     "duration": 0.010008,
     "end_time": "2023-07-13T16:17:02.323385",
     "exception": false,
     "start_time": "2023-07-13T16:17:02.313377",
     "status": "completed"
    },
    "tags": []
   },
   "source": [
    "**Updating at initialization.** Called after `.setup()`, but before `.allocate()`."
   ]
  },
  {
   "cell_type": "code",
   "execution_count": 6,
   "id": "a437ad5d",
   "metadata": {
    "execution": {
     "iopub.execute_input": "2023-07-13T16:17:02.348406Z",
     "iopub.status.busy": "2023-07-13T16:17:02.347405Z",
     "iopub.status.idle": "2023-07-13T16:17:02.410456Z",
     "shell.execute_reply": "2023-07-13T16:17:02.410456Z"
    },
    "papermill": {
     "duration": 0.079064,
     "end_time": "2023-07-13T16:17:02.413459",
     "exception": false,
     "start_time": "2023-07-13T16:17:02.334395",
     "status": "completed"
    },
    "tags": []
   },
   "outputs": [
    {
     "name": "stdout",
     "output_type": "stream",
     "text": [
      "3.0\n"
     ]
    }
   ],
   "source": [
    "model_alt = MyModelClass(name='alt',par={'a':3.0,'b':1.2})\n",
    "print(model_alt.par.a)"
   ]
  },
  {
   "attachments": {},
   "cell_type": "markdown",
   "id": "f66c1013",
   "metadata": {
    "papermill": {
     "duration": 0.011009,
     "end_time": "2023-07-13T16:17:02.443483",
     "exception": false,
     "start_time": "2023-07-13T16:17:02.432474",
     "status": "completed"
    },
    "tags": []
   },
   "source": [
    "**Unpack for later use:**"
   ]
  },
  {
   "cell_type": "code",
   "execution_count": 7,
   "id": "cfe2194e",
   "metadata": {
    "execution": {
     "iopub.execute_input": "2023-07-13T16:17:02.467502Z",
     "iopub.status.busy": "2023-07-13T16:17:02.467502Z",
     "iopub.status.idle": "2023-07-13T16:17:02.528552Z",
     "shell.execute_reply": "2023-07-13T16:17:02.528552Z"
    },
    "papermill": {
     "duration": 0.077064,
     "end_time": "2023-07-13T16:17:02.531554",
     "exception": false,
     "start_time": "2023-07-13T16:17:02.454490",
     "status": "completed"
    },
    "tags": []
   },
   "outputs": [],
   "source": [
    "par = model.par\n",
    "sol = model.sol"
   ]
  },
  {
   "attachments": {},
   "cell_type": "markdown",
   "id": "36f61408",
   "metadata": {
    "papermill": {
     "duration": 0.010008,
     "end_time": "2023-07-13T16:17:02.558576",
     "exception": false,
     "start_time": "2023-07-13T16:17:02.548568",
     "status": "completed"
    },
    "tags": []
   },
   "source": [
    "**Under the hood:** Each namespace is techically a `SimpleNamespace` (from `types`)"
   ]
  },
  {
   "cell_type": "code",
   "execution_count": 8,
   "id": "f95bf68f",
   "metadata": {
    "execution": {
     "iopub.execute_input": "2023-07-13T16:17:02.583597Z",
     "iopub.status.busy": "2023-07-13T16:17:02.582596Z",
     "iopub.status.idle": "2023-07-13T16:17:02.659658Z",
     "shell.execute_reply": "2023-07-13T16:17:02.658657Z"
    },
    "papermill": {
     "duration": 0.092076,
     "end_time": "2023-07-13T16:17:02.662660",
     "exception": false,
     "start_time": "2023-07-13T16:17:02.570584",
     "status": "completed"
    },
    "tags": []
   },
   "outputs": [
    {
     "data": {
      "text/plain": [
       "types.SimpleNamespace"
      ]
     },
     "execution_count": 8,
     "metadata": {},
     "output_type": "execute_result"
    }
   ],
   "source": [
    "type(par)"
   ]
  },
  {
   "cell_type": "markdown",
   "id": "ec62e58c",
   "metadata": {
    "papermill": {
     "duration": 0.011009,
     "end_time": "2023-07-13T16:17:02.690683",
     "exception": false,
     "start_time": "2023-07-13T16:17:02.679674",
     "status": "completed"
    },
    "tags": []
   },
   "source": [
    "## 2. <a id='toc2_'></a>[Copy, save and load](#toc0_)"
   ]
  },
  {
   "cell_type": "code",
   "execution_count": 9,
   "id": "c283708b",
   "metadata": {
    "execution": {
     "iopub.execute_input": "2023-07-13T16:17:02.723709Z",
     "iopub.status.busy": "2023-07-13T16:17:02.722708Z",
     "iopub.status.idle": "2023-07-13T16:17:02.796769Z",
     "shell.execute_reply": "2023-07-13T16:17:02.796769Z"
    },
    "papermill": {
     "duration": 0.09908,
     "end_time": "2023-07-13T16:17:02.800772",
     "exception": false,
     "start_time": "2023-07-13T16:17:02.701692",
     "status": "completed"
    },
    "tags": []
   },
   "outputs": [],
   "source": [
    "model_copy = model.copy(name='example_copy')\n",
    "model_copy.save()"
   ]
  },
  {
   "cell_type": "code",
   "execution_count": 10,
   "id": "04447120",
   "metadata": {
    "execution": {
     "iopub.execute_input": "2023-07-13T16:17:02.832798Z",
     "iopub.status.busy": "2023-07-13T16:17:02.831797Z",
     "iopub.status.idle": "2023-07-13T16:17:02.909860Z",
     "shell.execute_reply": "2023-07-13T16:17:02.908859Z"
    },
    "papermill": {
     "duration": 0.093076,
     "end_time": "2023-07-13T16:17:02.912863",
     "exception": false,
     "start_time": "2023-07-13T16:17:02.819787",
     "status": "completed"
    },
    "tags": []
   },
   "outputs": [
    {
     "name": "stdout",
     "output_type": "stream",
     "text": [
      "Modelclass: MyModelClass\n",
      "Name: example_copy\n",
      "\n",
      "namespaces: ['par', 'sol', 'sim']\n",
      "other_attrs: []\n",
      "savefolder: saved\n",
      "cpp_filename: None\n",
      "\n",
      "par:\n",
      " N = 10 [int]\n",
      " a = 2.0 [float]\n",
      " b = 1.0 [float]\n",
      " threads = 4 [int]\n",
      " txt = a [str]\n",
      " txtlist = N|threads [str]\n",
      " X = ndarray[float64] with shape = (10,) [0.0 mb]\n",
      " Z = ndarray[int32] with shape = (10,) [0.0 mb]\n",
      " memory: 0.0 mb\n",
      "\n",
      "sol:\n",
      " Y = ndarray[float64] with shape = (10,) [0.0 mb]\n",
      " memory: 0.0 mb\n",
      "\n",
      "sim:\n",
      " memory: 0.0 mb\n",
      "\n"
     ]
    }
   ],
   "source": [
    "model_loaded = MyModelClass(name='example_copy',load=True)\n",
    "print(model_loaded)"
   ]
  },
  {
   "cell_type": "markdown",
   "id": "052ffa32",
   "metadata": {
    "papermill": {
     "duration": 0.011009,
     "end_time": "2023-07-13T16:17:02.941887",
     "exception": false,
     "start_time": "2023-07-13T16:17:02.930878",
     "status": "completed"
    },
    "tags": []
   },
   "source": [
    "## 3. <a id='toc3_'></a>[To and from dictionary](#toc0_)"
   ]
  },
  {
   "cell_type": "code",
   "execution_count": 11,
   "id": "16162065",
   "metadata": {
    "execution": {
     "iopub.execute_input": "2023-07-13T16:17:02.965906Z",
     "iopub.status.busy": "2023-07-13T16:17:02.965906Z",
     "iopub.status.idle": "2023-07-13T16:17:03.048974Z",
     "shell.execute_reply": "2023-07-13T16:17:03.048974Z"
    },
    "papermill": {
     "duration": 0.100081,
     "end_time": "2023-07-13T16:17:03.052977",
     "exception": false,
     "start_time": "2023-07-13T16:17:02.952896",
     "status": "completed"
    },
    "tags": []
   },
   "outputs": [
    {
     "name": "stdout",
     "output_type": "stream",
     "text": [
      "Modelclass: MyModelClass\n",
      "Name: example_dict\n",
      "\n",
      "namespaces: ['par', 'sol', 'sim']\n",
      "other_attrs: []\n",
      "savefolder: saved\n",
      "cpp_filename: None\n",
      "\n",
      "par:\n",
      " N = 10 [int]\n",
      " a = 2.0 [float]\n",
      " b = 1.0 [float]\n",
      " threads = 4 [int]\n",
      " txt = a [str]\n",
      " txtlist = N|threads [str]\n",
      " X = ndarray[float64] with shape = (10,) [0.0 mb]\n",
      " Z = ndarray[int32] with shape = (10,) [0.0 mb]\n",
      " memory: 0.0 mb\n",
      "\n",
      "sol:\n",
      " Y = ndarray[float64] with shape = (10,) [0.0 mb]\n",
      " memory: 0.0 mb\n",
      "\n",
      "sim:\n",
      " memory: 0.0 mb\n",
      "\n"
     ]
    }
   ],
   "source": [
    "modeldict = model.as_dict()\n",
    "model_dict = MyModelClass(name='example_dict',from_dict=modeldict)\n",
    "print(model_dict)"
   ]
  },
  {
   "cell_type": "markdown",
   "id": "9a399e7b",
   "metadata": {
    "papermill": {
     "duration": 0.011009,
     "end_time": "2023-07-13T16:17:03.082001",
     "exception": false,
     "start_time": "2023-07-13T16:17:03.070992",
     "status": "completed"
    },
    "tags": []
   },
   "source": [
    "## 4. <a id='toc4_'></a>[Numba](#toc0_)"
   ]
  },
  {
   "attachments": {},
   "cell_type": "markdown",
   "id": "9c787968",
   "metadata": {
    "papermill": {
     "duration": 0.011009,
     "end_time": "2023-07-13T16:17:03.103018",
     "exception": false,
     "start_time": "2023-07-13T16:17:03.092009",
     "status": "completed"
    },
    "tags": []
   },
   "source": [
    "**Goal:** Call [numba](http://numba.pydata.org/) JIT compilled functions easily using namespaces.\n",
    "\n",
    "**Problem:** [numba](http://numba.pydata.org/) only allows specific types (and not e.g. `SimpleNamespace`).\n",
    "\n",
    "**Under-the-hood:** `jit(model)` temporarily turns all namespaces into `namedtuples`, which can be used as input in JIT compilled functions. "
   ]
  },
  {
   "cell_type": "code",
   "execution_count": 12,
   "id": "72d6664a",
   "metadata": {
    "execution": {
     "iopub.execute_input": "2023-07-13T16:17:03.127037Z",
     "iopub.status.busy": "2023-07-13T16:17:03.126037Z",
     "iopub.status.idle": "2023-07-13T16:17:03.193091Z",
     "shell.execute_reply": "2023-07-13T16:17:03.193091Z"
    },
    "papermill": {
     "duration": 0.082066,
     "end_time": "2023-07-13T16:17:03.196093",
     "exception": false,
     "start_time": "2023-07-13T16:17:03.114027",
     "status": "completed"
    },
    "tags": []
   },
   "outputs": [],
   "source": [
    "@nb.njit\n",
    "def fun(par,sol):\n",
    "    sol.Y[:] = par.X*(par.a+par.b)"
   ]
  },
  {
   "cell_type": "code",
   "execution_count": 13,
   "id": "8a9f909e",
   "metadata": {
    "execution": {
     "iopub.execute_input": "2023-07-13T16:17:03.228120Z",
     "iopub.status.busy": "2023-07-13T16:17:03.227119Z",
     "iopub.status.idle": "2023-07-13T16:17:03.287168Z",
     "shell.execute_reply": "2023-07-13T16:17:03.287168Z"
    },
    "papermill": {
     "duration": 0.075061,
     "end_time": "2023-07-13T16:17:03.290170",
     "exception": false,
     "start_time": "2023-07-13T16:17:03.215109",
     "status": "completed"
    },
    "tags": []
   },
   "outputs": [],
   "source": [
    "def test_numba(model):\n",
    "    with jit(model) as model_jit:\n",
    "        fun(model_jit.par,model_jit.sol)"
   ]
  },
  {
   "cell_type": "code",
   "execution_count": 14,
   "id": "624b5bdf",
   "metadata": {
    "execution": {
     "iopub.execute_input": "2023-07-13T16:17:03.324198Z",
     "iopub.status.busy": "2023-07-13T16:17:03.324198Z",
     "iopub.status.idle": "2023-07-13T16:17:04.047785Z",
     "shell.execute_reply": "2023-07-13T16:17:04.047785Z"
    },
    "papermill": {
     "duration": 0.7396,
     "end_time": "2023-07-13T16:17:04.051788",
     "exception": false,
     "start_time": "2023-07-13T16:17:03.312188",
     "status": "completed"
    },
    "tags": []
   },
   "outputs": [
    {
     "name": "stdout",
     "output_type": "stream",
     "text": [
      "CPU times: total: 797 ms\n",
      "Wall time: 2.15 s\n",
      "CPU times: total: 0 ns\n",
      "Wall time: 1e+03 μs\n"
     ]
    }
   ],
   "source": [
    "%time test_numba(model)\n",
    "%time test_numba(model)"
   ]
  },
  {
   "attachments": {},
   "cell_type": "markdown",
   "id": "9e2a07de",
   "metadata": {
    "papermill": {
     "duration": 0.021017,
     "end_time": "2023-07-13T16:17:04.090820",
     "exception": false,
     "start_time": "2023-07-13T16:17:04.069803",
     "status": "completed"
    },
    "tags": []
   },
   "source": [
    "**Note:** The first run is slower due to compiling."
   ]
  },
  {
   "attachments": {},
   "cell_type": "markdown",
   "id": "eef478b2",
   "metadata": {
    "papermill": {
     "duration": 0.011008,
     "end_time": "2023-07-13T16:17:04.114839",
     "exception": false,
     "start_time": "2023-07-13T16:17:04.103831",
     "status": "completed"
    },
    "tags": []
   },
   "source": [
    "**Check result:**"
   ]
  },
  {
   "cell_type": "code",
   "execution_count": 15,
   "id": "8218abc8",
   "metadata": {
    "execution": {
     "iopub.execute_input": "2023-07-13T16:17:04.138859Z",
     "iopub.status.busy": "2023-07-13T16:17:04.137858Z",
     "iopub.status.idle": "2023-07-13T16:17:04.209917Z",
     "shell.execute_reply": "2023-07-13T16:17:04.209917Z"
    },
    "papermill": {
     "duration": 0.087071,
     "end_time": "2023-07-13T16:17:04.212919",
     "exception": false,
     "start_time": "2023-07-13T16:17:04.125848",
     "status": "completed"
    },
    "tags": []
   },
   "outputs": [],
   "source": [
    "assert np.allclose(par.X*(par.a+par.b),sol.Y)"
   ]
  }
 ],
 "metadata": {
  "kernelspec": {
   "display_name": "base",
   "language": "python",
   "name": "python3"
  },
  "language_info": {
   "codemirror_mode": {
    "name": "ipython",
    "version": 3
   },
   "file_extension": ".py",
   "mimetype": "text/x-python",
   "name": "python",
   "nbconvert_exporter": "python",
   "pygments_lexer": "ipython3",
   "version": "3.12.4"
  },
  "papermill": {
   "default_parameters": {},
   "duration": 15.87291,
   "end_time": "2023-07-13T16:17:14.836562",
   "environment_variables": {},
   "exception": null,
   "input_path": "01. Using the EconModelClass.ipynb",
   "output_path": "temp_notebooks/01. Using the EconModelClass.ipynb",
   "parameters": {},
   "start_time": "2023-07-13T16:16:58.963652",
   "version": "2.4.0"
  },
  "toc": {
   "base_numbering": 1,
   "nav_menu": {},
   "number_sections": true,
   "sideBar": true,
   "skip_h1_title": false,
   "title_cell": "Table of Contents",
   "title_sidebar": "Contents",
   "toc_cell": true,
   "toc_position": {},
   "toc_section_display": true,
   "toc_window_display": false
  },
  "toc-autonumbering": true
 },
 "nbformat": 4,
 "nbformat_minor": 5
}
