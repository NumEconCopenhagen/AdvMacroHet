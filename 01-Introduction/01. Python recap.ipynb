{
 "cells": [
  {
   "cell_type": "markdown",
   "metadata": {},
   "source": [
    "# Python recap"
   ]
  },
  {
   "cell_type": "markdown",
   "metadata": {},
   "source": [
    "**Table of contents**<a id='toc0_'></a>    \n",
    "- 1. [Classes](#toc1_)    \n",
    "- 2. [References](#toc2_)    \n",
    "- 3. [Types and in-place operations](#toc3_)    \n",
    "- 4. [Functions and scope](#toc4_)    \n",
    "- 5. [Conditionals and loops](#toc5_)    \n",
    "- 6. [Decimal numbers are not exact](#toc6_)    \n",
    "- 7. [Random numers](#toc7_)    \n",
    "\n",
    "<!-- vscode-jupyter-toc-config\n",
    "\tnumbering=true\n",
    "\tanchor=true\n",
    "\tflat=false\n",
    "\tminLevel=2\n",
    "\tmaxLevel=6\n",
    "\t/vscode-jupyter-toc-config -->\n",
    "<!-- THIS CELL WILL BE REPLACED ON TOC UPDATE. DO NOT WRITE YOUR TEXT IN THIS CELL -->"
   ]
  },
  {
   "cell_type": "code",
   "execution_count": 1,
   "metadata": {},
   "outputs": [],
   "source": [
    "import numpy as np"
   ]
  },
  {
   "cell_type": "markdown",
   "metadata": {},
   "source": [
    "## 1. <a id='toc1_'></a>[Classes](#toc0_)"
   ]
  },
  {
   "cell_type": "code",
   "execution_count": 2,
   "metadata": {},
   "outputs": [
    {
     "name": "stdout",
     "output_type": "stream",
     "text": [
      "10\n",
      "20\n",
      "5.0\n"
     ]
    }
   ],
   "source": [
    "class Parent:\n",
    "\n",
    "    def __init__(self,value):\n",
    "        self.value = value\n",
    "\n",
    "    def double(self):\n",
    "        return self.value * 2\n",
    "    \n",
    "class Child(Parent):\n",
    "\n",
    "    def half(self):\n",
    "        return self.value / 2\n",
    "    \n",
    "child = Child(10)\n",
    "print(child.value)\n",
    "print(child.double())\n",
    "print(child.half())"
   ]
  },
  {
   "cell_type": "markdown",
   "metadata": {},
   "source": [
    "## 2. <a id='toc2_'></a>[References](#toc0_)"
   ]
  },
  {
   "cell_type": "code",
   "execution_count": 3,
   "metadata": {},
   "outputs": [
    {
     "name": "stdout",
     "output_type": "stream",
     "text": [
      "[3 3 3]\n"
     ]
    }
   ],
   "source": [
    "a = np.array([1,2,3])\n",
    "b = a\n",
    "c = a[1:] # slicing\n",
    "b[0] = 3 # indexing\n",
    "c[0] = 3\n",
    "print(a)"
   ]
  },
  {
   "cell_type": "markdown",
   "metadata": {},
   "source": [
    "Same with a list?"
   ]
  },
  {
   "cell_type": "code",
   "execution_count": 4,
   "metadata": {},
   "outputs": [
    {
     "name": "stdout",
     "output_type": "stream",
     "text": [
      "[3, 2, 3]\n"
     ]
    }
   ],
   "source": [
    "a = [1,2,3]\n",
    "b = a\n",
    "c = a[1:] # slicing (copy)\n",
    "b[0] = 3 # indexing\n",
    "c[0] = 3\n",
    "print(a)"
   ]
  },
  {
   "cell_type": "markdown",
   "metadata": {},
   "source": [
    "## 3. <a id='toc3_'></a>[Types and in-place operations](#toc0_)"
   ]
  },
  {
   "cell_type": "code",
   "execution_count": 5,
   "metadata": {},
   "outputs": [
    {
     "name": "stdout",
     "output_type": "stream",
     "text": [
      "[4 5 6]\n"
     ]
    }
   ],
   "source": [
    "x = np.array([1,2,3])\n",
    "y = x\n",
    "x += 1\n",
    "x[:] = x + 1\n",
    "x = x + 1\n",
    "print(x)"
   ]
  },
  {
   "cell_type": "markdown",
   "metadata": {},
   "source": [
    "**Functions and scope:**"
   ]
  },
  {
   "cell_type": "code",
   "execution_count": 6,
   "metadata": {},
   "outputs": [
    {
     "name": "stdout",
     "output_type": "stream",
     "text": [
      "2\n",
      "3\n"
     ]
    }
   ],
   "source": [
    "a = 1\n",
    "def f(x):\n",
    "\treturn x+a\n",
    "print(f(1))\n",
    "a = 2\n",
    "print(f(1))"
   ]
  },
  {
   "cell_type": "markdown",
   "metadata": {},
   "source": [
    "## 4. <a id='toc4_'></a>[Functions and scope](#toc0_)"
   ]
  },
  {
   "cell_type": "code",
   "execution_count": null,
   "metadata": {},
   "outputs": [
    {
     "name": "stdout",
     "output_type": "stream",
     "text": [
      "2\n",
      "3\n"
     ]
    }
   ],
   "source": [
    "a = 1\n",
    "def f(x):\n",
    "\treturn x+a\n",
    "print(f(1))\n",
    "a = 2\n",
    "print(f(1))"
   ]
  },
  {
   "cell_type": "markdown",
   "metadata": {},
   "source": [
    "## 5. <a id='toc5_'></a>[Conditionals and loops](#toc0_)"
   ]
  },
  {
   "cell_type": "code",
   "execution_count": 7,
   "metadata": {},
   "outputs": [],
   "source": [
    "x0 = 1\n",
    "n = 4\n",
    "evaluate = lambda x: 0.5*x\n",
    "check = lambda y: y < 0.10\n",
    "update = lambda x,y: y\n",
    "\n",
    "x = x0\n",
    "for i in range(n):\n",
    "    y = evaluate(x)\n",
    "    if check(y): break\n",
    "    x = update(x,y)\n",
    "else:\n",
    "    raise ValueError('did not converge')"
   ]
  },
  {
   "cell_type": "code",
   "execution_count": 8,
   "metadata": {},
   "outputs": [],
   "source": [
    "x = x0\n",
    "i = 0\n",
    "while True:\n",
    "    y = evaluate(x)\n",
    "    if check(y): break\n",
    "    x = update(x,y)\n",
    "    i += 1\n",
    "    if i >= n:\n",
    "        raise ValueError('did not converge')"
   ]
  },
  {
   "cell_type": "markdown",
   "metadata": {},
   "source": [
    "## 6. <a id='toc6_'></a>[Decimal numbers are not exact](#toc0_)"
   ]
  },
  {
   "cell_type": "code",
   "execution_count": 9,
   "metadata": {},
   "outputs": [
    {
     "name": "stdout",
     "output_type": "stream",
     "text": [
      "False\n",
      "True\n"
     ]
    }
   ],
   "source": [
    "print(0.1 + 0.2 == 0.3)\n",
    "print(0.5 + 0.5 == 1.0)"
   ]
  },
  {
   "cell_type": "markdown",
   "metadata": {},
   "source": [
    "## 7. <a id='toc7_'></a>[Random numers](#toc0_)"
   ]
  },
  {
   "cell_type": "code",
   "execution_count": 10,
   "metadata": {},
   "outputs": [
    {
     "name": "stdout",
     "output_type": "stream",
     "text": [
      "True\n"
     ]
    }
   ],
   "source": [
    "print(np.isclose(0.1+0.2,0.3))"
   ]
  },
  {
   "cell_type": "code",
   "execution_count": 11,
   "metadata": {},
   "outputs": [
    {
     "name": "stdout",
     "output_type": "stream",
     "text": [
      "True\n",
      "True\n",
      "True\n"
     ]
    }
   ],
   "source": [
    "a = 1e-200*1e200*1e200*1e-200\n",
    "b = 1e-200*(1e200*1e200)*1e-200\n",
    "c = 1e200*(1e-200*1e-200)*1e200\n",
    "\n",
    "print(np.isclose(a,1.0))\n",
    "print(np.isinf(b))\n",
    "print(np.isclose(c,0.0))"
   ]
  },
  {
   "cell_type": "code",
   "execution_count": 12,
   "metadata": {},
   "outputs": [
    {
     "name": "stdout",
     "output_type": "stream",
     "text": [
      "[-0.98912135 -0.36778665  1.28792526  0.19397442  0.9202309 ]\n",
      "[ 0.57710379 -0.63646365  0.54195222 -0.31659545 -0.32238912]\n",
      "[-0.98912135 -0.36778665  1.28792526  0.19397442  0.9202309 ]\n"
     ]
    }
   ],
   "source": [
    "rng = np.random.default_rng(123)\n",
    "s = rng.bit_generator.state\n",
    "x = rng.normal(size=5)\n",
    "y = rng.normal(size=5)\n",
    "rng.bit_generator.state = s\n",
    "z = rng.normal(size=5)\n",
    "print(x)\n",
    "print(y)\n",
    "print(z)"
   ]
  },
  {
   "cell_type": "markdown",
   "metadata": {},
   "source": [
    "Old style:"
   ]
  },
  {
   "cell_type": "code",
   "execution_count": 13,
   "metadata": {},
   "outputs": [
    {
     "name": "stdout",
     "output_type": "stream",
     "text": [
      "[-1.0856306   0.99734545  0.2829785  -1.50629471 -0.57860025]\n",
      "[ 1.65143654 -2.42667924 -0.42891263  1.26593626 -0.8667404 ]\n",
      "[-1.0856306   0.99734545  0.2829785  -1.50629471 -0.57860025]\n"
     ]
    }
   ],
   "source": [
    "np.random.seed(123)\n",
    "s = np.random.get_state()\n",
    "x = np.random.normal(size=5)\n",
    "y = np.random.normal(size=5)\n",
    "np.random.set_state(s)\n",
    "z = np.random.normal(size=5)\n",
    "print(x)    \n",
    "print(y)\n",
    "print(z)"
   ]
  }
 ],
 "metadata": {
  "kernelspec": {
   "display_name": "base",
   "language": "python",
   "name": "python3"
  },
  "language_info": {
   "codemirror_mode": {
    "name": "ipython",
    "version": 3
   },
   "file_extension": ".py",
   "mimetype": "text/x-python",
   "name": "python",
   "nbconvert_exporter": "python",
   "pygments_lexer": "ipython3",
   "version": "3.12.4"
  }
 },
 "nbformat": 4,
 "nbformat_minor": 2
}
