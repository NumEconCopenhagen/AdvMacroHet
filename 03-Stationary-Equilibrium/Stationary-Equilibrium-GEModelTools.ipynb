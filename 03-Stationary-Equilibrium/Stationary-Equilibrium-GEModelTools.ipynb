{
 "cells": [
  {
   "cell_type": "markdown",
   "metadata": {},
   "source": [
    "# Stationary Equilibrium"
   ]
  },
  {
   "cell_type": "markdown",
   "metadata": {},
   "source": [
    "**Table of contents**<a id='toc0_'></a>    \n",
    "- 1. [Setup](#toc1_)    \n",
    "- 2. [Solve household problem](#toc2_)    \n",
    "- 3. [Find stationary equilibrium](#toc3_)    \n",
    "  - 3.1. [Direct approach](#toc3_1_)    \n",
    "  - 3.2. [Finding beta approach](#toc3_2_)    \n",
    "  - 3.3. [Indirect approach](#toc3_3_)    \n",
    "  - 3.4. [Looking at the stationary equilibrium](#toc3_4_)    \n",
    "    - 3.4.1. [Policy functions](#toc3_4_1_)    \n",
    "    - 3.4.2. [Distributions](#toc3_4_2_)    \n",
    "- 4. [Idiosyncratic risk and the steady state interest rate](#toc4_)    \n",
    "- 5. [Calibration](#toc5_)    \n",
    "- 6. [Extra: Demand vs. supply of capital](#toc6_)    \n",
    "\n",
    "<!-- vscode-jupyter-toc-config\n",
    "\tnumbering=true\n",
    "\tanchor=true\n",
    "\tflat=false\n",
    "\tminLevel=2\n",
    "\tmaxLevel=6\n",
    "\t/vscode-jupyter-toc-config -->\n",
    "<!-- THIS CELL WILL BE REPLACED ON TOC UPDATE. DO NOT WRITE YOUR TEXT IN THIS CELL -->"
   ]
  },
  {
   "cell_type": "markdown",
   "metadata": {},
   "source": [
    "**Contents:**\n",
    "\n",
    "1. Introduces the `GEModelTools`\n",
    "1. Solves and simulates a simple **Heterogenous Agent Neo-Classical (HANC) model**"
   ]
  },
  {
   "cell_type": "code",
   "execution_count": 156,
   "metadata": {},
   "outputs": [
    {
     "name": "stdout",
     "output_type": "stream",
     "text": [
      "The autoreload extension is already loaded. To reload it, use:\n",
      "  %reload_ext autoreload\n"
     ]
    }
   ],
   "source": [
    "%load_ext autoreload\n",
    "%autoreload 2\n",
    "\n",
    "import time\n",
    "import pickle\n",
    "import numpy as np\n",
    "from scipy import optimize\n",
    "\n",
    "import matplotlib.pyplot as plt   \n",
    "colors = plt.rcParams['axes.prop_cycle'].by_key()['color']\n",
    "plt.rcParams.update({\"axes.grid\" : True, \"grid.color\": \"black\", \"grid.alpha\":\"0.25\", \"grid.linestyle\": \"--\"})\n",
    "plt.rcParams.update({'font.size': 14})\n",
    "\n",
    "from HANCModel import HANCModelClass"
   ]
  },
  {
   "cell_type": "markdown",
   "metadata": {},
   "source": [
    "## 1. <a id='toc1_'></a>[Setup](#toc0_)"
   ]
  },
  {
   "cell_type": "code",
   "execution_count": 157,
   "metadata": {},
   "outputs": [],
   "source": [
    "model = HANCModelClass(name='baseline') # create an instance of the model"
   ]
  },
  {
   "cell_type": "code",
   "execution_count": 158,
   "metadata": {},
   "outputs": [],
   "source": [
    "par = model.par\n",
    "ss = model.ss"
   ]
  },
  {
   "cell_type": "markdown",
   "metadata": {},
   "source": [
    "**Pause:** Take a look at `.par` and `.ss`"
   ]
  },
  {
   "cell_type": "markdown",
   "metadata": {},
   "source": [
    "**Question I:** Where does the variable names in `.ss` come from?"
   ]
  },
  {
   "cell_type": "markdown",
   "metadata": {},
   "source": [
    "**Question II:** What explains the shapes below?"
   ]
  },
  {
   "cell_type": "code",
   "execution_count": 159,
   "metadata": {},
   "outputs": [
    {
     "name": "stdout",
     "output_type": "stream",
     "text": [
      "(1, 7, 500)\n",
      "(1, 7, 500)\n",
      "(1, 7, 7)\n"
     ]
    }
   ],
   "source": [
    "print(ss.a.shape)\n",
    "print(ss.D.shape)\n",
    "print(ss.z_trans.shape)"
   ]
  },
  {
   "cell_type": "markdown",
   "metadata": {},
   "source": [
    "## 2. <a id='toc2_'></a>[Solve household problem](#toc0_)"
   ]
  },
  {
   "cell_type": "markdown",
   "metadata": {},
   "source": [
    "Set the steady state values, which matter for the household:"
   ]
  },
  {
   "cell_type": "code",
   "execution_count": 160,
   "metadata": {},
   "outputs": [],
   "source": [
    "ss.r = 0.01\n",
    "ss.w = 1.00"
   ]
  },
  {
   "cell_type": "markdown",
   "metadata": {},
   "source": [
    "**Solve the household problem** with `.solve_hh_ss()`:\n",
    "    \n",
    "1. Calls `.prepare_hh_ss()`\n",
    "1. Calls `.solve_backwards_hh()` until convergence"
   ]
  },
  {
   "cell_type": "code",
   "execution_count": 161,
   "metadata": {},
   "outputs": [
    {
     "name": "stdout",
     "output_type": "stream",
     "text": [
      "household problem in ss solved in 0.0 secs [170 iterations]\n"
     ]
    }
   ],
   "source": [
    "model.solve_hh_ss(do_print=True)"
   ]
  },
  {
   "cell_type": "code",
   "execution_count": 162,
   "metadata": {},
   "outputs": [
    {
     "name": "stdout",
     "output_type": "stream",
     "text": [
      "household problem in ss simulated in 0.0 secs [36 iterations]\n"
     ]
    }
   ],
   "source": [
    "model.simulate_hh_ss(do_print=True)"
   ]
  },
  {
   "cell_type": "markdown",
   "metadata": {},
   "source": [
    "**Aggregate savings:**"
   ]
  },
  {
   "cell_type": "code",
   "execution_count": 163,
   "metadata": {},
   "outputs": [
    {
     "data": {
      "text/plain": [
       "2.893543559983936e-06"
      ]
     },
     "execution_count": 163,
     "metadata": {},
     "output_type": "execute_result"
    }
   ],
   "source": [
    "np.sum(ss.a*ss.D)"
   ]
  },
  {
   "cell_type": "markdown",
   "metadata": {},
   "source": [
    "## 3. <a id='toc3_'></a>[Find stationary equilibrium](#toc0_)"
   ]
  },
  {
   "cell_type": "markdown",
   "metadata": {},
   "source": [
    "### 3.1. <a id='toc3_1_'></a>[Direct approach](#toc0_)"
   ]
  },
  {
   "cell_type": "code",
   "execution_count": 164,
   "metadata": {},
   "outputs": [
    {
     "name": "stdout",
     "output_type": "stream",
     "text": [
      "### step 1: broad search ###\n",
      "\n",
      "guess ss.K = 1.0000\n",
      "implied ss.r = 0.1767\n",
      "implied ss.w = 0.4200\n",
      "household problem in ss solved in 0.1 secs [521 iterations]\n",
      "household problem in ss simulated in 0.0 secs [88 iterations]\n",
      "implied ss.A_hh = 11177.1548\n",
      "clearing_A = -11176.15481758\n",
      "\n",
      "guess ss.K = 2.0000\n",
      "implied ss.r = 0.0990\n",
      "implied ss.w = 0.5291\n",
      "household problem in ss solved in 0.1 secs [513 iterations]\n",
      "household problem in ss simulated in 0.0 secs [213 iterations]\n",
      "implied ss.A_hh = 10439.0152\n",
      "clearing_A = -10437.01521980\n",
      "\n",
      "guess ss.K = 3.0000\n",
      "implied ss.r = 0.0676\n",
      "implied ss.w = 0.6057\n",
      "household problem in ss solved in 0.1 secs [512 iterations]\n",
      "household problem in ss simulated in 0.0 secs [821 iterations]\n",
      "implied ss.A_hh = 10141.2859\n",
      "clearing_A = -10138.28591570\n",
      "\n",
      "guess ss.K = 4.0000\n",
      "implied ss.r = 0.0500\n",
      "implied ss.w = 0.6667\n",
      "household problem in ss solved in 0.1 secs [511 iterations]\n",
      "household problem in ss simulated in 0.1 secs [2704 iterations]\n",
      "implied ss.A_hh = 4.0000\n",
      "clearing_A =   0.00001257\n",
      "\n",
      "guess ss.K = 5.0000\n",
      "implied ss.r = 0.0385\n",
      "implied ss.w = 0.7181\n",
      "household problem in ss solved in 0.1 secs [476 iterations]\n",
      "household problem in ss simulated in 0.0 secs [341 iterations]\n",
      "implied ss.A_hh = 0.2167\n",
      "clearing_A =   4.78333230\n",
      "\n",
      "guess ss.K = 6.0000\n",
      "implied ss.r = 0.0303\n",
      "implied ss.w = 0.7631\n",
      "household problem in ss solved in 0.0 secs [343 iterations]\n",
      "household problem in ss simulated in 0.0 secs [181 iterations]\n",
      "implied ss.A_hh = 0.0403\n",
      "clearing_A =   5.95973989\n",
      "\n",
      "guess ss.K = 7.0000\n",
      "implied ss.r = 0.0241\n",
      "implied ss.w = 0.8034\n",
      "household problem in ss solved in 0.0 secs [276 iterations]\n",
      "household problem in ss simulated in 0.0 secs [122 iterations]\n",
      "implied ss.A_hh = 0.0095\n",
      "clearing_A =   6.99048720\n",
      "\n",
      "guess ss.K = 8.0000\n",
      "implied ss.r = 0.0192\n",
      "implied ss.w = 0.8399\n",
      "household problem in ss solved in 0.0 secs [235 iterations]\n",
      "household problem in ss simulated in 0.0 secs [96 iterations]\n",
      "implied ss.A_hh = 0.0028\n",
      "clearing_A =   7.99715197\n",
      "\n",
      "guess ss.K = 9.0000\n",
      "implied ss.r = 0.0152\n",
      "implied ss.w = 0.8736\n",
      "household problem in ss solved in 0.0 secs [206 iterations]\n",
      "household problem in ss simulated in 0.0 secs [75 iterations]\n",
      "implied ss.A_hh = 0.0009\n",
      "clearing_A =   8.99908907\n",
      "\n",
      "guess ss.K = 10.0000\n",
      "implied ss.r = 0.0119\n",
      "implied ss.w = 0.9048\n",
      "household problem in ss solved in 0.0 secs [184 iterations]\n",
      "household problem in ss simulated in 0.0 secs [46 iterations]\n",
      "implied ss.A_hh = 0.0002\n",
      "clearing_A =   9.99980983\n",
      "\n",
      "### step 2: determine search bracket ###\n",
      "\n",
      "K in [  3.00000000,  4.00000000]\n",
      "\n",
      "### step 3: search ###\n",
      "\n",
      "  0: K_ss =   4.00000000 -> A-A_hh =   0.00001254\n",
      "  1: K_ss =   3.99999949 -> A-A_hh =   0.00000000\n",
      "  2: K_ss =   3.99999949 -> A-A_hh =  -0.00000000\n",
      "\n",
      "K_ss =   3.99999949 [A-A_hh =   0.00000000]\n",
      "\n",
      "found steady state in 1.3 secs\n"
     ]
    }
   ],
   "source": [
    "model.find_ss(method='direct',do_print=True)"
   ]
  },
  {
   "cell_type": "markdown",
   "metadata": {},
   "source": [
    "**Look at the steady state variables:**"
   ]
  },
  {
   "cell_type": "code",
   "execution_count": 165,
   "metadata": {},
   "outputs": [
    {
     "name": "stdout",
     "output_type": "stream",
     "text": [
      "Gamma          : 0.6300\n",
      "K              : 4.0000\n",
      "L              : 1.0000\n",
      "rK             : 0.0833\n",
      "w              : 0.6667\n",
      "Y              : 1.0000\n",
      "A              : 4.0000\n",
      "r              : 0.0500\n",
      "A_hh           : 4.0000\n",
      "C_hh           : 0.8667\n",
      "L_hh           : 1.0000\n",
      "I              : 0.1333\n",
      "clearing_A     : 0.0000\n",
      "clearing_L     : 0.0000\n",
      "clearing_Y     : 0.0000\n"
     ]
    }
   ],
   "source": [
    "for varname in model.varlist:\n",
    "    print(f'{varname:15s}: {ss.__dict__[varname]:.4f}')\n",
    "    "
   ]
  },
  {
   "cell_type": "code",
   "execution_count": 166,
   "metadata": {},
   "outputs": [
    {
     "name": "stdout",
     "output_type": "stream",
     "text": [
      "settings:\n",
      " par.py_hh = True\n",
      " par.py_blocks = True\n",
      " par.full_z_trans = False\n",
      " par.warnings = True\n",
      " par.T = 500\n",
      "\n",
      "households:\n",
      " grids_hh: [a]\n",
      " pols_hh: [a]\n",
      " inputs_hh: [r,w]\n",
      " inputs_hh_z: []\n",
      " outputs_hh: [a,c,l]\n",
      " intertemps_hh: [vbeg_a]\n",
      "\n",
      "aggregate:\n",
      " shocks: []\n",
      " unknowns: []\n",
      " targets: []\n",
      "\n",
      "blocks (inputs -> outputs):\n",
      " production_firm: [] -> [Gamma=0.63,K=4.00,L=1.00,rK=0.08,w=0.67,Y=1.00]\n",
      " mutual_fund: [K=4.00,rK=0.08] -> [A=4.00,r=0.05]\n",
      " hh: [r=0.05,w=0.67] -> [A_hh=4.00,C_hh=0.87,L_hh=1.00]\n",
      " market_clearing: [A=4.00,A_hh=4.00,L=1.00,L_hh=1.00,Y=1.00,C_hh=0.87,K=4.00] -> [I=0.13,clearing_A=0.00,clearing_L=0.00,clearing_Y=0.00]\n"
     ]
    }
   ],
   "source": [
    "model.info(ss=True)"
   ]
  },
  {
   "cell_type": "markdown",
   "metadata": {},
   "source": [
    "### 3.2. <a id='toc3_2_'></a>[Finding beta approach](#toc0_)"
   ]
  },
  {
   "cell_type": "code",
   "execution_count": 167,
   "metadata": {},
   "outputs": [
    {
     "name": "stdout",
     "output_type": "stream",
     "text": [
      "household problem in ss solved in 0.1 secs [308 iterations]\n",
      "household problem in ss simulated in 0.0 secs [166 iterations]\n",
      "implied ss.A_hh = 0.0214\n",
      "household problem in ss solved in 0.1 secs [512 iterations]\n",
      "household problem in ss simulated in 0.1 secs [2852 iterations]\n",
      "implied ss.A_hh = 4.2250\n",
      "household problem in ss solved in 0.1 secs [502 iterations]\n",
      "household problem in ss simulated in 0.1 secs [1850 iterations]\n",
      "implied ss.A_hh = 2.6568\n",
      "household problem in ss solved in 0.1 secs [511 iterations]\n",
      "household problem in ss simulated in 0.1 secs [2654 iterations]\n",
      "implied ss.A_hh = 3.9244\n",
      "household problem in ss solved in 0.1 secs [511 iterations]\n",
      "household problem in ss simulated in 0.1 secs [2702 iterations]\n",
      "implied ss.A_hh = 3.9968\n",
      "household problem in ss solved in 0.1 secs [511 iterations]\n",
      "household problem in ss simulated in 0.1 secs [2704 iterations]\n",
      "implied ss.A_hh = 4.0000\n",
      "household problem in ss solved in 0.1 secs [511 iterations]\n",
      "household problem in ss simulated in 0.1 secs [2704 iterations]\n",
      "implied ss.A_hh = 4.0000\n",
      "household problem in ss solved in 0.1 secs [511 iterations]\n",
      "household problem in ss simulated in 0.1 secs [2704 iterations]\n",
      "implied ss.A_hh = 4.0000\n",
      "household problem in ss solved in 0.1 secs [511 iterations]\n",
      "household problem in ss simulated in 0.1 secs [2704 iterations]\n",
      "implied ss.A_hh = 4.0000\n",
      "found steady state in 1.1 secs\n",
      "0.9498866874132476\n"
     ]
    }
   ],
   "source": [
    "model.find_ss(method='beta', do_print=True)\n",
    "print(model.par.beta)"
   ]
  },
  {
   "cell_type": "markdown",
   "metadata": {},
   "source": [
    "### 3.3. <a id='toc3_3_'></a>[Indirect approach](#toc0_)"
   ]
  },
  {
   "cell_type": "code",
   "execution_count": 168,
   "metadata": {},
   "outputs": [
    {
     "name": "stdout",
     "output_type": "stream",
     "text": [
      "household problem in ss solved in 0.1 secs [511 iterations]\n",
      "household problem in ss simulated in 0.1 secs [2705 iterations]\n",
      "\n",
      "Implied K =  2.001\n",
      "Implied Y =  0.500\n",
      "Implied Gamma =  0.397\n",
      "Implied delta =  0.033\n",
      "Implied K/Y =  4.002\n",
      "Discrepancy in K-A_hh =   0.00000000\n",
      "Discrepancy in Y-L_hh-I =   0.00000000\n",
      "\n",
      "found steady state in 0.1 secs\n"
     ]
    }
   ],
   "source": [
    "model.find_ss(method='indirect',do_print=True)"
   ]
  },
  {
   "cell_type": "markdown",
   "metadata": {},
   "source": [
    "**Question:** What are the pros and cons of those three methods?"
   ]
  },
  {
   "cell_type": "markdown",
   "metadata": {},
   "source": [
    "### 3.4. <a id='toc3_4_'></a>[Looking at the stationary equilibrium](#toc0_)"
   ]
  },
  {
   "cell_type": "markdown",
   "metadata": {},
   "source": [
    "#### 3.4.1. <a id='toc3_4_1_'></a>[Policy functions](#toc0_)"
   ]
  },
  {
   "cell_type": "code",
   "execution_count": 169,
   "metadata": {},
   "outputs": [
    {
     "data": {
      "image/png": "[encoded data removed]",
      "text/plain": [
       "<Figure size 1200x400 with 2 Axes>"
      ]
     },
     "metadata": {},
     "output_type": "display_data"
    }
   ],
   "source": [
    "fig = plt.figure(figsize=(12,4),dpi=100)\n",
    "\n",
    "I = par.a_grid < 500\n",
    "\n",
    "# a. consumption\n",
    "ax = fig.add_subplot(1,2,1)\n",
    "ax.set_title(f'consumption')\n",
    "\n",
    "for i_z,z in enumerate(par.z_grid):\n",
    "    if i_z%3 == 0 or i_z == par.Nz-1:\n",
    "        ax.plot(par.a_grid[I],ss.c[0,i_z,I],label=f'z = {z:.2f}')\n",
    "\n",
    "ax.legend(frameon=True)\n",
    "ax.set_xlabel('savings, $a_{t-1}$')\n",
    "ax.set_ylabel('consumption, $c_t$')\n",
    "ax.set_xlim(0,100)\n",
    "ax.set_ylim(0,5)\n",
    "\n",
    "# b. saving\n",
    "ax = fig.add_subplot(1,2,2)\n",
    "ax.set_title(f'saving')\n",
    "\n",
    "for i_z,z in enumerate(par.z_grid):\n",
    "    if i_z%3 == 0 or i_z == par.Nz-1:\n",
    "        ax.plot(par.a_grid[I],ss.a[0,i_z,I]-par.a_grid[I],label=f'z = {z:.2f}')\n",
    "\n",
    "ax.set_xlabel('savings, $a_{t-1}$')\n",
    "ax.set_ylabel('savings change, $a_{t}-a_{t-1}$')\n",
    "ax.set_xlim(0,100)\n",
    "ax.set_ylim(-3,1)\n",
    "\n",
    "fig.tight_layout()\n",
    "fig.savefig(f'tex/figs/c_func.pdf')"
   ]
  },
  {
   "cell_type": "markdown",
   "metadata": {},
   "source": [
    "#### 3.4.2. <a id='toc3_4_2_'></a>[Distributions](#toc0_)"
   ]
  },
  {
   "cell_type": "code",
   "execution_count": 170,
   "metadata": {},
   "outputs": [
    {
     "data": {
      "image/png": "[encoded data removed]",
      "text/plain": [
       "<Figure size 1200x400 with 2 Axes>"
      ]
     },
     "metadata": {},
     "output_type": "display_data"
    }
   ],
   "source": [
    "fig = plt.figure(figsize=(12,4),dpi=100)\n",
    "\n",
    "# a. income\n",
    "ax = fig.add_subplot(1,2,1)\n",
    "ax.set_title('productivity')\n",
    "for i_beta,beta in enumerate(par.beta_grid):\n",
    "    ax.plot(par.z_grid,np.cumsum(np.sum(ss.D[i_beta],axis=1))*par.Nfix,label=f'$\\\\beta = {beta:.4f}$')\n",
    "\n",
    "ax.set_xlabel('productivity, $z_{t}$')\n",
    "ax.set_ylabel('CDF')\n",
    "ax.legend()\n",
    "\n",
    "# b. assets\n",
    "ax = fig.add_subplot(1,2,2)\n",
    "ax.set_title('savings')\n",
    "for i_beta in range(par.Nfix):\n",
    "    ax.plot(np.insert(par.a_grid,0,par.a_grid[0]),np.insert(np.cumsum(np.sum(ss.D[i_beta],axis=0)),0,0.0)*par.Nfix,label=f'$\\\\beta = {par.beta_grid[i_beta]:.4f}$')\n",
    "ax.set_xlabel('assets, $a_{t}$')\n",
    "ax.set_ylabel('CDF')\n",
    "ax.set_xscale('symlog')\n",
    "\n",
    "fig.tight_layout()\n",
    "fig.savefig('tex/figs/distribution.pdf')"
   ]
  },
  {
   "cell_type": "markdown",
   "metadata": {},
   "source": [
    "**Income moments:**"
   ]
  },
  {
   "cell_type": "code",
   "execution_count": 171,
   "metadata": {},
   "outputs": [
    {
     "name": "stdout",
     "output_type": "stream",
     "text": [
      "mean z:  1.00\n",
      "std. z:  0.30\n"
     ]
    }
   ],
   "source": [
    "mean_z = np.sum(ss.D*par.z_grid[:,np.newaxis])\n",
    "std_z = np.sqrt(np.sum(ss.D*(par.z_grid[np.newaxis,:,np.newaxis]-mean_z)**2))\n",
    "print(f'mean z: {mean_z:5.2f}')\n",
    "print(f'std. z: {std_z:5.2f}')"
   ]
  },
  {
   "cell_type": "code",
   "execution_count": null,
   "metadata": {},
   "outputs": [],
   "source": []
  },
  {
   "cell_type": "markdown",
   "metadata": {},
   "source": [
    "**Asset moments:**"
   ]
  },
  {
   "cell_type": "code",
   "execution_count": 172,
   "metadata": {},
   "outputs": [
    {
     "name": "stdout",
     "output_type": "stream",
     "text": [
      "mean a:  2.001\n",
      "p25  a:  0.275\n",
      "p50  a:  1.285\n",
      "p95  a:  6.339\n",
      "p99  a:  9.103\n",
      "std. a:  2.168\n"
     ]
    }
   ],
   "source": [
    "# a. prepare\n",
    "Da = np.sum(ss.D,axis=(0,1))\n",
    "Da_cs = np.cumsum(Da)\n",
    "mean_a = np.sum(Da*par.a_grid)\n",
    "std_a = np.sqrt(np.sum(Da*(par.a_grid-mean_a)**2))\n",
    "\n",
    "def percentile(par,Da_cs,p):\n",
    "    \n",
    "    # a. check first\n",
    "    if p < Da_cs[0]: return par.a_grid[0]\n",
    "    \n",
    "    # b. find with loop\n",
    "    i = 0\n",
    "    while True:\n",
    "        if p > Da_cs[i+1]:\n",
    "            if i+1 >= par.Na: raise Exception()\n",
    "            i += 1\n",
    "            continue\n",
    "        else:\n",
    "            w = (p-Da_cs[i])/(Da_cs[i+1]-Da_cs[i])\n",
    "            diff = par.a_grid[i+1]-par.a_grid[i]\n",
    "            return par.a_grid[i]+w*diff\n",
    "        \n",
    "p25_a = percentile(par,Da_cs,0.25)\n",
    "p50_a = percentile(par,Da_cs,0.50)\n",
    "p95_a = percentile(par,Da_cs,0.95)\n",
    "p99_a = percentile(par,Da_cs,0.99)\n",
    "\n",
    "# b. print\n",
    "print(f'mean a: {mean_a:6.3f}')\n",
    "print(f'p25  a: {p25_a:6.3f}')\n",
    "print(f'p50  a: {p50_a:6.3f}')\n",
    "print(f'p95  a: {p95_a:6.3f}')\n",
    "print(f'p99  a: {p99_a:6.3f}')\n",
    "print(f'std. a: {std_a:6.3f}')"
   ]
  },
  {
   "cell_type": "markdown",
   "metadata": {},
   "source": [
    "**MPC:**"
   ]
  },
  {
   "cell_type": "code",
   "execution_count": 173,
   "metadata": {},
   "outputs": [
    {
     "name": "stdout",
     "output_type": "stream",
     "text": [
      "mean MPC: 0.125\n"
     ]
    }
   ],
   "source": [
    "def calc_MPC(par,ss):\n",
    "    \n",
    "    MPC = np.zeros(ss.D.shape)\n",
    "    dc = (ss.c[:,:,1:]-ss.c[:,:,:-1])\n",
    "    dm = (1+model.ss.r)*par.a_grid[np.newaxis,np.newaxis,1:]-(1+model.ss.r)*par.a_grid[np.newaxis,np.newaxis,:-1]\n",
    "    MPC[:,:,:-1] = dc/dm\n",
    "    MPC[:,:,-1] = MPC[:,:,-1] # assuming constant MPC at end\n",
    "    mean_MPC = np.sum(MPC*ss.D)\n",
    "    return mean_MPC\n",
    "\n",
    "mean_MPC = calc_MPC(par,ss)\n",
    "print(f'mean MPC: {mean_MPC:.3f}')"
   ]
  },
  {
   "cell_type": "markdown",
   "metadata": {},
   "source": [
    "**Question:** What is the correlation between income and savings?"
   ]
  },
  {
   "cell_type": "markdown",
   "metadata": {},
   "source": [
    "## 4. <a id='toc4_'></a>[Idiosyncratic risk and the steady state interest rate](#toc0_)"
   ]
  },
  {
   "cell_type": "code",
   "execution_count": 174,
   "metadata": {},
   "outputs": [
    {
     "name": "stdout",
     "output_type": "stream",
     "text": [
      "ss.A_hh = ss.K = 2.00\n",
      "ss.r = 5.00 %\n",
      "\n",
      "sigma_psi = 0.09\n",
      "PE A_hh = 2.00\n",
      "GE ss.r = 5.00 %\n",
      "GE ss.A_hh = ss.K = 4.00\n",
      "\n",
      "sigma_psi = 0.12\n",
      "PE A_hh = 3.15\n",
      "GE ss.r = 4.87 %\n",
      "GE ss.A_hh = ss.K = 4.10\n",
      "\n",
      "sigma_psi = 0.14\n",
      "PE A_hh = 4.43\n",
      "GE ss.r = 4.72 %\n",
      "GE ss.A_hh = ss.K = 4.21\n",
      "\n",
      "sigma_psi = 0.16\n",
      "PE A_hh = 5.78\n",
      "GE ss.r = 4.56 %\n",
      "GE ss.A_hh = ss.K = 4.34\n",
      "\n",
      "sigma_psi = 0.19\n",
      "PE A_hh = 7.18\n",
      "GE ss.r = 4.39 %\n",
      "GE ss.A_hh = ss.K = 4.49\n",
      "\n"
     ]
    }
   ],
   "source": [
    "print(f'ss.A_hh = ss.K = {ss.A_hh:.2f}')\n",
    "print(f'ss.r = {ss.r*100:.2f} %')\n",
    "print('')\n",
    "      \n",
    "for sigma_psi in np.linspace(par.sigma_psi,2*par.sigma_psi,5):\n",
    "    \n",
    "    print(f'{sigma_psi = :.2f}')\n",
    "\n",
    "    model_ = model.copy()\n",
    "    model_.par.sigma_psi = sigma_psi\n",
    "        \n",
    "    model_.solve_hh_ss(do_print=False)\n",
    "    model_.simulate_hh_ss(do_print=False)\n",
    "    \n",
    "    A_hh = np.sum(model_.ss.a*model_.ss.D)\n",
    "    \n",
    "    print(f'PE {A_hh = :.2f}')\n",
    "          \n",
    "    model_.find_ss(method='direct', K_min = 0.4, K_max = 20.0)\n",
    "\n",
    "    print(f'GE ss.r = {model_.ss.r*100:.2f} %')\n",
    "    print(f'GE ss.A_hh = ss.K = {model_.ss.A_hh:.2f}')\n",
    "\n",
    "    print('')"
   ]
  },
  {
   "cell_type": "markdown",
   "metadata": {},
   "source": [
    "## 5. <a id='toc5_'></a>[Calibration](#toc0_)"
   ]
  },
  {
   "cell_type": "markdown",
   "metadata": {},
   "source": [
    "Choose `beta_mean` to get chosen average MPC."
   ]
  },
  {
   "cell_type": "code",
   "execution_count": 175,
   "metadata": {},
   "outputs": [],
   "source": [
    "\n",
    "from root_finding import brentq\n",
    "from steady_state import find_ss_beta"
   ]
  },
  {
   "cell_type": "code",
   "execution_count": 176,
   "metadata": {},
   "outputs": [],
   "source": [
    "def calib_obj(K,model):\n",
    "    \"\"\" calibration objective \"\"\"\n",
    "    \n",
    "    \n",
    "    find_ss_beta(model, K_target=K, do_print=False)\n",
    "    \n",
    "    mean_MPC = calc_MPC(model.par,model.ss)\n",
    "    print(mean_MPC)\n",
    "    \n",
    "    return mean_MPC-0.27"
   ]
  },
  {
   "cell_type": "code",
   "execution_count": 177,
   "metadata": {},
   "outputs": [
    {
     "name": "stdout",
     "output_type": "stream",
     "text": [
      "0.30846308701516334\n",
      "0.14070352085338914\n",
      "0.23932649643126694\n",
      "  0: K =   1.68782522 -> MPC-0.27 =  -0.03067350\n",
      "0.2644938004479032\n",
      "  1: K =   1.38266107 -> MPC-0.27 =  -0.00550620\n",
      "0.270090571251264\n",
      "  2: K =   1.32425694 -> MPC-0.27 =   0.00009057\n",
      "0.26999733263246556\n",
      "  3: K =   1.32520208 -> MPC-0.27 =  -0.00000267\n",
      "0.2699999986876894\n",
      "  4: K =   1.32517505 -> MPC-0.27 =  -0.00000000\n",
      "0.2700000000000016\n",
      "  5: K =   1.32517503 -> MPC-0.27 =   0.00000000\n",
      "\n",
      "K =   1.32517503 [MPC-0.27 =   0.00000000]\n",
      "\n",
      "0.2700000000000016\n"
     ]
    }
   ],
   "source": [
    "model_calib = model.copy()\n",
    "brentq(calib_obj,1.0,4.0,args=(model_calib,),do_print=True,varname='K',funcname='MPC-0.27',xtol=1e-8,rtol=1e-8);"
   ]
  },
  {
   "cell_type": "code",
   "execution_count": 178,
   "metadata": {},
   "outputs": [
    {
     "name": "stdout",
     "output_type": "stream",
     "text": [
      "ss.r = 5.00 %\n",
      "ss.K = 1.33\n",
      "K/Y = 1.33\n"
     ]
    }
   ],
   "source": [
    "print(f'ss.r = {model_calib.ss.r*100:.2f} %')\n",
    "print(f'ss.K = {model_calib.ss.K:.2f}')\n",
    "print(f'K/Y = {(model_calib.ss.K / model_calib.ss.Y):.2f}')"
   ]
  },
  {
   "cell_type": "markdown",
   "metadata": {},
   "source": [
    "## 6. <a id='toc6_'></a>[Extra: Demand vs. supply of capital](#toc0_)"
   ]
  },
  {
   "cell_type": "code",
   "execution_count": 179,
   "metadata": {},
   "outputs": [
    {
     "name": "stdout",
     "output_type": "stream",
     "text": [
      "r_ss =  0.0400\n",
      "K_firm_demand =  2.4239\n",
      "w_ss =  0.3553\n",
      "household problem in ss solved in 0.1 secs [504 iterations]\n",
      "household problem in ss simulated in 0.0 secs [396 iterations]\n",
      "K_hh_supply =  0.1486\n",
      "clearing_A = -2.2753\n",
      "\n",
      "r_ss =  0.0420\n",
      "K_firm_demand =  2.3280\n",
      "w_ss =  0.3506\n",
      "household problem in ss solved in 0.1 secs [509 iterations]\n",
      "household problem in ss simulated in 0.0 secs [494 iterations]\n",
      "K_hh_supply =  0.2266\n",
      "clearing_A = -2.1014\n",
      "\n",
      "r_ss =  0.0440\n",
      "K_firm_demand =  2.2382\n",
      "w_ss =  0.3460\n",
      "household problem in ss solved in 0.1 secs [511 iterations]\n",
      "household problem in ss simulated in 0.0 secs [646 iterations]\n",
      "K_hh_supply =  0.3521\n",
      "clearing_A = -1.8861\n",
      "\n",
      "r_ss =  0.0460\n",
      "K_firm_demand =  2.1541\n",
      "w_ss =  0.3416\n",
      "household problem in ss solved in 0.1 secs [511 iterations]\n",
      "household problem in ss simulated in 0.0 secs [902 iterations]\n",
      "K_hh_supply =  0.5688\n",
      "clearing_A = -1.5853\n",
      "\n",
      "r_ss =  0.0480\n",
      "K_firm_demand =  2.0751\n",
      "w_ss =  0.3374\n",
      "household problem in ss solved in 0.1 secs [511 iterations]\n",
      "household problem in ss simulated in 0.0 secs [1402 iterations]\n",
      "K_hh_supply =  0.9881\n",
      "clearing_A = -1.0870\n",
      "\n",
      "r_ss =  0.0500\n",
      "K_firm_demand =  2.0008\n",
      "w_ss =  0.3333\n",
      "household problem in ss solved in 0.1 secs [511 iterations]\n",
      "household problem in ss simulated in 0.1 secs [2705 iterations]\n",
      "K_hh_supply =  2.0008\n",
      "clearing_A =  0.0000\n",
      "\n",
      "r_ss =  0.0520\n",
      "K_firm_demand =  1.9308\n",
      "w_ss =  0.3294\n",
      "household problem in ss solved in 0.1 secs [511 iterations]\n",
      "household problem in ss simulated in 0.3 secs [10716 iterations]\n",
      "K_hh_supply =  7.0317\n",
      "clearing_A =  5.1009\n",
      "\n"
     ]
    }
   ],
   "source": [
    "# allocate\n",
    "Nr_ss = 7\n",
    "r_ss_min = 0.04\n",
    "r_ss_max = 0.052\n",
    "r_ss_vec = np.linspace(r_ss_min,r_ss_max,Nr_ss)\n",
    "\n",
    "K_hh_supply = np.zeros(Nr_ss)\n",
    "K_firm_demand = np.zeros(Nr_ss)\n",
    "\n",
    "# calculate\n",
    "for i,r_ss in enumerate(r_ss_vec):\n",
    "    \n",
    "    print(f'{r_ss = :7.4f}')\n",
    "          \n",
    "    model_ = model.copy()\n",
    "    model_.ss.r = r_ss\n",
    "    \n",
    "    # a. firms\n",
    "    K_firm_demand[i] = ((r_ss+par.delta)/(par.alpha*ss.Gamma))**(1/(par.alpha-1))\n",
    "    print(f'K_firm_demand = {K_firm_demand[i]:7.4f}')\n",
    "    \n",
    "    w_ss = model_.ss.w = (1.0-par.alpha)*ss.Gamma*(K_firm_demand[i]/ss.L)**par.alpha\n",
    "\n",
    "    print(f'{w_ss = :7.4f}')\n",
    "\n",
    "    # b. households\n",
    "    model_.solve_hh_ss(do_print=True)\n",
    "    model_.simulate_hh_ss(do_print=True)\n",
    "    \n",
    "    K_hh_supply[i] = np.sum(model_.ss.a*model_.ss.D)\n",
    "    print(f'K_hh_supply = {K_hh_supply[i]:7.4f}')\n",
    "          \n",
    "    # c. clearing\n",
    "    clearing_A = K_hh_supply[i]-K_firm_demand[i]\n",
    "    print(f'{clearing_A = :7.4f}\\n')\n",
    "    "
   ]
  },
  {
   "cell_type": "code",
   "execution_count": 180,
   "metadata": {},
   "outputs": [
    {
     "data": {
      "image/png": "[encoded data removed]",
      "text/plain": [
       "<Figure size 600x400 with 1 Axes>"
      ]
     },
     "metadata": {},
     "output_type": "display_data"
    }
   ],
   "source": [
    "fig = plt.figure(figsize=(6,6/1.5),dpi=100)\n",
    "ax = fig.add_subplot(1,1,1)\n",
    "\n",
    "ax.axvline(ss.r,color='black')\n",
    "ax.axhline(ss.K,color='black')\n",
    "\n",
    "ax.plot(r_ss_vec,K_hh_supply,'-o',label='hh supply')\n",
    "ax.plot(r_ss_vec,K_firm_demand,'-o',label='firm demand')\n",
    "\n",
    "ax.set_xlabel('$r_{ss}$')\n",
    "ax.set_ylabel('$K_{ss}$')\n",
    "ax.legend(frameon=True);"
   ]
  },
  {
   "cell_type": "code",
   "execution_count": null,
   "metadata": {},
   "outputs": [],
   "source": []
  },
  {
   "cell_type": "code",
   "execution_count": null,
   "metadata": {},
   "outputs": [],
   "source": []
  }
 ],
 "metadata": {
  "kernelspec": {
   "display_name": "base",
   "language": "python",
   "name": "python3"
  },
  "language_info": {
   "codemirror_mode": {
    "name": "ipython",
    "version": 3
   },
   "file_extension": ".py",
   "mimetype": "text/x-python",
   "name": "python",
   "nbconvert_exporter": "python",
   "pygments_lexer": "ipython3",
   "version": "3.12.2"
  },
  "toc-autonumbering": true
 },
 "nbformat": 4,
 "nbformat_minor": 4
}
